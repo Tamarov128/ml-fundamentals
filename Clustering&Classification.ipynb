{
 "cells": [
  {
   "cell_type": "markdown",
   "metadata": {},
   "source": [
    "<h1><center>Clustering & Classification Techniques</center></h1>"
   ]
  },
  {
   "cell_type": "code",
   "execution_count": 112,
   "metadata": {},
   "outputs": [],
   "source": [
    "import pandas as pd\n",
    "import numpy as np\n",
    "import seaborn as sns\n",
    "import matplotlib.pyplot as plt\n",
    "import plotly.express as px"
   ]
  },
  {
   "cell_type": "markdown",
   "metadata": {},
   "source": [
    "# Clustering with K-Means (Unsupervised Learning)\n",
    "Choose relevant numerical features (after preprocessing and normalization) to cluster movies using K-Means. You may need to engineer or reduce features for better clustering."
   ]
  },
  {
   "cell_type": "markdown",
   "metadata": {},
   "source": [
    "## Steps to follow:\n",
    "- Analyze clustering by group of \"logical\" features:\n",
    "\n",
    "  - by financial metrics (e.g., gross, budget, runtime).  \n",
    "\n",
    "  - by quality metrics (e.g., IMDB rating, Meta score).  \n",
    "\n",
    "  - by popularity + genre (requires encoding categorical variables).  \n",
    "  \n",
    "  - or others based on previous analysis.\n",
    "  \n",
    "- Preprocess data: handle missing values, normalize features.  \n",
    "  \n",
    "- Use the Elbow Method and Silhouette Score to determine the optimal number of clusters (k).  \n",
    "  \n",
    "- Fit the K-Means algorithm and label each movie with its cluster.  \n",
    "  \n",
    "- Visualize the clusters in 2D using dimensionality reduction.  \n",
    "  \n",
    "- Interpret cluster profiles: what makes each group of movies unique?"
   ]
  },
  {
   "cell_type": "markdown",
   "metadata": {},
   "source": [
    "## Import data"
   ]
  },
  {
   "cell_type": "code",
   "execution_count": 59,
   "metadata": {},
   "outputs": [
    {
     "name": "stdout",
     "output_type": "stream",
     "text": [
      "Dataset Overview:\n"
     ]
    },
    {
     "data": {
      "text/html": [
       "<div>\n",
       "<style scoped>\n",
       "    .dataframe tbody tr th:only-of-type {\n",
       "        vertical-align: middle;\n",
       "    }\n",
       "\n",
       "    .dataframe tbody tr th {\n",
       "        vertical-align: top;\n",
       "    }\n",
       "\n",
       "    .dataframe thead th {\n",
       "        text-align: right;\n",
       "    }\n",
       "</style>\n",
       "<table border=\"1\" class=\"dataframe\">\n",
       "  <thead>\n",
       "    <tr style=\"text-align: right;\">\n",
       "      <th></th>\n",
       "      <th>Released_Year</th>\n",
       "      <th>Certificate</th>\n",
       "      <th>Runtime</th>\n",
       "      <th>IMDB_Rating</th>\n",
       "      <th>Meta_score</th>\n",
       "      <th>No_of_Votes</th>\n",
       "      <th>Gross</th>\n",
       "      <th>Drama</th>\n",
       "      <th>Crime</th>\n",
       "      <th>Action</th>\n",
       "      <th>...</th>\n",
       "      <th>Comedy</th>\n",
       "      <th>Thriller</th>\n",
       "      <th>Animation</th>\n",
       "      <th>Family</th>\n",
       "      <th>War</th>\n",
       "      <th>Mystery</th>\n",
       "      <th>Musical</th>\n",
       "      <th>Horror</th>\n",
       "      <th>Film-Noir</th>\n",
       "      <th>Sport</th>\n",
       "    </tr>\n",
       "  </thead>\n",
       "  <tbody>\n",
       "    <tr>\n",
       "      <th>count</th>\n",
       "      <td>990.000000</td>\n",
       "      <td>990.000000</td>\n",
       "      <td>9.900000e+02</td>\n",
       "      <td>990.000000</td>\n",
       "      <td>990.000000</td>\n",
       "      <td>9.900000e+02</td>\n",
       "      <td>9.900000e+02</td>\n",
       "      <td>990.000000</td>\n",
       "      <td>990.000000</td>\n",
       "      <td>990.000000</td>\n",
       "      <td>...</td>\n",
       "      <td>990.000000</td>\n",
       "      <td>990.000000</td>\n",
       "      <td>990.000000</td>\n",
       "      <td>990.000000</td>\n",
       "      <td>990.000000</td>\n",
       "      <td>990.000000</td>\n",
       "      <td>990.000000</td>\n",
       "      <td>990.000000</td>\n",
       "      <td>990.000000</td>\n",
       "      <td>990.000000</td>\n",
       "    </tr>\n",
       "    <tr>\n",
       "      <th>mean</th>\n",
       "      <td>0.713212</td>\n",
       "      <td>3.852525</td>\n",
       "      <td>-2.009616e-16</td>\n",
       "      <td>0.204635</td>\n",
       "      <td>0.691260</td>\n",
       "      <td>3.875688e-16</td>\n",
       "      <td>1.004808e-16</td>\n",
       "      <td>0.722222</td>\n",
       "      <td>0.208081</td>\n",
       "      <td>0.189899</td>\n",
       "      <td>...</td>\n",
       "      <td>0.234343</td>\n",
       "      <td>0.138384</td>\n",
       "      <td>0.082828</td>\n",
       "      <td>0.056566</td>\n",
       "      <td>0.051515</td>\n",
       "      <td>0.100000</td>\n",
       "      <td>0.046465</td>\n",
       "      <td>0.032323</td>\n",
       "      <td>0.019192</td>\n",
       "      <td>0.019192</td>\n",
       "    </tr>\n",
       "    <tr>\n",
       "      <th>std</th>\n",
       "      <td>0.232535</td>\n",
       "      <td>2.016231</td>\n",
       "      <td>1.000505e+00</td>\n",
       "      <td>0.162237</td>\n",
       "      <td>0.162120</td>\n",
       "      <td>1.000505e+00</td>\n",
       "      <td>1.000505e+00</td>\n",
       "      <td>0.448130</td>\n",
       "      <td>0.406140</td>\n",
       "      <td>0.392419</td>\n",
       "      <td>...</td>\n",
       "      <td>0.423802</td>\n",
       "      <td>0.345477</td>\n",
       "      <td>0.275762</td>\n",
       "      <td>0.231128</td>\n",
       "      <td>0.221158</td>\n",
       "      <td>0.300152</td>\n",
       "      <td>0.210596</td>\n",
       "      <td>0.176947</td>\n",
       "      <td>0.137268</td>\n",
       "      <td>0.137268</td>\n",
       "    </tr>\n",
       "    <tr>\n",
       "      <th>min</th>\n",
       "      <td>0.000000</td>\n",
       "      <td>1.000000</td>\n",
       "      <td>-2.983369e+00</td>\n",
       "      <td>0.000000</td>\n",
       "      <td>0.000000</td>\n",
       "      <td>-1.582520e+00</td>\n",
       "      <td>-4.107568e+00</td>\n",
       "      <td>0.000000</td>\n",
       "      <td>0.000000</td>\n",
       "      <td>0.000000</td>\n",
       "      <td>...</td>\n",
       "      <td>0.000000</td>\n",
       "      <td>0.000000</td>\n",
       "      <td>0.000000</td>\n",
       "      <td>0.000000</td>\n",
       "      <td>0.000000</td>\n",
       "      <td>0.000000</td>\n",
       "      <td>0.000000</td>\n",
       "      <td>0.000000</td>\n",
       "      <td>0.000000</td>\n",
       "      <td>0.000000</td>\n",
       "    </tr>\n",
       "    <tr>\n",
       "      <th>25%</th>\n",
       "      <td>0.560000</td>\n",
       "      <td>2.000000</td>\n",
       "      <td>-7.587360e-01</td>\n",
       "      <td>0.058824</td>\n",
       "      <td>0.597222</td>\n",
       "      <td>-8.786551e-01</td>\n",
       "      <td>-5.822599e-01</td>\n",
       "      <td>0.000000</td>\n",
       "      <td>0.000000</td>\n",
       "      <td>0.000000</td>\n",
       "      <td>...</td>\n",
       "      <td>0.000000</td>\n",
       "      <td>0.000000</td>\n",
       "      <td>0.000000</td>\n",
       "      <td>0.000000</td>\n",
       "      <td>0.000000</td>\n",
       "      <td>0.000000</td>\n",
       "      <td>0.000000</td>\n",
       "      <td>0.000000</td>\n",
       "      <td>0.000000</td>\n",
       "      <td>0.000000</td>\n",
       "    </tr>\n",
       "    <tr>\n",
       "      <th>50%</th>\n",
       "      <td>0.790000</td>\n",
       "      <td>5.000000</td>\n",
       "      <td>-1.078610e-01</td>\n",
       "      <td>0.176471</td>\n",
       "      <td>0.694444</td>\n",
       "      <td>-6.103701e-02</td>\n",
       "      <td>2.783395e-01</td>\n",
       "      <td>1.000000</td>\n",
       "      <td>0.000000</td>\n",
       "      <td>0.000000</td>\n",
       "      <td>...</td>\n",
       "      <td>0.000000</td>\n",
       "      <td>0.000000</td>\n",
       "      <td>0.000000</td>\n",
       "      <td>0.000000</td>\n",
       "      <td>0.000000</td>\n",
       "      <td>0.000000</td>\n",
       "      <td>0.000000</td>\n",
       "      <td>0.000000</td>\n",
       "      <td>0.000000</td>\n",
       "      <td>0.000000</td>\n",
       "    </tr>\n",
       "    <tr>\n",
       "      <th>75%</th>\n",
       "      <td>0.890000</td>\n",
       "      <td>6.000000</td>\n",
       "      <td>5.527286e-01</td>\n",
       "      <td>0.294118</td>\n",
       "      <td>0.805556</td>\n",
       "      <td>8.293642e-01</td>\n",
       "      <td>7.504032e-01</td>\n",
       "      <td>1.000000</td>\n",
       "      <td>0.000000</td>\n",
       "      <td>0.000000</td>\n",
       "      <td>...</td>\n",
       "      <td>0.000000</td>\n",
       "      <td>0.000000</td>\n",
       "      <td>0.000000</td>\n",
       "      <td>0.000000</td>\n",
       "      <td>0.000000</td>\n",
       "      <td>0.000000</td>\n",
       "      <td>0.000000</td>\n",
       "      <td>0.000000</td>\n",
       "      <td>0.000000</td>\n",
       "      <td>0.000000</td>\n",
       "    </tr>\n",
       "    <tr>\n",
       "      <th>max</th>\n",
       "      <td>1.000000</td>\n",
       "      <td>6.000000</td>\n",
       "      <td>3.311662e+00</td>\n",
       "      <td>1.000000</td>\n",
       "      <td>1.000000</td>\n",
       "      <td>2.456971e+00</td>\n",
       "      <td>1.740106e+00</td>\n",
       "      <td>1.000000</td>\n",
       "      <td>1.000000</td>\n",
       "      <td>1.000000</td>\n",
       "      <td>...</td>\n",
       "      <td>1.000000</td>\n",
       "      <td>1.000000</td>\n",
       "      <td>1.000000</td>\n",
       "      <td>1.000000</td>\n",
       "      <td>1.000000</td>\n",
       "      <td>1.000000</td>\n",
       "      <td>1.000000</td>\n",
       "      <td>1.000000</td>\n",
       "      <td>1.000000</td>\n",
       "      <td>1.000000</td>\n",
       "    </tr>\n",
       "  </tbody>\n",
       "</table>\n",
       "<p>8 rows × 27 columns</p>\n",
       "</div>"
      ],
      "text/plain": [
       "       Released_Year  Certificate       Runtime  IMDB_Rating  Meta_score  \\\n",
       "count     990.000000   990.000000  9.900000e+02   990.000000  990.000000   \n",
       "mean        0.713212     3.852525 -2.009616e-16     0.204635    0.691260   \n",
       "std         0.232535     2.016231  1.000505e+00     0.162237    0.162120   \n",
       "min         0.000000     1.000000 -2.983369e+00     0.000000    0.000000   \n",
       "25%         0.560000     2.000000 -7.587360e-01     0.058824    0.597222   \n",
       "50%         0.790000     5.000000 -1.078610e-01     0.176471    0.694444   \n",
       "75%         0.890000     6.000000  5.527286e-01     0.294118    0.805556   \n",
       "max         1.000000     6.000000  3.311662e+00     1.000000    1.000000   \n",
       "\n",
       "        No_of_Votes         Gross       Drama       Crime      Action  ...  \\\n",
       "count  9.900000e+02  9.900000e+02  990.000000  990.000000  990.000000  ...   \n",
       "mean   3.875688e-16  1.004808e-16    0.722222    0.208081    0.189899  ...   \n",
       "std    1.000505e+00  1.000505e+00    0.448130    0.406140    0.392419  ...   \n",
       "min   -1.582520e+00 -4.107568e+00    0.000000    0.000000    0.000000  ...   \n",
       "25%   -8.786551e-01 -5.822599e-01    0.000000    0.000000    0.000000  ...   \n",
       "50%   -6.103701e-02  2.783395e-01    1.000000    0.000000    0.000000  ...   \n",
       "75%    8.293642e-01  7.504032e-01    1.000000    0.000000    0.000000  ...   \n",
       "max    2.456971e+00  1.740106e+00    1.000000    1.000000    1.000000  ...   \n",
       "\n",
       "           Comedy    Thriller   Animation      Family         War     Mystery  \\\n",
       "count  990.000000  990.000000  990.000000  990.000000  990.000000  990.000000   \n",
       "mean     0.234343    0.138384    0.082828    0.056566    0.051515    0.100000   \n",
       "std      0.423802    0.345477    0.275762    0.231128    0.221158    0.300152   \n",
       "min      0.000000    0.000000    0.000000    0.000000    0.000000    0.000000   \n",
       "25%      0.000000    0.000000    0.000000    0.000000    0.000000    0.000000   \n",
       "50%      0.000000    0.000000    0.000000    0.000000    0.000000    0.000000   \n",
       "75%      0.000000    0.000000    0.000000    0.000000    0.000000    0.000000   \n",
       "max      1.000000    1.000000    1.000000    1.000000    1.000000    1.000000   \n",
       "\n",
       "          Musical      Horror   Film-Noir       Sport  \n",
       "count  990.000000  990.000000  990.000000  990.000000  \n",
       "mean     0.046465    0.032323    0.019192    0.019192  \n",
       "std      0.210596    0.176947    0.137268    0.137268  \n",
       "min      0.000000    0.000000    0.000000    0.000000  \n",
       "25%      0.000000    0.000000    0.000000    0.000000  \n",
       "50%      0.000000    0.000000    0.000000    0.000000  \n",
       "75%      0.000000    0.000000    0.000000    0.000000  \n",
       "max      1.000000    1.000000    1.000000    1.000000  \n",
       "\n",
       "[8 rows x 27 columns]"
      ]
     },
     "execution_count": 59,
     "metadata": {},
     "output_type": "execute_result"
    }
   ],
   "source": [
    "# Import normalized data\n",
    "\n",
    "df = pd.read_csv(\"C:\\\\Users\\\\Elena\\\\OneDrive - Universitatea Babeş-Bolyai\\\\AI UBB - Semester 4\\\\Fundamentals of Machine Learning\\\\Assignments\\\\assignment1\\\\processed_data.csv\")\n",
    "\n",
    "print(\"Dataset Overview:\")\n",
    "df.describe()"
   ]
  },
  {
   "cell_type": "markdown",
   "metadata": {},
   "source": [
    "## Data preprocessing"
   ]
  },
  {
   "cell_type": "code",
   "execution_count": 60,
   "metadata": {},
   "outputs": [
    {
     "data": {
      "text/plain": [
       "0    0.0\n",
       "1    0.0\n",
       "2    0.8\n",
       "3    0.0\n",
       "4    1.0\n",
       "Name: Certificate, dtype: float64"
      ]
     },
     "execution_count": 60,
     "metadata": {},
     "output_type": "execute_result"
    }
   ],
   "source": [
    "# Normalize Certificate column\n",
    "from sklearn.preprocessing import MinMaxScaler\n",
    "\n",
    "min_max_scaler = MinMaxScaler()\n",
    "df['Certificate'] = min_max_scaler.fit_transform(df[['Certificate']])\n",
    "df['Certificate'].head()"
   ]
  },
  {
   "cell_type": "code",
   "execution_count": 61,
   "metadata": {},
   "outputs": [
    {
     "data": {
      "text/plain": [
       "0    4.904967\n",
       "1    4.542206\n",
       "2    3.816685\n",
       "3    3.816685\n",
       "4    3.816685\n",
       "Name: IMDB_Rating, dtype: float64"
      ]
     },
     "execution_count": 61,
     "metadata": {},
     "output_type": "execute_result"
    }
   ],
   "source": [
    "# Standardize IMDB_Rating column\n",
    "from sklearn.preprocessing import StandardScaler\n",
    "\n",
    "standard_scaler = StandardScaler()\n",
    "df['IMDB_Rating'] = standard_scaler.fit_transform(df[['IMDB_Rating']])\n",
    "df['IMDB_Rating'].head()"
   ]
  },
  {
   "cell_type": "code",
   "execution_count": 83,
   "metadata": {},
   "outputs": [
    {
     "data": {
      "text/html": [
       "<div>\n",
       "<style scoped>\n",
       "    .dataframe tbody tr th:only-of-type {\n",
       "        vertical-align: middle;\n",
       "    }\n",
       "\n",
       "    .dataframe tbody tr th {\n",
       "        vertical-align: top;\n",
       "    }\n",
       "\n",
       "    .dataframe thead th {\n",
       "        text-align: right;\n",
       "    }\n",
       "</style>\n",
       "<table border=\"1\" class=\"dataframe\">\n",
       "  <thead>\n",
       "    <tr style=\"text-align: right;\">\n",
       "      <th></th>\n",
       "      <th>Released_Year</th>\n",
       "      <th>Certificate</th>\n",
       "      <th>Runtime</th>\n",
       "      <th>IMDB_Rating</th>\n",
       "      <th>Meta_score</th>\n",
       "      <th>No_of_Votes</th>\n",
       "      <th>Gross</th>\n",
       "      <th>Drama</th>\n",
       "      <th>Crime</th>\n",
       "      <th>Action</th>\n",
       "      <th>...</th>\n",
       "      <th>Thriller</th>\n",
       "      <th>Animation</th>\n",
       "      <th>Family</th>\n",
       "      <th>War</th>\n",
       "      <th>Mystery</th>\n",
       "      <th>Musical</th>\n",
       "      <th>Horror</th>\n",
       "      <th>Film-Noir</th>\n",
       "      <th>Sport</th>\n",
       "      <th>Kmeans_cluster</th>\n",
       "    </tr>\n",
       "  </thead>\n",
       "  <tbody>\n",
       "    <tr>\n",
       "      <th>count</th>\n",
       "      <td>990.000000</td>\n",
       "      <td>990.000000</td>\n",
       "      <td>9.900000e+02</td>\n",
       "      <td>9.900000e+02</td>\n",
       "      <td>990.000000</td>\n",
       "      <td>9.900000e+02</td>\n",
       "      <td>9.900000e+02</td>\n",
       "      <td>990.000000</td>\n",
       "      <td>990.000000</td>\n",
       "      <td>990.000000</td>\n",
       "      <td>...</td>\n",
       "      <td>990.000000</td>\n",
       "      <td>990.000000</td>\n",
       "      <td>990.000000</td>\n",
       "      <td>990.000000</td>\n",
       "      <td>990.000000</td>\n",
       "      <td>990.000000</td>\n",
       "      <td>990.000000</td>\n",
       "      <td>990.000000</td>\n",
       "      <td>990.000000</td>\n",
       "      <td>990.000000</td>\n",
       "    </tr>\n",
       "    <tr>\n",
       "      <th>mean</th>\n",
       "      <td>0.713212</td>\n",
       "      <td>0.570505</td>\n",
       "      <td>-2.009616e-16</td>\n",
       "      <td>-1.148352e-16</td>\n",
       "      <td>0.691260</td>\n",
       "      <td>3.875688e-16</td>\n",
       "      <td>1.004808e-16</td>\n",
       "      <td>0.722222</td>\n",
       "      <td>0.208081</td>\n",
       "      <td>0.189899</td>\n",
       "      <td>...</td>\n",
       "      <td>0.138384</td>\n",
       "      <td>0.082828</td>\n",
       "      <td>0.056566</td>\n",
       "      <td>0.051515</td>\n",
       "      <td>0.100000</td>\n",
       "      <td>0.046465</td>\n",
       "      <td>0.032323</td>\n",
       "      <td>0.019192</td>\n",
       "      <td>0.019192</td>\n",
       "      <td>1.592929</td>\n",
       "    </tr>\n",
       "    <tr>\n",
       "      <th>std</th>\n",
       "      <td>0.232535</td>\n",
       "      <td>0.403246</td>\n",
       "      <td>1.000505e+00</td>\n",
       "      <td>1.000505e+00</td>\n",
       "      <td>0.162120</td>\n",
       "      <td>1.000505e+00</td>\n",
       "      <td>1.000505e+00</td>\n",
       "      <td>0.448130</td>\n",
       "      <td>0.406140</td>\n",
       "      <td>0.392419</td>\n",
       "      <td>...</td>\n",
       "      <td>0.345477</td>\n",
       "      <td>0.275762</td>\n",
       "      <td>0.231128</td>\n",
       "      <td>0.221158</td>\n",
       "      <td>0.300152</td>\n",
       "      <td>0.210596</td>\n",
       "      <td>0.176947</td>\n",
       "      <td>0.137268</td>\n",
       "      <td>0.137268</td>\n",
       "      <td>1.026913</td>\n",
       "    </tr>\n",
       "    <tr>\n",
       "      <th>min</th>\n",
       "      <td>0.000000</td>\n",
       "      <td>0.000000</td>\n",
       "      <td>-2.983369e+00</td>\n",
       "      <td>-1.261968e+00</td>\n",
       "      <td>0.000000</td>\n",
       "      <td>-1.582520e+00</td>\n",
       "      <td>-4.107568e+00</td>\n",
       "      <td>0.000000</td>\n",
       "      <td>0.000000</td>\n",
       "      <td>0.000000</td>\n",
       "      <td>...</td>\n",
       "      <td>0.000000</td>\n",
       "      <td>0.000000</td>\n",
       "      <td>0.000000</td>\n",
       "      <td>0.000000</td>\n",
       "      <td>0.000000</td>\n",
       "      <td>0.000000</td>\n",
       "      <td>0.000000</td>\n",
       "      <td>0.000000</td>\n",
       "      <td>0.000000</td>\n",
       "      <td>0.000000</td>\n",
       "    </tr>\n",
       "    <tr>\n",
       "      <th>25%</th>\n",
       "      <td>0.560000</td>\n",
       "      <td>0.200000</td>\n",
       "      <td>-7.587360e-01</td>\n",
       "      <td>-8.992074e-01</td>\n",
       "      <td>0.597222</td>\n",
       "      <td>-8.786551e-01</td>\n",
       "      <td>-5.822599e-01</td>\n",
       "      <td>0.000000</td>\n",
       "      <td>0.000000</td>\n",
       "      <td>0.000000</td>\n",
       "      <td>...</td>\n",
       "      <td>0.000000</td>\n",
       "      <td>0.000000</td>\n",
       "      <td>0.000000</td>\n",
       "      <td>0.000000</td>\n",
       "      <td>0.000000</td>\n",
       "      <td>0.000000</td>\n",
       "      <td>0.000000</td>\n",
       "      <td>0.000000</td>\n",
       "      <td>0.000000</td>\n",
       "      <td>1.000000</td>\n",
       "    </tr>\n",
       "    <tr>\n",
       "      <th>50%</th>\n",
       "      <td>0.790000</td>\n",
       "      <td>0.800000</td>\n",
       "      <td>-1.078610e-01</td>\n",
       "      <td>-1.736855e-01</td>\n",
       "      <td>0.694444</td>\n",
       "      <td>-6.103701e-02</td>\n",
       "      <td>2.783395e-01</td>\n",
       "      <td>1.000000</td>\n",
       "      <td>0.000000</td>\n",
       "      <td>0.000000</td>\n",
       "      <td>...</td>\n",
       "      <td>0.000000</td>\n",
       "      <td>0.000000</td>\n",
       "      <td>0.000000</td>\n",
       "      <td>0.000000</td>\n",
       "      <td>0.000000</td>\n",
       "      <td>0.000000</td>\n",
       "      <td>0.000000</td>\n",
       "      <td>0.000000</td>\n",
       "      <td>0.000000</td>\n",
       "      <td>2.000000</td>\n",
       "    </tr>\n",
       "    <tr>\n",
       "      <th>75%</th>\n",
       "      <td>0.890000</td>\n",
       "      <td>1.000000</td>\n",
       "      <td>5.527286e-01</td>\n",
       "      <td>5.518363e-01</td>\n",
       "      <td>0.805556</td>\n",
       "      <td>8.293642e-01</td>\n",
       "      <td>7.504032e-01</td>\n",
       "      <td>1.000000</td>\n",
       "      <td>0.000000</td>\n",
       "      <td>0.000000</td>\n",
       "      <td>...</td>\n",
       "      <td>0.000000</td>\n",
       "      <td>0.000000</td>\n",
       "      <td>0.000000</td>\n",
       "      <td>0.000000</td>\n",
       "      <td>0.000000</td>\n",
       "      <td>0.000000</td>\n",
       "      <td>0.000000</td>\n",
       "      <td>0.000000</td>\n",
       "      <td>0.000000</td>\n",
       "      <td>2.000000</td>\n",
       "    </tr>\n",
       "    <tr>\n",
       "      <th>max</th>\n",
       "      <td>1.000000</td>\n",
       "      <td>1.000000</td>\n",
       "      <td>3.311662e+00</td>\n",
       "      <td>4.904967e+00</td>\n",
       "      <td>1.000000</td>\n",
       "      <td>2.456971e+00</td>\n",
       "      <td>1.740106e+00</td>\n",
       "      <td>1.000000</td>\n",
       "      <td>1.000000</td>\n",
       "      <td>1.000000</td>\n",
       "      <td>...</td>\n",
       "      <td>1.000000</td>\n",
       "      <td>1.000000</td>\n",
       "      <td>1.000000</td>\n",
       "      <td>1.000000</td>\n",
       "      <td>1.000000</td>\n",
       "      <td>1.000000</td>\n",
       "      <td>1.000000</td>\n",
       "      <td>1.000000</td>\n",
       "      <td>1.000000</td>\n",
       "      <td>3.000000</td>\n",
       "    </tr>\n",
       "  </tbody>\n",
       "</table>\n",
       "<p>8 rows × 28 columns</p>\n",
       "</div>"
      ],
      "text/plain": [
       "       Released_Year  Certificate       Runtime   IMDB_Rating  Meta_score  \\\n",
       "count     990.000000   990.000000  9.900000e+02  9.900000e+02  990.000000   \n",
       "mean        0.713212     0.570505 -2.009616e-16 -1.148352e-16    0.691260   \n",
       "std         0.232535     0.403246  1.000505e+00  1.000505e+00    0.162120   \n",
       "min         0.000000     0.000000 -2.983369e+00 -1.261968e+00    0.000000   \n",
       "25%         0.560000     0.200000 -7.587360e-01 -8.992074e-01    0.597222   \n",
       "50%         0.790000     0.800000 -1.078610e-01 -1.736855e-01    0.694444   \n",
       "75%         0.890000     1.000000  5.527286e-01  5.518363e-01    0.805556   \n",
       "max         1.000000     1.000000  3.311662e+00  4.904967e+00    1.000000   \n",
       "\n",
       "        No_of_Votes         Gross       Drama       Crime      Action  ...  \\\n",
       "count  9.900000e+02  9.900000e+02  990.000000  990.000000  990.000000  ...   \n",
       "mean   3.875688e-16  1.004808e-16    0.722222    0.208081    0.189899  ...   \n",
       "std    1.000505e+00  1.000505e+00    0.448130    0.406140    0.392419  ...   \n",
       "min   -1.582520e+00 -4.107568e+00    0.000000    0.000000    0.000000  ...   \n",
       "25%   -8.786551e-01 -5.822599e-01    0.000000    0.000000    0.000000  ...   \n",
       "50%   -6.103701e-02  2.783395e-01    1.000000    0.000000    0.000000  ...   \n",
       "75%    8.293642e-01  7.504032e-01    1.000000    0.000000    0.000000  ...   \n",
       "max    2.456971e+00  1.740106e+00    1.000000    1.000000    1.000000  ...   \n",
       "\n",
       "         Thriller   Animation      Family         War     Mystery     Musical  \\\n",
       "count  990.000000  990.000000  990.000000  990.000000  990.000000  990.000000   \n",
       "mean     0.138384    0.082828    0.056566    0.051515    0.100000    0.046465   \n",
       "std      0.345477    0.275762    0.231128    0.221158    0.300152    0.210596   \n",
       "min      0.000000    0.000000    0.000000    0.000000    0.000000    0.000000   \n",
       "25%      0.000000    0.000000    0.000000    0.000000    0.000000    0.000000   \n",
       "50%      0.000000    0.000000    0.000000    0.000000    0.000000    0.000000   \n",
       "75%      0.000000    0.000000    0.000000    0.000000    0.000000    0.000000   \n",
       "max      1.000000    1.000000    1.000000    1.000000    1.000000    1.000000   \n",
       "\n",
       "           Horror   Film-Noir       Sport  Kmeans_cluster  \n",
       "count  990.000000  990.000000  990.000000      990.000000  \n",
       "mean     0.032323    0.019192    0.019192        1.592929  \n",
       "std      0.176947    0.137268    0.137268        1.026913  \n",
       "min      0.000000    0.000000    0.000000        0.000000  \n",
       "25%      0.000000    0.000000    0.000000        1.000000  \n",
       "50%      0.000000    0.000000    0.000000        2.000000  \n",
       "75%      0.000000    0.000000    0.000000        2.000000  \n",
       "max      1.000000    1.000000    1.000000        3.000000  \n",
       "\n",
       "[8 rows x 28 columns]"
      ]
     },
     "execution_count": 83,
     "metadata": {},
     "output_type": "execute_result"
    }
   ],
   "source": [
    "df.describe()"
   ]
  },
  {
   "cell_type": "markdown",
   "metadata": {},
   "source": [
    "## Feature selection\n",
    "We cluster our data based on the following criteria:\n",
    "- Quality and popularity metrics: *'Gross', 'No_of_Votes', 'IMDB_Rating'*  \n",
    "  \n",
    "This measures the overall success of a movie and we expect to see movies with similar levels of quality and popularity in the same cluster."
   ]
  },
  {
   "cell_type": "code",
   "execution_count": 63,
   "metadata": {},
   "outputs": [
    {
     "data": {
      "text/html": [
       "<div>\n",
       "<style scoped>\n",
       "    .dataframe tbody tr th:only-of-type {\n",
       "        vertical-align: middle;\n",
       "    }\n",
       "\n",
       "    .dataframe tbody tr th {\n",
       "        vertical-align: top;\n",
       "    }\n",
       "\n",
       "    .dataframe thead th {\n",
       "        text-align: right;\n",
       "    }\n",
       "</style>\n",
       "<table border=\"1\" class=\"dataframe\">\n",
       "  <thead>\n",
       "    <tr style=\"text-align: right;\">\n",
       "      <th></th>\n",
       "      <th>No_of_Votes</th>\n",
       "      <th>Gross</th>\n",
       "      <th>IMDB_Rating</th>\n",
       "    </tr>\n",
       "  </thead>\n",
       "  <tbody>\n",
       "    <tr>\n",
       "      <th>0</th>\n",
       "      <td>2.456971</td>\n",
       "      <td>0.223012</td>\n",
       "      <td>4.904967</td>\n",
       "    </tr>\n",
       "    <tr>\n",
       "      <th>1</th>\n",
       "      <td>2.128575</td>\n",
       "      <td>0.899894</td>\n",
       "      <td>4.542206</td>\n",
       "    </tr>\n",
       "    <tr>\n",
       "      <th>2</th>\n",
       "      <td>2.441687</td>\n",
       "      <td>1.497093</td>\n",
       "      <td>3.816685</td>\n",
       "    </tr>\n",
       "    <tr>\n",
       "      <th>3</th>\n",
       "      <td>1.807612</td>\n",
       "      <td>0.528329</td>\n",
       "      <td>3.816685</td>\n",
       "    </tr>\n",
       "    <tr>\n",
       "      <th>4</th>\n",
       "      <td>1.368242</td>\n",
       "      <td>-0.588818</td>\n",
       "      <td>3.816685</td>\n",
       "    </tr>\n",
       "    <tr>\n",
       "      <th>...</th>\n",
       "      <td>...</td>\n",
       "      <td>...</td>\n",
       "      <td>...</td>\n",
       "    </tr>\n",
       "    <tr>\n",
       "      <th>985</th>\n",
       "      <td>0.102828</td>\n",
       "      <td>0.185829</td>\n",
       "      <td>-1.261968</td>\n",
       "    </tr>\n",
       "    <tr>\n",
       "      <th>986</th>\n",
       "      <td>-1.309917</td>\n",
       "      <td>0.914011</td>\n",
       "      <td>-1.261968</td>\n",
       "    </tr>\n",
       "    <tr>\n",
       "      <th>987</th>\n",
       "      <td>-1.095077</td>\n",
       "      <td>0.254846</td>\n",
       "      <td>-1.261968</td>\n",
       "    </tr>\n",
       "    <tr>\n",
       "      <th>988</th>\n",
       "      <td>-1.534743</td>\n",
       "      <td>-0.218828</td>\n",
       "      <td>-1.261968</td>\n",
       "    </tr>\n",
       "    <tr>\n",
       "      <th>989</th>\n",
       "      <td>-0.936100</td>\n",
       "      <td>0.872331</td>\n",
       "      <td>-1.261968</td>\n",
       "    </tr>\n",
       "  </tbody>\n",
       "</table>\n",
       "<p>990 rows × 3 columns</p>\n",
       "</div>"
      ],
      "text/plain": [
       "     No_of_Votes     Gross  IMDB_Rating\n",
       "0       2.456971  0.223012     4.904967\n",
       "1       2.128575  0.899894     4.542206\n",
       "2       2.441687  1.497093     3.816685\n",
       "3       1.807612  0.528329     3.816685\n",
       "4       1.368242 -0.588818     3.816685\n",
       "..           ...       ...          ...\n",
       "985     0.102828  0.185829    -1.261968\n",
       "986    -1.309917  0.914011    -1.261968\n",
       "987    -1.095077  0.254846    -1.261968\n",
       "988    -1.534743 -0.218828    -1.261968\n",
       "989    -0.936100  0.872331    -1.261968\n",
       "\n",
       "[990 rows x 3 columns]"
      ]
     },
     "execution_count": 63,
     "metadata": {},
     "output_type": "execute_result"
    }
   ],
   "source": [
    "# Select features used for K-clustering\n",
    "features_columns = ['No_of_Votes', 'Gross', 'IMDB_Rating']\n",
    "\n",
    "df_features = df[features_columns]\n",
    "df_features"
   ]
  },
  {
   "cell_type": "code",
   "execution_count": 64,
   "metadata": {},
   "outputs": [
    {
     "data": {
      "image/png": "[encoded data removed]",
      "text/plain": [
       "<Figure size 1000x600 with 4 Axes>"
      ]
     },
     "metadata": {},
     "output_type": "display_data"
    }
   ],
   "source": [
    "df[features_columns].hist(figsize=(10, 6), bins=30, edgecolor='black')\n",
    "\n",
    "plt.tight_layout()\n",
    "plt.show()"
   ]
  },
  {
   "cell_type": "markdown",
   "metadata": {},
   "source": [
    "## Determine the optimal number of clusters\n",
    "We use the Elbow Inertias and the Silhouette Scores to determine the optimal $k$."
   ]
  },
  {
   "cell_type": "markdown",
   "metadata": {},
   "source": [
    "**Elbow method**:  \n",
    "- Measures inertia: the sum of squared distances between each point and its cluster's centroid.  \n",
    "- As $k$ increases, inertia decreases — but after a point, the improvement drops off (like an elbow in a curve). -> Choose $k$ at the elbow point.  \n",
    "  \n",
    "**Silhouette score**:\n",
    "- Measure how well each point fits into its cluster.\n",
    "- Formula:\n",
    "  $$ s = \\frac{b-a}{max(a,b)} $$\n",
    "  $$ a = \\text{average distance to points in the same cluster} $$\n",
    "  $$ b = \\text{average distance to points in the nearest other cluster} $$\n",
    "- Score range: $1$ to $−1$. Higher is better. -> Choose $k$ that maximizes silhouette score."
   ]
  },
  {
   "cell_type": "code",
   "execution_count": 75,
   "metadata": {},
   "outputs": [
    {
     "data": {
      "image/png": "[encoded data removed]",
      "text/plain": [
       "<Figure size 1400x500 with 2 Axes>"
      ]
     },
     "metadata": {},
     "output_type": "display_data"
    }
   ],
   "source": [
    "# Plotting the Elbow Inertia and the Silhouette Scores\n",
    "from sklearn.cluster import KMeans\n",
    "from sklearn.metrics import silhouette_score\n",
    "\n",
    "# Range of clusters to try\n",
    "k_range = range(2, 10)\n",
    "\n",
    "# Store metrics\n",
    "inertias = []\n",
    "silhouette_scores = []\n",
    "\n",
    "# Loop through k values\n",
    "for k in k_range:\n",
    "  kmeans = KMeans(n_clusters=k, random_state=15)\n",
    "  labels = kmeans.fit_predict(df_features)\n",
    "\n",
    "  inertias.append(kmeans.inertia_)\n",
    "  silhouette_scores.append(silhouette_score(df_features, labels))\n",
    "\n",
    "# Plot both metrics\n",
    "fig, ax = plt.subplots(1, 2, figsize=(14, 5))\n",
    "\n",
    "# Elbow (Inertia)\n",
    "ax[0].plot(k_range, inertias, marker='o')\n",
    "ax[0].set_title('Elbow Method (Inertia)')\n",
    "ax[0].set_xlabel('Number of Clusters (k)')\n",
    "ax[0].set_ylabel('Inertia')\n",
    "ax[0].grid()\n",
    "\n",
    "# Silhouette Score\n",
    "ax[1].plot(k_range, silhouette_scores, marker='o', color='orange')\n",
    "ax[1].set_title('Silhouette Scores')\n",
    "ax[1].set_xlabel('Number of Clusters (k)')\n",
    "ax[1].set_ylabel('Silhouette Score')\n",
    "ax[1].grid()\n",
    "\n",
    "plt.tight_layout()\n",
    "plt.show()"
   ]
  },
  {
   "cell_type": "markdown",
   "metadata": {},
   "source": [
    "By analysing the two graphs, we can choose $k = 4$ to optimize the K-Clustering algorithm."
   ]
  },
  {
   "cell_type": "markdown",
   "metadata": {},
   "source": [
    "## Cluster and label data"
   ]
  },
  {
   "cell_type": "code",
   "execution_count": 76,
   "metadata": {},
   "outputs": [
    {
     "data": {
      "text/html": [
       "<div>\n",
       "<style scoped>\n",
       "    .dataframe tbody tr th:only-of-type {\n",
       "        vertical-align: middle;\n",
       "    }\n",
       "\n",
       "    .dataframe tbody tr th {\n",
       "        vertical-align: top;\n",
       "    }\n",
       "\n",
       "    .dataframe thead th {\n",
       "        text-align: right;\n",
       "    }\n",
       "</style>\n",
       "<table border=\"1\" class=\"dataframe\">\n",
       "  <thead>\n",
       "    <tr style=\"text-align: right;\">\n",
       "      <th></th>\n",
       "      <th>Series_Title</th>\n",
       "      <th>Kmeans_cluster</th>\n",
       "    </tr>\n",
       "  </thead>\n",
       "  <tbody>\n",
       "    <tr>\n",
       "      <th>0</th>\n",
       "      <td>The Shawshank Redemption</td>\n",
       "      <td>0</td>\n",
       "    </tr>\n",
       "    <tr>\n",
       "      <th>1</th>\n",
       "      <td>The Godfather</td>\n",
       "      <td>0</td>\n",
       "    </tr>\n",
       "    <tr>\n",
       "      <th>2</th>\n",
       "      <td>The Dark Knight</td>\n",
       "      <td>0</td>\n",
       "    </tr>\n",
       "    <tr>\n",
       "      <th>3</th>\n",
       "      <td>The Godfather: Part II</td>\n",
       "      <td>0</td>\n",
       "    </tr>\n",
       "    <tr>\n",
       "      <th>4</th>\n",
       "      <td>12 Angry Men</td>\n",
       "      <td>0</td>\n",
       "    </tr>\n",
       "    <tr>\n",
       "      <th>5</th>\n",
       "      <td>The Lord of the Rings: The Return of the King</td>\n",
       "      <td>0</td>\n",
       "    </tr>\n",
       "    <tr>\n",
       "      <th>6</th>\n",
       "      <td>Pulp Fiction</td>\n",
       "      <td>0</td>\n",
       "    </tr>\n",
       "    <tr>\n",
       "      <th>7</th>\n",
       "      <td>Schindler's List</td>\n",
       "      <td>0</td>\n",
       "    </tr>\n",
       "    <tr>\n",
       "      <th>8</th>\n",
       "      <td>Inception</td>\n",
       "      <td>0</td>\n",
       "    </tr>\n",
       "    <tr>\n",
       "      <th>9</th>\n",
       "      <td>Fight Club</td>\n",
       "      <td>0</td>\n",
       "    </tr>\n",
       "  </tbody>\n",
       "</table>\n",
       "</div>"
      ],
      "text/plain": [
       "                                    Series_Title  Kmeans_cluster\n",
       "0                       The Shawshank Redemption               0\n",
       "1                                  The Godfather               0\n",
       "2                                The Dark Knight               0\n",
       "3                         The Godfather: Part II               0\n",
       "4                                   12 Angry Men               0\n",
       "5  The Lord of the Rings: The Return of the King               0\n",
       "6                                   Pulp Fiction               0\n",
       "7                               Schindler's List               0\n",
       "8                                      Inception               0\n",
       "9                                     Fight Club               0"
      ]
     },
     "execution_count": 76,
     "metadata": {},
     "output_type": "execute_result"
    }
   ],
   "source": [
    "# Group data into 4 clusters, include the label in the dataframe\n",
    "kmeans = KMeans(n_clusters=4)\n",
    "kmeans.fit(df_features)\n",
    "\n",
    "clusters = kmeans.labels_\n",
    "df['Kmeans_cluster'] = clusters\n",
    "\n",
    "df[['Series_Title', 'Kmeans_cluster']].head(10)"
   ]
  },
  {
   "cell_type": "markdown",
   "metadata": {},
   "source": [
    "## Visualize the clusters in 2D space\n",
    "This is achieved through dimensionality reduction methods. Particularly, we will apply Principal Component Analysis to reduce the data to 2 categories and try to find meaningful insights."
   ]
  },
  {
   "cell_type": "code",
   "execution_count": 77,
   "metadata": {},
   "outputs": [
    {
     "name": "stdout",
     "output_type": "stream",
     "text": [
      "Principal components and features based on importance:\n",
      "PC1: No_of_Votes, Gross, IMDB_Rating\n",
      "PC2: IMDB_Rating, Gross, No_of_Votes\n"
     ]
    }
   ],
   "source": [
    "# Apply PCA to reduce features to 2\n",
    "from sklearn.decomposition import PCA\n",
    "\n",
    "pca = PCA(n_components=2)\n",
    "pca_transformed = pca.fit_transform(df_features)\n",
    "\n",
    "pc_importance = pd.DataFrame(\n",
    "  np.abs(pca.components_),\n",
    "  columns = df_features.select_dtypes(include=['number']).columns\n",
    ")\n",
    "\n",
    "print(\"Principal components and features based on importance:\")\n",
    "top_features_per_pc = pc_importance.apply(lambda x: x.nlargest(3).index.tolist(), axis=1)\n",
    "for idx, features in top_features_per_pc.items():\n",
    "  print(f\"PC{idx+1}: {', '.join(features)}\")\n",
    "    \n",
    "df_pca = pd.DataFrame(pca_transformed, columns = [\"PC1\", \"PC2\"])"
   ]
  },
  {
   "cell_type": "markdown",
   "metadata": {},
   "source": [
    "- The first principal feature is influenced more significantly by the No_of_Votes (which indicates higher popularity).\n",
    "- The second principal feature is influenced more by the IMDB_Rating (which indicates higher movie quality)."
   ]
  },
  {
   "cell_type": "code",
   "execution_count": 95,
   "metadata": {},
   "outputs": [
    {
     "data": {
      "application/vnd.plotly.v1+json": {
       "config": {
        "plotlyServerURL": "https://plot.ly"
       },
       "data": [
        {
         "customdata": [
          [
           "The Shawshank Redemption"
          ],
          [
           "The Godfather"
          ],
          [
           "The Dark Knight"
          ],
          [
           "The Godfather: Part II"
          ],
          [
           "12 Angry Men"
          ],
          [
           "The Lord of the Rings: The Return of the King"
          ],
          [
           "Pulp Fiction"
          ],
          [
           "Schindler's List"
          ],
          [
           "Inception"
          ],
          [
           "Fight Club"
          ],
          [
           "The Lord of the Rings: The Fellowship of the Ring"
          ],
          [
           "Forrest Gump"
          ],
          [
           "Il buono, il brutto, il cattivo"
          ],
          [
           "The Lord of the Rings: The Two Towers"
          ],
          [
           "The Matrix"
          ],
          [
           "Goodfellas"
          ],
          [
           "Star Wars: Episode V - The Empire Strikes Back"
          ],
          [
           "One Flew Over the Cuckoo's Nest"
          ],
          [
           "Hamilton"
          ],
          [
           "Gisaengchung"
          ],
          [
           "Soorarai Pottru"
          ],
          [
           "Interstellar"
          ],
          [
           "Cidade de Deus"
          ],
          [
           "Sen to Chihiro no kamikakushi"
          ],
          [
           "Saving Private Ryan"
          ],
          [
           "The Green Mile"
          ],
          [
           "La vita \u001a bella"
          ],
          [
           "Se7en"
          ],
          [
           "The Silence of the Lambs"
          ],
          [
           "Star Wars"
          ],
          [
           "Seppuku"
          ],
          [
           "Shichinin no samurai"
          ],
          [
           "It's a Wonderful Life"
          ],
          [
           "Joker"
          ],
          [
           "Whiplash"
          ],
          [
           "The Intouchables"
          ],
          [
           "The Prestige"
          ],
          [
           "The Departed"
          ],
          [
           "The Pianist"
          ],
          [
           "Gladiator"
          ],
          [
           "American History X"
          ],
          [
           "The Usual Suspects"
          ],
          [
           "L\u001aon"
          ],
          [
           "The Lion King"
          ],
          [
           "Terminator 2: Judgment Day"
          ],
          [
           "Nuovo Cinema Paradiso"
          ],
          [
           "Hotaru no haka"
          ],
          [
           "Back to the Future"
          ],
          [
           "Once Upon a Time in the West"
          ],
          [
           "Psycho"
          ],
          [
           "Casablanca"
          ],
          [
           "Modern Times"
          ],
          [
           "City Lights"
          ],
          [
           "Capharna\u001am"
          ],
          [
           "Ayla: The Daughter of War"
          ],
          [
           "Vikram Vedha"
          ],
          [
           "Kimi no na wa."
          ],
          [
           "Dangal"
          ],
          [
           "Spider-Man: Into the Spider-Verse"
          ],
          [
           "Avengers: Endgame"
          ],
          [
           "Avengers: Infinity War"
          ],
          [
           "Coco"
          ],
          [
           "Django Unchained"
          ],
          [
           "The Dark Knight Rises"
          ],
          [
           "3 Idiots"
          ],
          [
           "Taare Zameen Par"
          ],
          [
           "WALL\u001aE"
          ],
          [
           "The Lives of Others"
          ],
          [
           "Oldeuboi"
          ],
          [
           "Memento"
          ],
          [
           "Mononoke-hime"
          ],
          [
           "Raiders of the Lost Ark"
          ],
          [
           "The Shining"
          ],
          [
           "Apocalypse Now"
          ],
          [
           "Alien"
          ],
          [
           "Anand"
          ],
          [
           "Tengoku to jigoku"
          ],
          [
           "Dr. Strangelove or: How I Learned to Stop Worrying and Love the Bomb"
          ],
          [
           "Witness for the Prosecution"
          ],
          [
           "Paths of Glory"
          ],
          [
           "Rear Window"
          ],
          [
           "Sunset Blvd."
          ],
          [
           "The Great Dictator"
          ],
          [
           "1917"
          ],
          [
           "Tumbbad"
          ],
          [
           "Andhadhun"
          ],
          [
           "Drishyam"
          ],
          [
           "Jagten"
          ],
          [
           "Jodaeiye Nader az Simin"
          ],
          [
           "Incendies"
          ],
          [
           "Miracle in cell NO.7"
          ],
          [
           "Babam ve Oglum"
          ],
          [
           "Inglourious Basterds"
          ],
          [
           "Eternal Sunshine of the Spotless Mind"
          ],
          [
           "Am\u001alie"
          ],
          [
           "Snatch"
          ],
          [
           "Requiem for a Dream"
          ],
          [
           "American Beauty"
          ],
          [
           "Good Will Hunting"
          ],
          [
           "Bacheha-Ye aseman"
          ],
          [
           "Toy Story"
          ],
          [
           "Braveheart"
          ],
          [
           "Reservoir Dogs"
          ],
          [
           "Full Metal Jacket"
          ],
          [
           "Idi i smotri"
          ],
          [
           "Aliens"
          ],
          [
           "Amadeus"
          ],
          [
           "Scarface"
          ],
          [
           "Star Wars: Episode VI - Return of the Jedi"
          ],
          [
           "Das Boot"
          ],
          [
           "Taxi Driver"
          ],
          [
           "The Sting"
          ],
          [
           "A Clockwork Orange"
          ],
          [
           "2001: A Space Odyssey"
          ],
          [
           "Per qualche dollaro in pi\u001a"
          ],
          [
           "The Apartment"
          ],
          [
           "North by Northwest"
          ],
          [
           "Vertigo"
          ],
          [
           "Singin' in the Rain"
          ],
          [
           "Ikiru"
          ],
          [
           "Ladri di biciclette"
          ],
          [
           "Double Indemnity"
          ],
          [
           "Citizen Kane"
          ],
          [
           "M - Eine Stadt sucht einen M\u001arder"
          ],
          [
           "Metropolis"
          ],
          [
           "The Kid"
          ],
          [
           "Chhichhore"
          ],
          [
           "Uri: The Surgical Strike"
          ],
          [
           "K.G.F: Chapter 1"
          ],
          [
           "Green Book"
          ],
          [
           "Three Billboards Outside Ebbing, Missouri"
          ],
          [
           "Talvar"
          ],
          [
           "Baahubali 2: The Conclusion"
          ],
          [
           "Klaus"
          ],
          [
           "Drishyam"
          ],
          [
           "Queen"
          ],
          [
           "Mandariinid"
          ],
          [
           "Bhaag Milkha Bhaag"
          ],
          [
           "Udaan"
          ],
          [
           "Paan Singh Tomar"
          ],
          [
           "El secreto de sus ojos"
          ],
          [
           "Warrior"
          ],
          [
           "Shutter Island"
          ],
          [
           "Up"
          ],
          [
           "The Wolf of Wall Street"
          ],
          [
           "Chak De! India"
          ],
          [
           "There Will Be Blood"
          ],
          [
           "Pan's Labyrinth"
          ],
          [
           "Toy Story 3"
          ],
          [
           "V for Vendetta"
          ],
          [
           "Rang De Basanti"
          ],
          [
           "Black"
          ],
          [
           "Batman Begins"
          ],
          [
           "Der Untergang"
          ],
          [
           "Hauru no ugoku shiro"
          ],
          [
           "A Beautiful Mind"
          ],
          [
           "Hera Pheri"
          ],
          [
           "Lock, Stock and Two Smoking Barrels"
          ],
          [
           "L.A. Confidential"
          ],
          [
           "Eskiya"
          ],
          [
           "Heat"
          ],
          [
           "Casino"
          ],
          [
           "Andaz Apna Apna"
          ],
          [
           "Unforgiven"
          ],
          [
           "Indiana Jones and the Last Crusade"
          ],
          [
           "Dom za vesanje"
          ],
          [
           "Tonari no Totoro"
          ],
          [
           "Die Hard"
          ],
          [
           "Ran"
          ],
          [
           "Raging Bull"
          ],
          [
           "Stalker"
          ],
          [
           "H\u001astsonaten"
          ],
          [
           "The Message"
          ],
          [
           "Sholay"
          ],
          [
           "Monty Python and the Holy Grail"
          ],
          [
           "The Great Escape"
          ],
          [
           "To Kill a Mockingbird"
          ],
          [
           "Y\u001ajinb\u001a"
          ],
          [
           "Judgment at Nuremberg"
          ],
          [
           "Some Like It Hot"
          ],
          [
           "Smultronst\u001allet"
          ],
          [
           "Det sjunde inseglet"
          ],
          [
           "Du rififi chez les hommes"
          ],
          [
           "Dial M for Murder"
          ],
          [
           "T\u001aky\u001a monogatari"
          ],
          [
           "Rash\u001amon"
          ],
          [
           "All About Eve"
          ],
          [
           "The Treasure of the Sierra Madre"
          ],
          [
           "To Be or Not to Be"
          ],
          [
           "The Gold Rush"
          ],
          [
           "Sherlock Jr."
          ],
          [
           "Portrait de la jeune fille en feu"
          ],
          [
           "Pink"
          ],
          [
           "Koe no katachi"
          ],
          [
           "Contratiempo"
          ],
          [
           "Ah-ga-ssi"
          ],
          [
           "Mommy"
          ],
          [
           "Haider"
          ],
          [
           "Logan"
          ],
          [
           "Room"
          ],
          [
           "Relatos salvajes"
          ],
          [
           "Soul"
          ],
          [
           "Kis Uykusu"
          ],
          [
           "PK"
          ],
          [
           "OMG: Oh My God!"
          ],
          [
           "The Grand Budapest Hotel"
          ],
          [
           "Gone Girl"
          ],
          [
           "\u001akami kodomo no Ame to Yuki"
          ],
          [
           "Hacksaw Ridge"
          ],
          [
           "Inside Out"
          ],
          [
           "Barfi!"
          ],
          [
           "12 Years a Slave"
          ],
          [
           "Rush"
          ],
          [
           "Ford v Ferrari"
          ],
          [
           "Spotlight"
          ],
          [
           "Song of the Sea"
          ],
          [
           "Kahaani"
          ],
          [
           "Zindagi Na Milegi Dobara"
          ],
          [
           "Prisoners"
          ],
          [
           "Mad Max: Fury Road"
          ],
          [
           "A Wednesday"
          ],
          [
           "Gran Torino"
          ],
          [
           "Harry Potter and the Deathly Hallows: Part 2"
          ],
          [
           "Okuribito"
          ],
          [
           "Hachi: A Dog's Tale"
          ],
          [
           "Mary and Max"
          ],
          [
           "How to Train Your Dragon"
          ],
          [
           "Into the Wild"
          ],
          [
           "No Country for Old Men"
          ],
          [
           "Lage Raho Munna Bhai"
          ],
          [
           "Million Dollar Baby"
          ],
          [
           "Hotel Rwanda"
          ],
          [
           "Taegukgi hwinalrimyeo"
          ],
          [
           "Before Sunset"
          ],
          [
           "Munna Bhai M.B.B.S."
          ],
          [
           "Salinui chueok"
          ],
          [
           "Dil Chahta Hai"
          ],
          [
           "Kill Bill: Vol. 1"
          ],
          [
           "Finding Nemo"
          ],
          [
           "Catch Me If You Can"
          ],
          [
           "Amores perros"
          ],
          [
           "Monsters, Inc."
          ],
          [
           "Shin seiki Evangelion Gekij\u001a-ban: Air/Magokoro wo, kimi ni"
          ],
          [
           "The Sixth Sense"
          ],
          [
           "La leggenda del pianista sull'oceano"
          ],
          [
           "The Truman Show"
          ],
          [
           "Crna macka, beli macor"
          ],
          [
           "The Big Lebowski"
          ],
          [
           "Fa yeung nin wah"
          ],
          [
           "Trainspotting"
          ],
          [
           "Fargo"
          ],
          [
           "Underground"
          ],
          [
           "La haine"
          ],
          [
           "Dilwale Dulhania Le Jayenge"
          ],
          [
           "Before Sunrise"
          ],
          [
           "Trois couleurs: Rouge"
          ],
          [
           "Chung Hing sam lam"
          ],
          [
           "Jurassic Park"
          ],
          [
           "In the Name of the Father"
          ],
          [
           "Ba wang bie ji"
          ],
          [
           "D\u001a h\u001ang denglong gaogao gu\u001a"
          ],
          [
           "Dead Poets Society"
          ],
          [
           "Stand by Me"
          ],
          [
           "Platoon"
          ],
          [
           "Paris, Texas"
          ],
          [
           "Kaze no tani no Naushika"
          ],
          [
           "The Thing"
          ],
          [
           "Pink Floyd: The Wall"
          ],
          [
           "Fitzcarraldo"
          ],
          [
           "Fanny och Alexander"
          ],
          [
           "Blade Runner"
          ],
          [
           "The Elephant Man"
          ],
          [
           "Life of Brian"
          ],
          [
           "The Deer Hunter"
          ],
          [
           "Rocky"
          ],
          [
           "Network"
          ],
          [
           "Barry Lyndon"
          ],
          [
           "Zerkalo"
          ],
          [
           "Chinatown"
          ],
          [
           "Paper Moon"
          ],
          [
           "Viskningar och rop"
          ],
          [
           "Solaris"
          ],
          [
           "Le samoura\u001a"
          ],
          [
           "Cool Hand Luke"
          ],
          [
           "Persona"
          ],
          [
           "Andrei Rublev"
          ],
          [
           "La battaglia di Algeri"
          ],
          [
           "El \u001angel exterminador"
          ],
          [
           "What Ever Happened to Baby Jane?"
          ],
          [
           "Sanjuro"
          ],
          [
           "The Man Who Shot Liberty Valance"
          ],
          [
           "Ivanovo detstvo"
          ],
          [
           "Jungfruk\u001allan"
          ],
          [
           "Inherit the Wind"
          ],
          [
           "Les quatre cents coups"
          ],
          [
           "Kakushi-toride no san-akunin"
          ],
          [
           "Le notti di Cabiria"
          ],
          [
           "Kumonosu-j\u001a"
          ],
          [
           "The Bridge on the River Kwai"
          ],
          [
           "On the Waterfront"
          ],
          [
           "Le salaire de la peur"
          ],
          [
           "Ace in the Hole"
          ],
          [
           "White Heat"
          ],
          [
           "The Third Man"
          ],
          [
           "The Red Shoes"
          ],
          [
           "The Shop Around the Corner"
          ],
          [
           "Rebecca"
          ],
          [
           "Mr. Smith Goes to Washington"
          ],
          [
           "La Grande Illusion"
          ],
          [
           "It Happened One Night"
          ],
          [
           "La passion de Jeanne d'Arc"
          ],
          [
           "The Circus"
          ],
          [
           "Sunrise: A Song of Two Humans"
          ],
          [
           "The General"
          ],
          [
           "Das Cabinet des Dr. Caligari"
          ],
          [
           "Badhaai ho"
          ],
          [
           "Togo"
          ],
          [
           "Airlift"
          ],
          [
           "Bajrangi Bhaijaan"
          ],
          [
           "Baby"
          ],
          [
           "La La Land"
          ],
          [
           "Lion"
          ],
          [
           "The Martian"
          ],
          [
           "Zootopia"
          ],
          [
           "B\u001ahubali: The Beginning"
          ],
          [
           "Kaguyahime no monogatari"
          ],
          [
           "Wonder"
          ],
          [
           "Gully Boy"
          ],
          [
           "Special Chabbis"
          ],
          [
           "Short Term 12"
          ],
          [
           "Serbuan maut 2: Berandal"
          ],
          [
           "The Imitation Game"
          ],
          [
           "Guardians of the Galaxy"
          ],
          [
           "Blade Runner 2049"
          ],
          [
           "Her"
          ],
          [
           "Bohemian Rhapsody"
          ],
          [
           "The Revenant"
          ],
          [
           "The Perks of Being a Wallflower"
          ],
          [
           "Tropa de Elite 2: O Inimigo Agora \u001a Outro"
          ],
          [
           "The King's Speech"
          ],
          [
           "The Help"
          ],
          [
           "Deadpool"
          ],
          [
           "Darbareye Elly"
          ],
          [
           "Dev.D"
          ],
          [
           "Yip Man"
          ],
          [
           "My Name Is Khan"
          ],
          [
           "Nefes: Vatan Sagolsun"
          ],
          [
           "Slumdog Millionaire"
          ],
          [
           "Black Swan"
          ],
          [
           "Tropa de Elite"
          ],
          [
           "The Avengers"
          ],
          [
           "Persepolis"
          ],
          [
           "Dallas Buyers Club"
          ],
          [
           "The Pursuit of Happyness"
          ],
          [
           "Blood Diamond"
          ],
          [
           "The Bourne Ultimatum"
          ],
          [
           "Bin-jip"
          ],
          [
           "Sin City"
          ],
          [
           "Le scaphandre et le papillon"
          ],
          [
           "G.O.R.A."
          ],
          [
           "Ratatouille"
          ],
          [
           "Casino Royale"
          ],
          [
           "Kill Bill: Vol. 2"
          ],
          [
           "Vozvrashchenie"
          ],
          [
           "Bom Yeoareum Gaeul Gyeoul Geurigo Bom"
          ],
          [
           "Mar adentro"
          ],
          [
           "Cinderella Man"
          ],
          [
           "Kal Ho Naa Ho"
          ],
          [
           "Mou gaan dou"
          ],
          [
           "Pirates of the Caribbean: The Curse of the Black Pearl"
          ],
          [
           "Big Fish"
          ],
          [
           "The Incredibles"
          ],
          [
           "Yeopgijeogin geunyeo"
          ],
          [
           "Dogville"
          ],
          [
           "Vizontele"
          ],
          [
           "Donnie Darko"
          ],
          [
           "Magnolia"
          ],
          [
           "Dancer in the Dark"
          ],
          [
           "The Straight Story"
          ],
          [
           "P\u001afekuto bur\u001a"
          ],
          [
           "Festen"
          ],
          [
           "Central do Brasil"
          ],
          [
           "The Iron Giant"
          ],
          [
           "Knockin' on Heaven's Door"
          ],
          [
           "Sling Blade"
          ],
          [
           "Secrets & Lies"
          ],
          [
           "Twelve Monkeys"
          ],
          [
           "K\u001akaku Kid\u001atai"
          ],
          [
           "The Nightmare Before Christmas"
          ],
          [
           "Groundhog Day"
          ],
          [
           "Bound by Honor"
          ],
          [
           "Scent of a Woman"
          ],
          [
           "Aladdin"
          ],
          [
           "JFK"
          ],
          [
           "Beauty and the Beast"
          ],
          [
           "Dances with Wolves"
          ],
          [
           "Do the Right Thing"
          ],
          [
           "Rain Man"
          ],
          [
           "Akira"
          ],
          [
           "The Princess Bride"
          ],
          [
           "Der Himmel \u001aber Berlin"
          ],
          [
           "Au revoir les enfants"
          ],
          [
           "Tenk\u001a no shiro Rapyuta"
          ],
          [
           "The Terminator"
          ],
          [
           "Gandhi"
          ],
          [
           "Kagemusha"
          ],
          [
           "Being There"
          ],
          [
           "Annie Hall"
          ],
          [
           "Jaws"
          ],
          [
           "Dog Day Afternoon"
          ],
          [
           "Young Frankenstein"
          ],
          [
           "Papillon"
          ],
          [
           "The Exorcist"
          ],
          [
           "Sleuth"
          ],
          [
           "The Last Picture Show"
          ],
          [
           "Fiddler on the Roof"
          ],
          [
           "Il conformista"
          ],
          [
           "Butch Cassidy and the Sundance Kid"
          ],
          [
           "Rosemary's Baby"
          ],
          [
           "Planet of the Apes"
          ],
          [
           "The Graduate"
          ],
          [
           "Who's Afraid of Virginia Woolf?"
          ],
          [
           "The Sound of Music"
          ],
          [
           "Doctor Zhivago"
          ],
          [
           "Per un pugno di dollari"
          ],
          [
           "8\u001a"
          ],
          [
           "Vivre sa vie: Film en douze tableaux"
          ],
          [
           "The Hustler"
          ],
          [
           "La dolce vita"
          ],
          [
           "Rio Bravo"
          ],
          [
           "Anatomy of a Murder"
          ],
          [
           "Touch of Evil"
          ],
          [
           "Cat on a Hot Tin Roof"
          ],
          [
           "Sweet Smell of Success"
          ],
          [
           "The Killing"
          ],
          [
           "The Night of the Hunter"
          ],
          [
           "La Strada"
          ],
          [
           "Les diaboliques"
          ],
          [
           "Stalag 17"
          ],
          [
           "Roman Holiday"
          ],
          [
           "A Streetcar Named Desire"
          ],
          [
           "In a Lonely Place"
          ],
          [
           "Kind Hearts and Coronets"
          ],
          [
           "Rope"
          ],
          [
           "Out of the Past"
          ],
          [
           "Brief Encounter"
          ],
          [
           "Laura"
          ],
          [
           "The Best Years of Our Lives"
          ],
          [
           "Arsenic and Old Lace"
          ],
          [
           "The Maltese Falcon"
          ],
          [
           "The Grapes of Wrath"
          ],
          [
           "The Wizard of Oz"
          ],
          [
           "La r\u001agle du jeu"
          ],
          [
           "The Thin Man"
          ],
          [
           "All Quiet on the Western Front"
          ],
          [
           "Bronenosets Potemkin"
          ],
          [
           "Knives Out"
          ],
          [
           "Dil Bechara"
          ],
          [
           "Manbiki kazoku"
          ],
          [
           "Marriage Story"
          ],
          [
           "Call Me by Your Name"
          ],
          [
           "I, Daniel Blake"
          ],
          [
           "Isle of Dogs"
          ],
          [
           "Hunt for the Wilderpeople"
          ],
          [
           "Captain Fantastic"
          ],
          [
           "Sing Street"
          ],
          [
           "Thor: Ragnarok"
          ],
          [
           "Nightcrawler"
          ],
          [
           "Jojo Rabbit"
          ],
          [
           "Arrival"
          ],
          [
           "Star Wars: Episode VII - The Force Awakens"
          ],
          [
           "Before Midnight"
          ],
          [
           "X-Men: Days of Future Past"
          ],
          [
           "Bir Zamanlar Anadolu'da"
          ],
          [
           "The Artist"
          ],
          [
           "Edge of Tomorrow"
          ],
          [
           "Amour"
          ],
          [
           "Un proph\u001ate"
          ],
          [
           "Moon"
          ],
          [
           "L\u001at den r\u001atte komma in"
          ],
          [
           "District 9"
          ],
          [
           "The Wrestler"
          ],
          [
           "Jab We Met"
          ],
          [
           "Boyhood"
          ],
          [
           "4 luni, 3 saptam\u001ani si 2 zile"
          ],
          [
           "Star Trek"
          ],
          [
           "In Bruges"
          ],
          [
           "The Man from Earth"
          ],
          [
           "Letters from Iwo Jima"
          ],
          [
           "The Fall"
          ],
          [
           "Life of Pi"
          ],
          [
           "Fantastic Mr. Fox"
          ],
          [
           "C.R.A.Z.Y."
          ],
          [
           "Les choristes"
          ],
          [
           "Iron Man"
          ],
          [
           "Shaun of the Dead"
          ],
          [
           "Gegen die Wand"
          ],
          [
           "Mystic River"
          ],
          [
           "Harry Potter and the Prisoner of Azkaban"
          ],
          [
           "Ying xiong"
          ],
          [
           "Hable con ella"
          ],
          [
           "No Man's Land"
          ],
          [
           "Cowboy Bebop: Tengoku no tobira"
          ],
          [
           "The Bourne Identity"
          ],
          [
           "Nueve reinas"
          ],
          [
           "Children of Men"
          ],
          [
           "Almost Famous"
          ],
          [
           "Mulholland Dr."
          ],
          [
           "Toy Story 2"
          ],
          [
           "Boogie Nights"
          ],
          [
           "Mimi wo sumaseba"
          ],
          [
           "Once Were Warriors"
          ],
          [
           "True Romance"
          ],
          [
           "Trois couleurs: Bleu"
          ],
          [
           "J\u001ab\u001a ninp\u001ach\u001a"
          ],
          [
           "Carlito's Way"
          ],
          [
           "Edward Scissorhands"
          ],
          [
           "My Left Foot: The Story of Christy Brown"
          ],
          [
           "Crimes and Misdemeanors"
          ],
          [
           "The Untouchables"
          ],
          [
           "Hannah and Her Sisters"
          ],
          [
           "Brazil"
          ],
          [
           "This Is Spinal Tap"
          ],
          [
           "A Christmas Story"
          ],
          [
           "The Blues Brothers"
          ],
          [
           "Manhattan"
          ],
          [
           "All That Jazz"
          ],
          [
           "Dawn of the Dead"
          ],
          [
           "All the President's Men"
          ],
          [
           "La monta\u001aa sagrada"
          ],
          [
           "Amarcord"
          ],
          [
           "Le charme discret de la bourgeoisie"
          ],
          [
           "Aguirre, der Zorn Gottes"
          ],
          [
           "Harold and Maude"
          ],
          [
           "Patton"
          ],
          [
           "The Wild Bunch"
          ],
          [
           "Night of the Living Dead"
          ],
          [
           "The Lion in Winter"
          ],
          [
           "In the Heat of the Night"
          ],
          [
           "Charade"
          ],
          [
           "The Manchurian Candidate"
          ],
          [
           "Spartacus"
          ],
          [
           "L'avventura"
          ],
          [
           "Hiroshima mon amour"
          ],
          [
           "The Searchers"
          ],
          [
           "East of Eden"
          ],
          [
           "High Noon"
          ],
          [
           "Strangers on a Train"
          ],
          [
           "Harvey"
          ],
          [
           "Miracle on 34th Street"
          ],
          [
           "Notorious"
          ],
          [
           "The Big Sleep"
          ],
          [
           "The Lost Weekend"
          ],
          [
           "The Philadelphia Story"
          ],
          [
           "His Girl Friday"
          ],
          [
           "The Adventures of Robin Hood"
          ],
          [
           "A Night at the Opera"
          ],
          [
           "King Kong"
          ],
          [
           "Freaks"
          ],
          [
           "Nosferatu"
          ],
          [
           "The Gentlemen"
          ],
          [
           "Raazi"
          ],
          [
           "Sound of Metal"
          ],
          [
           "Forushande"
          ],
          [
           "Dunkirk"
          ],
          [
           "Perfetti sconosciuti"
          ],
          [
           "Hidden Figures"
          ],
          [
           "Paddington 2"
          ],
          [
           "Udta Punjab"
          ],
          [
           "Kubo and the Two Strings"
          ],
          [
           "M.S. Dhoni: The Untold Story"
          ],
          [
           "Manchester by the Sea"
          ],
          [
           "Under sandet"
          ],
          [
           "Rogue One"
          ],
          [
           "Captain America: Civil War"
          ],
          [
           "The Hateful Eight"
          ],
          [
           "Little Women"
          ],
          [
           "Loving Vincent"
          ],
          [
           "Pride"
          ],
          [
           "Le pass\u001a"
          ],
          [
           "La grande bellezza"
          ],
          [
           "The Lunchbox"
          ],
          [
           "Vicky Donor"
          ],
          [
           "Big Hero 6"
          ],
          [
           "About Time"
          ],
          [
           "English Vinglish"
          ],
          [
           "Kaze tachinu"
          ],
          [
           "Toy Story 4"
          ],
          [
           "La migliore offerta"
          ],
          [
           "Moonrise Kingdom"
          ],
          [
           "How to Train Your Dragon 2"
          ],
          [
           "The Big Short"
          ],
          [
           "Kokuhaku"
          ],
          [
           "Ang-ma-reul bo-at-da"
          ],
          [
           "The Girl with the Dragon Tattoo"
          ],
          [
           "Captain Phillips"
          ],
          [
           "Ajeossi"
          ],
          [
           "Straight Outta Compton"
          ],
          [
           "Madeo"
          ],
          [
           "Chugyeokja"
          ],
          [
           "The Hobbit: The Desolation of Smaug"
          ],
          [
           "Das wei\u001ae Band - Eine deutsche Kindergeschichte"
          ],
          [
           "M\u001an som hatar kvinnor"
          ],
          [
           "The Trial of the Chicago 7"
          ],
          [
           "Druk"
          ],
          [
           "The Fighter"
          ],
          [
           "Taken"
          ],
          [
           "The Boy in the Striped Pyjamas"
          ],
          [
           "Once"
          ],
          [
           "The Hobbit: An Unexpected Journey"
          ],
          [
           "Auf der anderen Seite"
          ],
          [
           "Atonement"
          ],
          [
           "Drive"
          ],
          [
           "American Gangster"
          ],
          [
           "Avatar"
          ],
          [
           "Mr. Nobody"
          ],
          [
           "Apocalypto"
          ],
          [
           "Little Miss Sunshine"
          ],
          [
           "Hot Fuzz"
          ],
          [
           "The Curious Case of Benjamin Button"
          ],
          [
           "Veer-Zaara"
          ],
          [
           "Adams \u001abler"
          ],
          [
           "Pride & Prejudice"
          ],
          [
           "The World's Fastest Indian"
          ],
          [
           "T\u001aky\u001a goddof\u001az\u001azu"
          ],
          [
           "Serenity"
          ],
          [
           "Walk the Line"
          ],
          [
           "Ondskan"
          ],
          [
           "The Notebook"
          ],
          [
           "Diarios de motocicleta"
          ],
          [
           "Lilja 4-ever"
          ],
          [
           "Les triplettes de Belleville"
          ],
          [
           "Gongdong gyeongbi guyeok JSA"
          ],
          [
           "The Count of Monte Cristo"
          ],
          [
           "Waking Life"
          ],
          [
           "Remember the Titans"
          ],
          [
           "Wo hu cang long"
          ],
          [
           "Todo sobre mi madre"
          ],
          [
           "Cast Away"
          ],
          [
           "The Boondock Saints"
          ],
          [
           "The Insider"
          ],
          [
           "October Sky"
          ],
          [
           "Shrek"
          ],
          [
           "Titanic"
          ],
          [
           "Hana-bi"
          ],
          [
           "Gattaca"
          ],
          [
           "The Game"
          ],
          [
           "Breaking the Waves"
          ],
          [
           "Ed Wood"
          ],
          [
           "What's Eating Gilbert Grape"
          ],
          [
           "Tombstone"
          ],
          [
           "The Sandlot"
          ],
          [
           "The Remains of the Day"
          ],
          [
           "Naked"
          ],
          [
           "The Fugitive"
          ],
          [
           "A Bronx Tale"
          ],
          [
           "Batman: Mask of the Phantasm"
          ],
          [
           "Lat sau san taam"
          ],
          [
           "Night on Earth"
          ],
          [
           "La double vie de V\u001aronique"
          ],
          [
           "Boyz n the Hood"
          ],
          [
           "Misery"
          ],
          [
           "Awakenings"
          ],
          [
           "Majo no takky\u001abin"
          ],
          [
           "Glory"
          ],
          [
           "Dip huet seung hung"
          ],
          [
           "Back to the Future Part II"
          ],
          [
           "Mississippi Burning"
          ],
          [
           "Predator"
          ],
          [
           "Evil Dead II"
          ],
          [
           "Ferris Bueller's Day Off"
          ],
          [
           "Down by Law"
          ],
          [
           "The Goonies"
          ],
          [
           "The Color Purple"
          ],
          [
           "The Breakfast Club"
          ],
          [
           "The Killing Fields"
          ],
          [
           "Ghostbusters"
          ],
          [
           "The Right Stuff"
          ],
          [
           "The King of Comedy"
          ],
          [
           "E.T. the Extra-Terrestrial"
          ],
          [
           "Kramer vs. Kramer"
          ],
          [
           "Days of Heaven"
          ],
          [
           "The Outlaw Josey Wales"
          ],
          [
           "The Man Who Would Be King"
          ],
          [
           "The Conversation"
          ],
          [
           "La plan\u001ate sauvage"
          ],
          [
           "The Day of the Jackal"
          ],
          [
           "Badlands"
          ],
          [
           "Cabaret"
          ],
          [
           "Willy Wonka & the Chocolate Factory"
          ],
          [
           "Midnight Cowboy"
          ],
          [
           "Wait Until Dark"
          ],
          [
           "Guess Who's Coming to Dinner"
          ],
          [
           "Bonnie and Clyde"
          ],
          [
           "My Fair Lady"
          ],
          [
           "Mary Poppins"
          ],
          [
           "The Longest Day"
          ],
          [
           "Jules et Jim"
          ],
          [
           "The Innocents"
          ],
          [
           "\u001a bout de souffle"
          ],
          [
           "Red River"
          ],
          [
           "Key Largo"
          ],
          [
           "To Have and Have Not"
          ],
          [
           "Shadow of a Doubt"
          ],
          [
           "Stagecoach"
          ],
          [
           "The Lady Vanishes"
          ],
          [
           "Bringing Up Baby"
          ],
          [
           "Bride of Frankenstein"
          ],
          [
           "Duck Soup"
          ],
          [
           "Scarface: The Shame of the Nation"
          ],
          [
           "Frankenstein"
          ],
          [
           "Roma"
          ],
          [
           "God's Own Country"
          ],
          [
           "Deadpool 2"
          ],
          [
           "Wind River"
          ],
          [
           "Get Out"
          ],
          [
           "Mission: Impossible - Fallout"
          ],
          [
           "En man som heter Ove"
          ],
          [
           "What We Do in the Shadows"
          ],
          [
           "Omoide no M\u001an\u001a"
          ],
          [
           "The Theory of Everything"
          ],
          [
           "Kingsman: The Secret Service"
          ],
          [
           "The Fault in Our Stars"
          ],
          [
           "Me and Earl and the Dying Girl"
          ],
          [
           "Birdman or (The Unexpected Virtue of Ignorance)"
          ],
          [
           "La vie d'Ad\u001ale"
          ],
          [
           "Kai po che!"
          ],
          [
           "The Broken Circle Breakdown"
          ],
          [
           "Captain America: The Winter Soldier"
          ],
          [
           "Rockstar"
          ],
          [
           "Nebraska"
          ],
          [
           "Wreck-It Ralph"
          ],
          [
           "Le Petit Prince"
          ],
          [
           "Detachment"
          ],
          [
           "Midnight in Paris"
          ],
          [
           "The Lego Movie"
          ],
          [
           "Gravity"
          ],
          [
           "Star Trek Into Darkness"
          ],
          [
           "Beasts of No Nation"
          ],
          [
           "The Social Network"
          ],
          [
           "X: First Class"
          ],
          [
           "The Hangover"
          ],
          [
           "Skyfall"
          ],
          [
           "Silver Linings Playbook"
          ],
          [
           "Argo"
          ],
          [
           "(500) Days of Summer"
          ],
          [
           "Harry Potter and the Deathly Hallows: Part 1"
          ],
          [
           "Gake no ue no Ponyo"
          ],
          [
           "Frost/Nixon"
          ],
          [
           "Papurika"
          ],
          [
           "Changeling"
          ],
          [
           "Flipped"
          ],
          [
           "Toki o kakeru sh\u001ajo"
          ],
          [
           "Death Note: Desu n\u001ato"
          ],
          [
           "This Is England"
          ],
          [
           "Ex Machina"
          ],
          [
           "Efter brylluppet"
          ],
          [
           "The Last King of Scotland"
          ],
          [
           "Zodiac"
          ],
          [
           "Lucky Number Slevin"
          ],
          [
           "Joyeux No\u001al"
          ],
          [
           "Control"
          ],
          [
           "Tangled"
          ],
          [
           "Zwartboek"
          ],
          [
           "Brokeback Mountain"
          ],
          [
           "3:10 to Yuma"
          ],
          [
           "Crash"
          ],
          [
           "Kung fu"
          ],
          [
           "The Bourne Supremacy"
          ],
          [
           "The Machinist"
          ],
          [
           "Ray"
          ],
          [
           "Lost in Translation"
          ],
          [
           "Harry Potter and the Goblet of Fire"
          ],
          [
           "Man on Fire"
          ],
          [
           "Coraline"
          ],
          [
           "The Last Samurai"
          ],
          [
           "The Magdalene Sisters"
          ],
          [
           "Good Bye Lenin!"
          ],
          [
           "In America"
          ],
          [
           "I Am Sam"
          ],
          [
           "Adaptation."
          ],
          [
           "Black Hawk Down"
          ],
          [
           "Road to Perdition"
          ],
          [
           "Das Experiment"
          ],
          [
           "Billy Elliot"
          ],
          [
           "Hedwig and the Angry Inch"
          ],
          [
           "Ocean's Eleven"
          ],
          [
           "Vampire Hunter D: Bloodlust"
          ],
          [
           "O Brother, Where Art Thou?"
          ],
          [
           "Interstate 60: Episodes of the Road"
          ],
          [
           "South Park: Bigger, Longer & Uncut"
          ],
          [
           "Office Space"
          ],
          [
           "Happiness"
          ],
          [
           "Training Day"
          ],
          [
           "Rushmore"
          ],
          [
           "Abre los ojos"
          ],
          [
           "Being John Malkovich"
          ],
          [
           "As Good as It Gets"
          ],
          [
           "The Fifth Element"
          ],
          [
           "Le d\u001aner de cons"
          ],
          [
           "Donnie Brasco"
          ],
          [
           "Shine"
          ],
          [
           "Primal Fear"
          ],
          [
           "A Little Princess"
          ],
          [
           "Do lok tin si"
          ],
          [
           "Il postino"
          ],
          [
           "Clerks"
          ],
          [
           "Short Cuts"
          ],
          [
           "Philadelphia"
          ],
          [
           "The Muppet Christmas Carol"
          ],
          [
           "Malcolm X"
          ],
          [
           "The Last of the Mohicans"
          ],
          [
           "Kurenai no buta"
          ],
          [
           "Glengarry Glen Ross"
          ],
          [
           "A Few Good Men"
          ],
          [
           "Fried Green Tomatoes"
          ],
          [
           "Barton Fink"
          ],
          [
           "Miller's Crossing"
          ],
          [
           "Who Framed Roger Rabbit"
          ],
          [
           "Spoorloos"
          ],
          [
           "Withnail & I"
          ],
          [
           "The Last Emperor"
          ],
          [
           "Empire of the Sun"
          ],
          [
           "Der Name der Rose"
          ],
          [
           "Blue Velvet"
          ],
          [
           "The Purple Rose of Cairo"
          ],
          [
           "After Hours"
          ],
          [
           "Zelig"
          ],
          [
           "The Verdict"
          ],
          [
           "Star Trek II: The Wrath of Khan"
          ],
          [
           "First Blood"
          ],
          [
           "Ordinary People"
          ],
          [
           "Airplane!"
          ],
          [
           "Rupan sansei: Kariosutoro no shiro"
          ],
          [
           "Halloween"
          ],
          [
           "Le locataire"
          ],
          [
           "Love and Death"
          ],
          [
           "The Taking of Pelham One Two Three"
          ],
          [
           "Blazing Saddles"
          ],
          [
           "Serpico"
          ],
          [
           "Enter the Dragon"
          ],
          [
           "Deliverance"
          ],
          [
           "The French Connection"
          ],
          [
           "Dirty Harry"
          ],
          [
           "Where Eagles Dare"
          ],
          [
           "The Odd Couple"
          ],
          [
           "The Dirty Dozen"
          ],
          [
           "Belle de jour"
          ],
          [
           "A Man for All Seasons"
          ],
          [
           "Repulsion"
          ],
          [
           "Zulu"
          ],
          [
           "Goldfinger"
          ],
          [
           "The Birds"
          ],
          [
           "Cape Fear"
          ],
          [
           "Peeping Tom"
          ],
          [
           "The Magnificent Seven"
          ],
          [
           "Les yeux sans visage"
          ],
          [
           "Invasion of the Body Snatchers"
          ],
          [
           "Rebel Without a Cause"
          ],
          [
           "The Ladykillers"
          ],
          [
           "Sabrina"
          ],
          [
           "The Quiet Man"
          ],
          [
           "The Day the Earth Stood Still"
          ],
          [
           "The African Queen"
          ],
          [
           "Gilda"
          ],
          [
           "Fantasia"
          ],
          [
           "The Invisible Man"
          ],
          [
           "Dark Waters"
          ],
          [
           "Searching"
          ],
          [
           "Once Upon a Time... in Hollywood"
          ],
          [
           "Nelyubov"
          ],
          [
           "The Florida Project"
          ],
          [
           "Just Mercy"
          ],
          [
           "Gifted"
          ],
          [
           "The Peanut Butter Falcon"
          ],
          [
           "Victoria"
          ],
          [
           "Mustang"
          ],
          [
           "Guardians of the Galaxy Vol. 2"
          ],
          [
           "Baby Driver"
          ],
          [
           "Only the Brave"
          ],
          [
           "Bridge of Spies"
          ],
          [
           "Incredibles 2"
          ],
          [
           "Moana"
          ],
          [
           "Sicario"
          ],
          [
           "Creed"
          ],
          [
           "Leviafan"
          ],
          [
           "Hell or High Water"
          ],
          [
           "Philomena"
          ],
          [
           "Dawn of the Planet of the Apes"
          ],
          [
           "El cuerpo"
          ],
          [
           "Serbuan maut"
          ],
          [
           "End of Watch"
          ],
          [
           "Kari-gurashi no Arietti"
          ],
          [
           "A Star Is Born"
          ],
          [
           "True Grit"
          ],
          [
           "H\u001avnen"
          ],
          [
           "Despicable Me"
          ],
          [
           "50/50"
          ],
          [
           "Kick-Ass"
          ],
          [
           "Celda 211"
          ],
          [
           "Moneyball"
          ],
          [
           "La piel que habito"
          ],
          [
           "Zombieland"
          ],
          [
           "Die Welle"
          ],
          [
           "Sherlock Holmes"
          ],
          [
           "The Blind Side"
          ],
          [
           "The Visitor"
          ],
          [
           "Seven Pounds"
          ],
          [
           "Eastern Promises"
          ],
          [
           "Stardust"
          ],
          [
           "The Secret of Kells"
          ],
          [
           "Inside Man"
          ],
          [
           "Gone Baby Gone"
          ],
          [
           "La Vie En Rose"
          ],
          [
           "Huo Yuan Jia"
          ],
          [
           "The Illusionist"
          ],
          [
           "Dead Man's Shoes"
          ],
          [
           "Harry Potter and the Half-Blood Prince"
          ],
          [
           "300"
          ],
          [
           "Match Point"
          ],
          [
           "Watchmen"
          ],
          [
           "Lord of War"
          ],
          [
           "Saw"
          ],
          [
           "Synecdoche, New York"
          ],
          [
           "Mysterious Skin"
          ],
          [
           "Jeux d'enfants"
          ],
          [
           "Un long dimanche de fian\u001aailles"
          ],
          [
           "The Station Agent"
          ],
          [
           "21 Grams"
          ],
          [
           "Boksuneun naui geot"
          ],
          [
           "Finding Neverland"
          ],
          [
           "25th Hour"
          ],
          [
           "The Butterfly Effect"
          ],
          [
           "28 Days Later..."
          ],
          [
           "Batoru rowaiaru"
          ],
          [
           "The Royal Tenenbaums"
          ],
          [
           "Y tu mam\u001a tambi\u001an"
          ],
          [
           "Harry Potter and the Sorcerer's Stone"
          ],
          [
           "The Others"
          ],
          [
           "Blow"
          ],
          [
           "Enemy at the Gates"
          ],
          [
           "Minority Report"
          ],
          [
           "The Hurricane"
          ],
          [
           "American Psycho"
          ],
          [
           "Lola rennt"
          ],
          [
           "The Thin Red Line"
          ],
          [
           "Mulan"
          ],
          [
           "Fear and Loathing in Las Vegas"
          ],
          [
           "Funny Games"
          ],
          [
           "Dark City"
          ],
          [
           "Sleepers"
          ],
          [
           "Lost Highway"
          ],
          [
           "Sense and Sensibility"
          ],
          [
           "Die Hard: With a Vengeance"
          ],
          [
           "Dead Man"
          ],
          [
           "The Bridges of Madison County"
          ],
          [
           "Apollo 13"
          ],
          [
           "Trois couleurs: Blanc"
          ],
          [
           "Falling Down"
          ],
          [
           "Dazed and Confused"
          ],
          [
           "My Cousin Vinny"
          ],
          [
           "Omohide poro poro"
          ],
          [
           "Delicatessen"
          ],
          [
           "Home Alone"
          ],
          [
           "The Godfather: Part III"
          ],
          [
           "When Harry Met Sally..."
          ],
          [
           "The Little Mermaid"
          ],
          [
           "The Naked Gun: From the Files of Police Squad!"
          ],
          [
           "Planes, Trains & Automobiles"
          ],
          [
           "Lethal Weapon"
          ],
          [
           "Blood Simple"
          ],
          [
           "On Golden Pond"
          ],
          [
           "Mad Max 2"
          ],
          [
           "The Warriors"
          ],
          [
           "The Muppet Movie"
          ],
          [
           "Escape from Alcatraz"
          ],
          [
           "Watership Down"
          ],
          [
           "Midnight Express"
          ],
          [
           "Close Encounters of the Third Kind"
          ],
          [
           "The Long Goodbye"
          ],
          [
           "Gi\u001a la testa"
          ],
          [
           "Kelly's Heroes"
          ],
          [
           "The Jungle Book"
          ],
          [
           "Blowup"
          ],
          [
           "A Hard Day's Night"
          ],
          [
           "Breakfast at Tiffany's"
          ],
          [
           "Giant"
          ],
          [
           "From Here to Eternity"
          ],
          [
           "Lifeboat"
          ],
          [
           "The 39 Steps"
          ]
         ],
         "hovertemplate": "PC1 (popularity)=%{x}<br>PC2 (quality)=%{y}<br>Series_Title=%{customdata[0]}<br>Cluster=%{marker.color}<extra></extra>",
         "legendgroup": "",
         "marker": {
          "color": [
           0,
           0,
           0,
           0,
           0,
           0,
           0,
           0,
           0,
           0,
           0,
           0,
           0,
           0,
           0,
           0,
           0,
           0,
           0,
           0,
           0,
           0,
           0,
           0,
           0,
           0,
           0,
           0,
           0,
           0,
           0,
           0,
           0,
           0,
           0,
           0,
           0,
           0,
           0,
           0,
           0,
           0,
           0,
           0,
           0,
           0,
           0,
           0,
           0,
           0,
           0,
           3,
           3,
           3,
           2,
           2,
           0,
           0,
           0,
           0,
           0,
           0,
           0,
           0,
           0,
           3,
           0,
           0,
           0,
           0,
           0,
           0,
           0,
           0,
           0,
           2,
           3,
           0,
           0,
           0,
           0,
           0,
           3,
           0,
           2,
           3,
           2,
           3,
           0,
           0,
           2,
           2,
           0,
           0,
           0,
           0,
           0,
           0,
           0,
           3,
           0,
           0,
           0,
           0,
           2,
           0,
           0,
           0,
           0,
           0,
           0,
           0,
           0,
           0,
           0,
           0,
           0,
           0,
           0,
           3,
           3,
           0,
           0,
           3,
           3,
           3,
           3,
           3,
           2,
           0,
           0,
           3,
           2,
           2,
           3,
           3,
           3,
           3,
           3,
           3,
           0,
           0,
           0,
           0,
           0,
           3,
           0,
           0,
           0,
           0,
           3,
           3,
           0,
           0,
           0,
           0,
           2,
           0,
           0,
           2,
           0,
           0,
           3,
           0,
           0,
           3,
           3,
           0,
           3,
           0,
           3,
           2,
           2,
           2,
           0,
           0,
           0,
           2,
           2,
           0,
           2,
           0,
           3,
           3,
           2,
           3,
           3,
           3,
           2,
           3,
           3,
           3,
           3,
           2,
           2,
           3,
           3,
           3,
           0,
           0,
           3,
           2,
           3,
           2,
           3,
           0,
           0,
           2,
           0,
           0,
           3,
           0,
           0,
           0,
           0,
           3,
           3,
           3,
           0,
           0,
           3,
           0,
           0,
           3,
           0,
           2,
           0,
           0,
           0,
           3,
           0,
           0,
           3,
           0,
           2,
           3,
           3,
           0,
           0,
           0,
           0,
           0,
           2,
           0,
           3,
           0,
           3,
           0,
           3,
           0,
           0,
           3,
           3,
           2,
           0,
           3,
           3,
           0,
           2,
           3,
           3,
           0,
           0,
           0,
           3,
           3,
           0,
           2,
           2,
           3,
           0,
           0,
           0,
           0,
           0,
           2,
           2,
           3,
           0,
           2,
           3,
           2,
           3,
           2,
           2,
           3,
           3,
           2,
           3,
           2,
           2,
           3,
           3,
           2,
           2,
           2,
           3,
           2,
           1,
           2,
           2,
           3,
           2,
           3,
           2,
           3,
           3,
           2,
           3,
           3,
           3,
           2,
           3,
           3,
           2,
           2,
           2,
           2,
           2,
           2,
           1,
           1,
           1,
           1,
           2,
           3,
           2,
           2,
           3,
           3,
           3,
           1,
           1,
           1,
           1,
           1,
           1,
           1,
           3,
           1,
           1,
           1,
           3,
           3,
           1,
           3,
           3,
           1,
           1,
           3,
           1,
           3,
           1,
           1,
           1,
           1,
           3,
           1,
           2,
           2,
           1,
           1,
           1,
           3,
           3,
           3,
           1,
           3,
           3,
           1,
           1,
           1,
           2,
           3,
           2,
           0,
           1,
           3,
           2,
           3,
           3,
           2,
           2,
           3,
           2,
           2,
           1,
           3,
           1,
           1,
           3,
           1,
           1,
           2,
           1,
           1,
           2,
           1,
           3,
           1,
           3,
           3,
           2,
           1,
           1,
           2,
           2,
           1,
           1,
           1,
           2,
           2,
           1,
           3,
           2,
           2,
           3,
           1,
           1,
           2,
           1,
           2,
           1,
           2,
           1,
           3,
           2,
           2,
           2,
           2,
           2,
           3,
           2,
           2,
           2,
           3,
           2,
           2,
           2,
           2,
           2,
           2,
           2,
           2,
           2,
           2,
           3,
           2,
           2,
           3,
           3,
           3,
           2,
           2,
           3,
           3,
           1,
           2,
           3,
           3,
           1,
           3,
           2,
           2,
           2,
           3,
           1,
           1,
           3,
           1,
           1,
           2,
           1,
           3,
           1,
           1,
           2,
           3,
           1,
           3,
           1,
           1,
           3,
           1,
           3,
           1,
           1,
           1,
           2,
           3,
           1,
           1,
           2,
           3,
           1,
           1,
           3,
           1,
           1,
           1,
           2,
           3,
           3,
           1,
           3,
           1,
           1,
           1,
           1,
           1,
           2,
           3,
           1,
           3,
           2,
           1,
           1,
           2,
           2,
           1,
           2,
           2,
           3,
           2,
           1,
           2,
           2,
           2,
           2,
           3,
           2,
           3,
           2,
           2,
           2,
           2,
           3,
           2,
           2,
           2,
           2,
           2,
           2,
           3,
           2,
           2,
           2,
           2,
           2,
           3,
           2,
           2,
           2,
           2,
           3,
           3,
           3,
           2,
           2,
           2,
           1,
           2,
           2,
           3,
           1,
           2,
           1,
           2,
           2,
           2,
           3,
           1,
           3,
           1,
           1,
           1,
           1,
           2,
           2,
           3,
           3,
           2,
           3,
           1,
           1,
           3,
           2,
           1,
           3,
           1,
           1,
           1,
           2,
           3,
           1,
           1,
           3,
           1,
           3,
           2,
           1,
           3,
           1,
           2,
           2,
           1,
           1,
           1,
           2,
           1,
           3,
           1,
           1,
           1,
           1,
           3,
           1,
           1,
           1,
           1,
           3,
           3,
           1,
           2,
           3,
           1,
           1,
           3,
           1,
           2,
           3,
           2,
           2,
           2,
           3,
           1,
           1,
           2,
           1,
           3,
           1,
           2,
           1,
           1,
           3,
           1,
           1,
           2,
           2,
           1,
           2,
           2,
           2,
           3,
           1,
           2,
           2,
           2,
           3,
           3,
           2,
           1,
           2,
           2,
           2,
           2,
           1,
           2,
           1,
           2,
           1,
           3,
           1,
           2,
           1,
           2,
           1,
           2,
           3,
           1,
           1,
           2,
           2,
           2,
           2,
           3,
           2,
           2,
           2,
           2,
           2,
           2,
           2,
           3,
           2,
           1,
           2,
           2,
           3,
           3,
           2,
           2,
           2,
           2,
           2,
           2,
           2,
           2,
           2,
           2,
           2,
           1,
           3,
           1,
           1,
           1,
           1,
           2,
           2,
           3,
           1,
           1,
           1,
           2,
           1,
           3,
           3,
           3,
           1,
           3,
           2,
           1,
           3,
           3,
           1,
           1,
           1,
           1,
           3,
           1,
           1,
           1,
           1,
           1,
           1,
           1,
           1,
           2,
           2,
           3,
           1,
           3,
           2,
           2,
           3,
           1,
           3,
           1,
           1,
           1,
           3,
           3,
           1,
           2,
           1,
           1,
           1,
           2,
           1,
           3,
           1,
           1,
           1,
           1,
           1,
           1,
           2,
           2,
           2,
           1,
           1,
           1,
           1,
           3,
           2,
           2,
           1,
           3,
           1,
           2,
           1,
           1,
           3,
           1,
           1,
           3,
           1,
           1,
           1,
           2,
           1,
           2,
           1,
           2,
           2,
           2,
           1,
           2,
           1,
           2,
           2,
           1,
           2,
           2,
           1,
           2,
           2,
           2,
           1,
           2,
           3,
           2,
           2,
           2,
           1,
           2,
           2,
           2,
           2,
           2,
           1,
           2,
           1,
           2,
           1,
           3,
           2,
           2,
           1,
           2,
           2,
           2,
           2,
           1,
           2,
           2,
           2,
           3,
           2,
           2,
           2,
           1,
           1,
           2,
           3,
           2,
           3,
           2,
           2,
           2,
           2,
           2,
           3,
           3,
           2,
           2,
           2,
           2,
           1,
           1,
           3,
           2,
           2,
           2,
           2,
           2,
           3,
           1,
           1,
           2,
           1,
           1,
           1,
           1,
           1,
           3,
           1,
           2,
           1,
           2,
           1,
           1,
           2,
           1,
           1,
           3,
           1,
           1,
           1,
           2,
           1,
           2,
           1,
           2,
           1,
           1,
           2,
           1,
           1,
           1,
           3,
           1,
           1,
           2,
           2,
           1,
           3,
           1,
           1,
           1,
           1,
           1,
           1,
           2,
           3,
           3,
           2,
           2,
           1,
           3,
           1,
           1,
           1,
           1,
           1,
           1,
           2,
           1,
           1,
           1,
           1,
           1,
           2,
           1,
           1,
           1,
           1,
           1,
           2,
           1,
           1,
           2,
           2,
           1,
           3,
           2,
           1,
           3,
           1,
           1,
           2,
           3,
           3,
           1,
           1,
           1,
           1,
           1,
           1,
           1,
           3,
           2,
           1,
           2,
           2,
           1,
           2,
           2,
           1,
           3,
           3,
           3,
           1,
           2,
           2,
           1,
           2,
           2,
           2,
           2
          ],
          "coloraxis": "coloraxis",
          "symbol": "circle"
         },
         "mode": "markers",
         "name": "",
         "orientation": "v",
         "showlegend": false,
         "type": "scatter",
         "x": [
          3.8517242645629595,
          3.864918459195225,
          4.139015923265565,
          3.129011830199895,
          2.1707597078290224,
          3.69204884337214,
          3.443788576929093,
          3.1592409465713707,
          3.625725111083133,
          3.0379334842981955,
          3.507144369813634,
          3.5722539714003507,
          1.960326532389331,
          3.3105315686110757,
          3.2127523866602017,
          2.5740319706079093,
          3.1128943167635494,
          2.7264083011703466,
          0.4852711315920256,
          2.0737633583190003,
          0.5675544857753022,
          3.0242670834846272,
          1.7307298307726453,
          1.757642677073038,
          2.932556481081227,
          2.7705898332179286,
          2.1689022584233197,
          2.837231789080205,
          2.8230326241455193,
          3.030648431130556,
          0.7095923204278086,
          0.39138826954145484,
          1.6178123389118064,
          2.7229742735231772,
          1.738181507688669,
          1.7763804085064467,
          2.4088110782495886,
          2.638212602533939,
          1.9777360363734702,
          2.8015586732883646,
          1.8010828829197645,
          2.086995943983331,
          2.069190541127459,
          2.7830016075442416,
          2.635643149464014,
          1.001468416687053,
          1.475143053025884,
          2.681020198954114,
          0.9685124230324449,
          1.8544937376083648,
          0.8974858055689093,
          -0.11464017900245152,
          -0.817207718288046,
          -0.4635258377591612,
          0.30627665345002303,
          0.12995190740012358,
          0.5291436471306351,
          0.6182936010987207,
          1.8554987226498596,
          2.7190817411539463,
          2.6788816708135035,
          1.89504167575288,
          2.6266050850403064,
          2.950722562344215,
          0.9543860721587935,
          0.08452461784168945,
          2.5138485863789772,
          1.117318400391017,
          0.6495919688133817,
          2.043065676498438,
          0.6977609024687491,
          2.4623549647489416,
          2.0376421538704936,
          1.9509962704682708,
          2.1016940958650485,
          0.24800026006743014,
          -0.8245252463834202,
          0.3280366863282371,
          0.2851946645112644,
          0.9577222013232936,
          1.548657313350622,
          1.0492500124310962,
          -0.16238654108528033,
          1.7439207043825955,
          -0.2558726347350996,
          -0.5713076919154098,
          0.10712180099977567,
          0.11476444291687984,
          0.5461185559132807,
          0.29626736511051893,
          0.02947556113293551,
          0.235443523695231,
          2.3611934527018064,
          1.8382728500160082,
          1.6665442529878847,
          1.7099698273976824,
          1.1644774849435913,
          2.273333297727892,
          2.152652681790343,
          -0.7283695371302564,
          2.253203124478237,
          2.0681830791087292,
          1.2153968163378994,
          1.7240683183139098,
          0.14351698712163044,
          1.8556432345727536,
          1.3722755347913087,
          1.778470975634164,
          2.416401919806969,
          0.700167943927299,
          1.6442505587196397,
          1.387260574220239,
          1.2915518208303867,
          1.7051673357540893,
          0.7697067265618408,
          0.6045805083480926,
          0.8971342810347263,
          0.6636663273645113,
          0.5976684588542043,
          -1.4096958751131246,
          -0.47935698273575855,
          0.2228034184662274,
          0.5512057780432258,
          -1.106865506896077,
          -0.09382802737954823,
          0.06177634346058472,
          -1.2982896814463931,
          -0.7551611351846261,
          -0.16525394120565393,
          1.3643746505312542,
          1.3376845676805436,
          -1.5941358926047102,
          -0.012891987770333709,
          0.21420057419982066,
          -0.8871247163012332,
          -0.814524545654665,
          -1.6472851369587729,
          -0.7776050143624078,
          -2.3622969546157697,
          -2.095495533026981,
          0.2912172192016261,
          0.9946205907298546,
          2.156982646872887,
          2.246190263140776,
          2.165480624528017,
          -0.7514293556663387,
          1.3739588011641786,
          1.4698440789669058,
          2.2003447184088616,
          1.950462724140181,
          -0.3209933504537004,
          -1.3595447672480747,
          2.3699436293248755,
          0.593538535385904,
          0.5591479437284411,
          2.049278369329109,
          0.3288096948467161,
          0.8086778437732939,
          1.510647598973618,
          0.4120998231015001,
          1.5726931809269256,
          1.3219530165293651,
          -0.6643914178141743,
          1.4046211158998556,
          1.95704641701958,
          -1.7486723322044435,
          0.10854709772413408,
          1.8252146578606279,
          -0.15884887406800283,
          0.9386727477283788,
          -0.8555777369840305,
          -0.5060790938929912,
          0.04634484202346853,
          0.2346298998597635,
          0.47685785983796175,
          0.5468053336743431,
          1.1837277329824443,
          0.4341825739189821,
          -0.044429028513983754,
          0.7808719464143091,
          0.6718499441001422,
          0.7675221349294173,
          -2.092784186952693,
          -1.4005618123090764,
          0.25725939389203134,
          -0.9112994424392262,
          -1.6252744616566064,
          -0.10045613137197966,
          -0.45759463174872844,
          -0.15711212230582491,
          -1.1423009289447563,
          -0.6934670844234168,
          -1.2719642049082005,
          0.051952529064359085,
          0.39685253050404246,
          -0.48098573199332256,
          -0.850144542306,
          -1.1937065910144649,
          1.8030709979047292,
          0.7652737224035623,
          -0.0918356476174734,
          0.45630015287361403,
          -1.670412487443785,
          0.1651110721661429,
          -1.1717991520239677,
          1.5211988721753673,
          1.9060505347255876,
          -0.27358723954799746,
          1.2483652122856685,
          1.8857438651860328,
          -0.6526043670312689,
          1.4479023197347896,
          1.0141364072791685,
          1.1350857040553821,
          1.124876290886104,
          -1.1910841047500433,
          -1.0729996001013844,
          -0.6951921577211205,
          1.426437058492681,
          1.9009846379291255,
          -1.1681737505240501,
          1.7633981389793936,
          2.038287770280382,
          -1.089766091708399,
          0.6705834567835108,
          0.22308235657095926,
          1.811323404873206,
          1.0942665576159227,
          1.699244377707056,
          -1.066080840721993,
          1.5873738471104921,
          0.8174172623649424,
          -1.3226398113752216,
          0.2477707801679072,
          0.35441346481848796,
          -1.597250196890758,
          -1.2933712083254307,
          1.7823398161644604,
          2.174733778090835,
          1.881297555566945,
          0.19373317821077635,
          2.010299559481064,
          -0.15424966595194062,
          2.083541161298023,
          -1.4082096250504608,
          1.8893333163285648,
          -1.427318818132614,
          1.2371482432358454,
          -0.34640992450052294,
          1.1320445192217392,
          1.2151444768190172,
          -1.5544809094189314,
          -0.7743220141910244,
          -0.10450914800529146,
          0.32441238419757307,
          -0.44676490863998636,
          -1.1547708058312358,
          2.1317538631884716,
          0.3559990105141341,
          -1.1924483533683854,
          -1.261695803947668,
          1.3222959975673563,
          1.070639656192767,
          1.3456894880986818,
          -0.5986456128119314,
          -0.6537318158477743,
          0.7490105038211182,
          -0.12915287384667834,
          -0.41327682423191175,
          -0.6790396374325355,
          1.3613250501517467,
          0.6426658157798038,
          0.836295008724965,
          0.9568590705096465,
          1.4975247438427233,
          0.01862906014516037,
          0.2612970047351994,
          -1.7472745401045264,
          0.7894822403106547,
          -0.4162441926235296,
          -1.3511516258939904,
          0.339008080582504,
          -2.0458966299564443,
          0.26744030781666484,
          -0.05793491706314048,
          -1.786650508598075,
          -1.8603796170439173,
          -0.20240729694720916,
          -0.8209660423544415,
          -0.35663672700186116,
          0.139830347463277,
          -1.2770906621008322,
          -1.462259104766908,
          -0.2731660076308741,
          0.5931820218446093,
          -0.2802562967379129,
          -1.340759013894465,
          -0.20525269703473764,
          0.6670445601897453,
          0.053184990470867624,
          -0.07461330702989818,
          -1.1163886027487913,
          -0.3240024069284629,
          -0.6467617785252244,
          -0.8752838714728556,
          -1.9288396020669891,
          -0.23134739811362137,
          -0.12544888048680458,
          -1.860494582094283,
          -0.40541818785505407,
          -2.163940898615292,
          -0.749144894265063,
          -1.369130479590261,
          -0.8597892455337747,
          0.18088001262081452,
          -0.900834740472992,
          -0.7082678920940453,
          -0.249635414238782,
          -0.5599984015211085,
          -0.05676112325551235,
          1.3990246299845142,
          0.5875983012898873,
          1.7593150492177234,
          1.5074233492428775,
          -0.3854492664540014,
          -1.3775507736603987,
          0.5652008718473451,
          -1.171866919343565,
          -1.2874878078096201,
          -1.0075701199053788,
          -0.5564799210556796,
          1.4629887983269125,
          2.0537633377132054,
          1.217021955957706,
          0.994452057285668,
          1.416043679079772,
          1.6575812834102444,
          0.803734682566947,
          -1.6087291323243829,
          1.5253705485874955,
          1.3236269206218687,
          1.984064365952552,
          -1.9377627672317206,
          -2.803249317337033,
          0.5898543542100659,
          -0.542833607058806,
          -1.3625085311666671,
          1.6699655727851273,
          1.516410902391997,
          -2.107163243490348,
          2.330371728064972,
          -0.5842525028389466,
          0.8833146717295685,
          1.3436697216653855,
          1.1474796682473678,
          1.6141831541230598,
          -1.6726364348649956,
          1.4582130911354967,
          -0.41311654336657505,
          -0.09659827681065236,
          1.6271673800687423,
          1.5133443947951222,
          1.3815034099750825,
          -1.5970778187843675,
          -0.8257706605757502,
          -0.8586763286099525,
          0.5091349168781407,
          -1.0238843230034236,
          -1.2257830467219093,
          2.0145549856706215,
          1.0673634989496186,
          1.7014692231282387,
          -0.6529476181496356,
          -0.5737397198760413,
          -0.43627851119622807,
          0.4759391496058891,
          0.5687672598016075,
          -0.5094279476449695,
          -0.5496766314601342,
          -1.2879659415838118,
          -0.9116298854329556,
          -1.0868393871624111,
          0.24833283520361163,
          -3.1279028446873443,
          -0.16858113523895923,
          -0.8475168665655144,
          1.2389964681047305,
          -0.888224219689546,
          0.8944996251670491,
          1.2927538829943799,
          -1.289087554006461,
          0.7727936175996594,
          1.2998366439751023,
          0.4072490579163163,
          1.3707822578509776,
          0.9797793128176882,
          -0.12036098139901699,
          1.3990354247166934,
          -0.717095981022623,
          0.842097158361969,
          -0.8547895965841213,
          -1.237392613306182,
          0.53849063240362,
          1.3431915360567026,
          0.6033269364844268,
          -0.325434976847724,
          -0.2923678756097038,
          0.6204436656767647,
          1.580441792537493,
          0.6398007321397415,
          0.46392417160778837,
          0.23909692675444755,
          1.297613510325334,
          -1.036421071636786,
          -0.5755310662315832,
          -0.36566942572404953,
          -1.8605474277207155,
          0.7223470436439237,
          0.6234798062849193,
          0.31449207962972303,
          0.8725759451814082,
          0.002826215798763126,
          0.8506816910460455,
          0.07639941386055824,
          0.21970623498245725,
          -1.5795309829344653,
          -1.221598619013279,
          -0.5326253607230977,
          -0.39243115408314433,
          -0.6096743103001859,
          -0.5843124363160458,
          -0.6909231354287368,
          -0.6651027271130601,
          -0.6657269798106964,
          0.13068230396593628,
          -1.1152910840361783,
          -0.009938221109845997,
          -0.1334584376054395,
          -0.4730271452999635,
          0.4986906469897692,
          -0.36592033871109897,
          -0.7432217977160044,
          -1.1135447579545334,
          0.5793786846295917,
          -0.6707468067983137,
          -1.0552277978310234,
          -1.0489554872999705,
          -0.43952835357003983,
          -0.3239465851488197,
          -0.4450744057403603,
          -1.7106421702548673,
          0.12665223854325278,
          -0.6796635730410361,
          -0.791124339337088,
          -0.9361822260834648,
          -2.030790804519486,
          1.207011522033078,
          -0.4793306481217921,
          -1.0225411901123287,
          -0.2872819127337354,
          0.1729001951440547,
          -1.7607692145480456,
          0.04899895054187835,
          -0.5471800953464895,
          -0.18279027319501867,
          -0.8364690601485206,
          1.5314247406447772,
          0.8135163486440932,
          -0.6067156670021073,
          1.2511823437116703,
          2.045615599120908,
          -0.2854611555728933,
          1.5293579682231757,
          -2.0731217736442353,
          0.45113879406479673,
          1.256474266418508,
          -0.5956982835089796,
          -0.8874505267526046,
          0.13665932501831612,
          -0.3870140953252281,
          1.33136969535458,
          0.4604104113316223,
          -1.719770050169382,
          0.5452030977131583,
          -1.3455586075660098,
          1.4696558357026452,
          0.3425656518546012,
          0.35544125107739344,
          -0.09923950722120597,
          -0.7786435042092337,
          1.2914257551684967,
          0.1707542505207533,
          -0.9072182297339818,
          -1.0550986381255985,
          1.8296082522623531,
          0.6538384886980914,
          -1.2496069537876262,
          1.0043077142867676,
          1.433651127062062,
          0.31998446187797763,
          -0.44120474108295415,
          -1.523894011551353,
          -1.5632648148449124,
          1.2013437510268719,
          -1.4200490675206208,
          0.8356178604165566,
          0.42875322802125776,
          0.20337400947831197,
          1.4009466333715674,
          0.34266093013520543,
          -0.3247483337837866,
          -1.5576936914120827,
          0.05826922140598806,
          -1.0269445912321398,
          -0.62470735389362,
          0.31682797965909065,
          0.9269333719164851,
          -0.5960636407495633,
          -0.6805106943385107,
          0.7119254669662755,
          -0.35305651744848304,
          -0.057019189376784546,
          -1.2897482998958572,
          -0.09032182153520395,
          0.3683350119792451,
          0.10268736495022054,
          -0.9138693335495691,
          -0.5520216533503731,
          0.0586314991355594,
          -2.356289994181136,
          -0.6735987594867014,
          -2.0335515901700756,
          -0.31275637469351736,
          -0.02706752523877311,
          -0.03475760444844599,
          -0.5656032222796632,
          -1.5415964228000774,
          -1.0297544841070556,
          -0.47216758771588657,
          -0.6130353682156886,
          -0.17711569168512015,
          -0.03806808143604236,
          -1.195919706032097,
          -2.432595649006076,
          -0.11042976320728647,
          -0.5068545015616618,
          -0.4833799220881144,
          -0.38726186188236733,
          -0.33898914733661417,
          -1.3372866571300377,
          -0.4904453078516067,
          -0.7082566779399652,
          -1.153310383192705,
          -0.23380461697481447,
          -1.7281681057639837,
          -1.156157694708368,
          -1.5424156220368541,
          -0.5999670482758379,
          -1.2083656389718096,
          0.039274402941132366,
          0.18763146863880276,
          -0.8806276026039984,
          -1.0257730443458897,
          -1.3778276115731598,
          1.2193590658335642,
          -0.5924915437626651,
          0.5527245922446463,
          -0.5522200435168854,
          -1.0933831284258897,
          -0.09934276825188981,
          -1.6022340751697302,
          0.3639612381345806,
          -2.0376238909265845,
          1.4821108895642365,
          1.5261728312670317,
          0.8611570887734055,
          0.22654865498880472,
          -1.1243955787414222,
          -0.37431726020721695,
          -1.6080651507653962,
          -1.0452222612410487,
          -1.2443861375290401,
          -2.205198812915661,
          1.0719032605499188,
          0.20744249927542718,
          -1.7345473291938176,
          -0.9543759722258469,
          0.796073519622833,
          -1.7444197248654583,
          0.5129950590512978,
          0.8277734855492163,
          0.7038388254432482,
          -0.5690036654046335,
          -1.6256702027724441,
          0.895271533751955,
          0.9036336300093508,
          -2.736734894253041,
          0.46824268170683125,
          -1.7312013190671192,
          -0.5374625798951457,
          1.3492526481492435,
          -1.212500117715537,
          -0.13146962283584507,
          -0.3184741610009941,
          -0.5922092910078319,
          0.7359276197699838,
          1.1644973156492948,
          -0.2170221757937128,
          -0.5488755843268123,
          1.5345550499742187,
          -1.9933965117240724,
          0.39158201797884495,
          0.8151969539396393,
          0.9080526082576701,
          2.011719994655276,
          -2.104793901221271,
          0.4835380524259094,
          0.78477544197544,
          0.5840347116052504,
          1.1587950370775846,
          -1.3561158562340683,
          -3.339049214888159,
          0.33930199981577214,
          -1.1781740340073152,
          -2.4161620614961334,
          0.293212147009966,
          0.5614528517279233,
          -2.8769336360190803,
          0.9664445760420011,
          -0.489545066045062,
          -2.1420311518251287,
          -1.116557192984607,
          -0.8327506635925269,
          -0.012710623083866668,
          -1.22462059077241,
          0.447690377169352,
          0.6280232951816382,
          -0.719072444402678,
          1.2374528288772155,
          -1.579271617002137,
          -0.03525809029435606,
          -0.42053151453587584,
          1.3711309606757447,
          1.9333961784586913,
          -2.3503241439901656,
          0.10512339325221193,
          0.5780060431564565,
          -1.1227079480751117,
          -0.4161258595830413,
          -0.1376767122905461,
          -0.01299009395789813,
          -0.451342717572474,
          -0.6504257666764635,
          -1.7013727607665075,
          0.7538828828029053,
          -0.3045457684541915,
          -1.264706306159748,
          -0.3596587255535088,
          -1.3731539418394432,
          -1.54351487269548,
          -0.01251468356748775,
          0.24408877628681952,
          -0.041376669539220534,
          -0.15422001574944288,
          -0.22084461803374986,
          -0.5709226675060252,
          1.0138154882943777,
          -0.3651470102625265,
          0.6775410388259556,
          -0.4813352825884514,
          0.6267929316084199,
          -1.5504621858246634,
          0.4213741096733472,
          -0.17722657076054252,
          0.5863446445355641,
          -0.7024069914528478,
          0.997958548660385,
          -0.7683594153656299,
          -1.0234807827956214,
          1.1784961532818583,
          0.17712604373955443,
          -0.2958023365009124,
          -0.5723876332105053,
          -0.3996813269370721,
          -0.8121887963032882,
          -2.4567912694885243,
          -1.0978943197086592,
          -0.14930985845473227,
          -0.6908861641908445,
          -0.4626855149338517,
          -0.21429152535673432,
          -1.2646473294232727,
          -0.7448661068975526,
          -1.1829154086964728,
          -0.19316488073876192,
          0.2744657605172776,
          -0.6656501213060044,
          -0.9232189835360647,
          -1.7597768214124252,
          -1.6465823514015203,
          -0.8626498762308784,
          -1.102130180860722,
          -0.7482957161138392,
          -0.588070323421597,
          -0.5993894495195657,
          -0.46953450819583714,
          -0.3864533624503728,
          -1.3305330587572035,
          -0.2758591083862273,
          -0.9536077626269901,
          -1.0120891723354413,
          0.14941888927232666,
          -2.46632457812598,
          1.1159590212855854,
          0.014716053197744161,
          0.9806741224104791,
          0.7055558696305269,
          -1.4888217362630127,
          -0.7349530296387558,
          -2.093155580852429,
          0.45606202986284544,
          1.0148864522891672,
          0.6684377945216027,
          -0.7124728672826848,
          0.7253937377795068,
          -0.91927571172525,
          -2.000089866306049,
          -2.348684246382086,
          1.331224506591295,
          -1.9123013810051952,
          -0.5289937114781738,
          0.8356161123469985,
          -1.6074396805629318,
          -2.151911334642906,
          0.5459042354090211,
          0.8122609594534134,
          1.372308384715238,
          1.0074359877439603,
          -2.1366129200337682,
          0.9803866703827628,
          1.1043177595910607,
          1.3315223934222478,
          1.273546495741732,
          1.0942205397569964,
          1.0103111825767395,
          0.5282867354563459,
          1.0934711662288639,
          -0.4993499036087313,
          -0.568404361504881,
          -1.5678023948237652,
          0.12456786900000438,
          -1.3119641908915853,
          -0.35080508985085307,
          -0.8617297304221303,
          -1.512727618868488,
          0.4701268193944233,
          -2.2639056146289325,
          -0.2489754756910478,
          0.5253015509531404,
          0.14984980029281308,
          -2.112118919312942,
          -1.663308723323663,
          0.8915475827707902,
          -1.152686692798008,
          0.525861283846599,
          0.34514621049600497,
          0.5848099359434025,
          -0.45815880239945017,
          0.9020812078499749,
          -0.499582370812721,
          -0.03287923245334967,
          0.527316096990547,
          1.1736714060735656,
          0.5223530372722578,
          0.19198705971767765,
          0.7335986970758399,
          -1.77469772574896,
          -0.7684337513919259,
          -1.2049840765763595,
          -0.16984116263319973,
          -0.1787535743217863,
          0.6688999937558859,
          0.41392797671879117,
          -1.8764172714080947,
          -0.3973900413864386,
          -1.7636752172706358,
          1.0203575827232465,
          -2.573858504686478,
          0.2995057027017524,
          -1.14736570386345,
          0.08090310726032396,
          -0.16942552943385483,
          -1.3220622883593713,
          0.6245952426285252,
          -0.2786252543936997,
          -1.8550730585646757,
          0.18068788313234602,
          0.5720967920215734,
          0.6446250167775909,
          -1.5902623527672728,
          0.26225384322375217,
          -0.8441147495340853,
          0.09196352022595333,
          -1.4575284428125896,
          -1.005093793865837,
          -1.2354673150600166,
          -0.5635037230628884,
          -1.411030536090875,
          0.27765319081610645,
          -0.9255339413210254,
          -0.4461030738367422,
          0.020315638122338112,
          -0.2676934460259204,
          -0.7541826758832799,
          0.46001490637231884,
          -0.4675958780661558,
          -0.7886288867611607,
          -0.770446638337125,
          0.3235503125496387,
          -1.0679170886711038,
          -1.7853002851475708,
          -0.4094157323729087,
          -0.45230478165761595,
          -0.8164554465663253,
          -0.409536271608583,
          -1.2037535395346572,
          -1.0558873874273633,
          -1.2823922278554085,
          -0.9629082529524697,
          -0.15037511412120583,
          0.16028458005798235,
          -0.791618386575793,
          0.27001272121766157,
          -1.1790148551003634,
          0.17714311988511294,
          -1.7380016059382344,
          -0.9592217543200742,
          -1.1516018334625597,
          0.02413446161190991,
          -0.41077797757576046,
          -0.5366629945263924,
          -0.8405559149436679,
          -0.5721957014614053,
          -0.19708533983501378,
          -1.031607134164586,
          -1.0957367214694693,
          -0.6157530082634356,
          -2.810659245237716,
          -1.2162337412578093,
          -0.7540903507617083,
          -1.1565018449108238,
          0.014296106240944684,
          -0.371261391554425,
          -1.0580537876542517,
          -2.6769181023900726,
          -1.0064999310812812,
          -2.8737914913840927,
          -0.5446741426040449,
          -0.26016308837741065,
          -0.9076396829795662,
          -1.003847283221165,
          -1.398579210641875,
          -2.3144191157915697,
          -1.6918323317065838,
          -0.8284537104673179,
          -0.3096155871326761,
          -0.8985902833221278,
          -0.5768883474545026,
          -0.43560306364229706,
          0.8514017924276485,
          -2.376638989599103,
          -1.055220098763565,
          -0.8207569527041474,
          -0.6656333365114085,
          -1.0818114165174668,
          -1.0265025040752045,
          -2.1599134511798033,
          1.1253036226490432,
          0.6384096711724823,
          -1.0783410162863794,
          0.2711412289285256,
          0.7182929456302567,
          0.5482225886607734,
          0.32300952658648036,
          0.2817473889271976,
          -1.8923647186575019,
          -0.19368918986124536,
          -0.5956303610264734,
          0.7630270960091583,
          -0.6558514310676807,
          -0.7094027709101012,
          -0.01750423702471385,
          -0.8608908039737573,
          0.640022340934852,
          0.5386228631381407,
          -2.0697774449895374,
          0.9337376901248937,
          0.14689537185823978,
          0.5463683428790045,
          -0.5054317060194632,
          0.4400901693809915,
          -0.9719439110986537,
          0.6552627852296418,
          -0.6073654766352388,
          0.9830712018290946,
          0.6010011068218701,
          -1.4599385995772731,
          0.26084500787395254,
          -0.23813300999582201,
          0.03776276125920466,
          -2.287087626533968,
          0.42679790592004,
          -0.13506128760547367,
          -1.00323935951987,
          -0.8645012591670225,
          0.2534963526432829,
          -3.1957528273113534,
          0.9460714259531717,
          1.1289151550112557,
          -0.22522222334677564,
          0.7200507827970091,
          0.009515029417167108,
          0.3806181516188109,
          -1.3036879180943275,
          -1.8233943362830651,
          -1.8701561249669802,
          -1.2295360258333812,
          -1.2800224542339644,
          -0.2594961290941908,
          -2.542697853063607,
          -0.0464157379056984,
          -0.4914030441009761,
          0.4993652580808126,
          0.3224008690963504,
          -0.035534734877047426,
          0.14269126451346517,
          -0.7214324553377435,
          1.1644299167601895,
          0.4446534848110069,
          0.08077252435602268,
          0.08096086528936143,
          0.7812801148876409,
          -0.5393774125628903,
          0.21254383523584233,
          -0.5732003591196191,
          -0.22273953755208611,
          0.32851729079331976,
          -0.27386117029264523,
          -0.6350151519188866,
          -0.40301460946755874,
          -0.09834118707716842,
          -0.9645187879259551,
          -0.5078422286712978,
          0.5016381877910434,
          -1.5243622748562828,
          -0.593949806245353,
          0.44981476282554117,
          -1.651793049355,
          -0.1973384380359238,
          -0.6307737135035626,
          -0.42831799726980385,
          -2.492393671533536,
          -1.4602295782507124,
          0.9505043260841497,
          0.3916722807572331,
          0.09114692948448012,
          0.2598996666724927,
          -0.10561833479793863,
          -0.3501157772089414,
          0.12283777391740582,
          -1.3603729528338082,
          -1.078362427728021,
          -0.5148199463078283,
          -0.7277601154518394,
          -1.0818776059829613,
          -0.40119917350530543,
          -1.4586915722901483,
          -0.7693516534298219,
          0.14440017352029424,
          -2.3213351911338953,
          -2.3166115861909877,
          -1.8880104767072363,
          0.09571400301752354,
          -0.5666981151281967,
          -1.3827486643801612,
          -0.33008850487297964,
          -0.9075320953216222,
          -1.1375486230244882,
          -1.7230994515649727,
          -0.667229946274642
         ],
         "xaxis": "x",
         "y": [
          3.8939264371017708,
          3.208545957383392,
          2.2719700141343657,
          2.82660142708601,
          3.4663910139134733,
          2.060807129864354,
          2.372252660096619,
          2.3987835026415456,
          1.8272024848736463,
          2.34078886865514,
          1.8082834297849943,
          1.797016547139826,
          2.7883227081856603,
          1.490497481994658,
          1.6625272927526913,
          1.9847222018795607,
          1.5313196243114109,
          1.7680003079430604,
          1.789815655007168,
          1.6545845202086529,
          1.7051159110152956,
          1.3422716344141057,
          2.1402811461605764,
          2.0694537652298592,
          1.3070473454356568,
          1.4211256017209661,
          1.6357041259767924,
          1.4988304277274425,
          1.4324462514189267,
          1.2078753711460868,
          1.3966905215217336,
          2.9688182549699147,
          1.9126891017497079,
          0.9007966058188116,
          1.706640776702981,
          1.7049696739419682,
          1.3590601873826993,
          1.1319967541244622,
          1.4801480704828054,
          1.045304136711746,
          1.8726077541896082,
          1.5631521343957044,
          1.6078500924285162,
          0.8432987616630004,
          1.023403090164893,
          1.7277645017753211,
          1.2713983895632122,
          1.0165428911842274,
          1.929808276458177,
          1.4844358134350617,
          2.339560707702115,
          2.7954486846840765,
          3.327400255457508,
          1.9208297976727855,
          0.780901979823603,
          0.8410123763985917,
          1.6468520398805913,
          1.4220287200443746,
          0.7438546630383189,
          0.36991079145081623,
          0.428250791878049,
          0.7196385433350153,
          0.783370565564684,
          0.5318189840696675,
          1.5816151880121294,
          1.9973658959115572,
          0.7040946956204124,
          1.4457788910277882,
          2.1342675299780223,
          1.2435098704321088,
          1.8330298872508028,
          0.6783503242896879,
          1.1081442864506976,
          0.9488729383434367,
          0.9630354245122965,
          0.764090617115343,
          1.903384950319768,
          2.3681886106910843,
          1.5251641887284437,
          1.1670923724433981,
          1.1524428961682942,
          1.1539918676850642,
          2.3566103465254384,
          0.49085057302137025,
          0.7665825571702848,
          1.6707733971180558,
          0.4701515326305138,
          1.843810264465796,
          1.2633903091464118,
          1.271745660277693,
          0.6089281264064295,
          0.9314719840160457,
          0.5607117490775356,
          0.8721068203328258,
          0.8805778675734961,
          0.9033183057483041,
          1.4304647771909758,
          0.5416459022731792,
          0.5260737504054759,
          1.7666440340046023,
          0.4450694296699016,
          0.6764696714383509,
          1.4926423584401738,
          0.7977826948101983,
          0.841564352485279,
          0.6466344942253078,
          0.7689867306198703,
          0.8019422376712484,
          0.3264988595091963,
          1.143795898429069,
          0.9207990059807067,
          0.4899109540888461,
          1.2974949246394751,
          0.7465511686609803,
          1.0775038124238776,
          1.0238275352305426,
          1.1080218663543728,
          1.4617002745122742,
          1.2094547846094197,
          2.469366726984166,
          2.0234789584805855,
          1.3167750601552108,
          1.636255319516575,
          2.631020698415001,
          1.69753949452143,
          1.3286413169929145,
          1.478511509359211,
          1.0962891022709977,
          0.4075441671236604,
          0.34921444903407484,
          0.4599192037633079,
          1.7182428898904951,
          0.7056833273819945,
          0.6866104216393996,
          1.5273988421411127,
          1.363502113114989,
          1.9327668561591036,
          1.3314616033005653,
          2.6692291807563837,
          2.254523193347894,
          0.9920742152729249,
          0.8039005093454765,
          0.24838517811463137,
          0.042491013420829976,
          0.2709823917536552,
          1.4257056378644726,
          0.5355839638829815,
          0.5522233037711334,
          -0.044147934219790436,
          0.39652624659293545,
          1.2570593785599218,
          1.5290807421508998,
          0.12922761909459793,
          1.0293354982424714,
          1.0682237313603404,
          0.1766290867961167,
          0.1944951985271446,
          1.1156306756840204,
          0.4177986355948063,
          0.18488180668503498,
          0.407235516947652,
          0.5221922905583904,
          1.0853752622114845,
          0.30619916736140657,
          0.1407354275587889,
          1.7680994866138051,
          1.428358649431103,
          0.3558087963526968,
          1.0999028154142874,
          0.6700655206938645,
          1.8128870114623017,
          0.5506194149528519,
          0.3101379739562439,
          0.22111086656718074,
          1.4023594504301236,
          0.8335634960595198,
          0.37093733477706264,
          0.5065469245554358,
          0.6861216630698718,
          0.6532839069301166,
          0.18215822905912496,
          0.42250491393127027,
          2.162733651887562,
          2.5406109536621924,
          0.22105231495518088,
          2.0337643535842895,
          2.5927550198307587,
          1.0520597391383733,
          0.5694879661603108,
          1.0312610992436553,
          1.4577578649209249,
          0.8259087742635068,
          1.10101916415524,
          -0.08573920071232172,
          0.2510982720777733,
          0.9823025324874938,
          0.8440819833909408,
          1.1806177286149995,
          -0.1908294487199351,
          0.4885826897614176,
          0.87395124618078,
          0.2656146844391498,
          1.6018011995132497,
          0.5685651889411825,
          1.1747475772027034,
          0.1428481596750972,
          -0.11630232834764936,
          0.10732574536623735,
          0.11058879763757146,
          -0.3037976704203054,
          0.8988407194162504,
          0.15321132080197233,
          0.3376967657482579,
          -0.028748156658330526,
          0.20994596693042045,
          1.1930912120559876,
          1.1461881431230636,
          0.8732315434674673,
          0.134873465439755,
          -0.09510199053443319,
          1.3933318051762076,
          -0.08542058019011461,
          -0.32021195648790207,
          1.0543929782193355,
          0.34406416345137264,
          0.5165824911873977,
          -0.18107290912626126,
          0.4333066764877784,
          0.08614803071682264,
          0.9568704069380783,
          0.010864054280478982,
          0.3712255915015459,
          1.1285258323922445,
          0.7181408156721785,
          -0.11119561442836862,
          2.213978009858501,
          1.4542480728608036,
          0.1006547910343234,
          -0.3199650952989667,
          -0.11160938303585338,
          0.7374921973132965,
          -0.2522707989688166,
          -0.009956584340531597,
          -0.2552585966506042,
          1.490566344285113,
          -0.044346515541327236,
          1.4167218081573993,
          0.44532454752593226,
          0.9055109399581581,
          0.45981189968172936,
          0.3604515831455436,
          1.5936961808154935,
          1.446764979293432,
          0.2473678569185404,
          0.7307171229343441,
          0.8080532040777365,
          1.2818803453045218,
          -0.33373780414146786,
          0.3555930362670421,
          0.743934301465677,
          0.9168031009862929,
          0.022336384900928652,
          0.17286297496731337,
          -0.06923233241198107,
          0.9613632415494734,
          1.3299339237376693,
          0.5042139340992153,
          0.3842621051280445,
          0.11732918491599681,
          0.7564434070472221,
          0.28863462999821615,
          0.28334265299265815,
          0.4111272917510024,
          0.18900662357302914,
          -0.027560196365082612,
          0.6398262572498592,
          0.42076546492564465,
          1.5845586214621497,
          0.3192120326644641,
          0.3019421766338477,
          1.0165773519646306,
          -0.03938925276231292,
          1.9579541603248343,
          0.4632612536200927,
          0.5038533600401467,
          1.7220597965667552,
          1.8716032825086675,
          -0.13009315402481378,
          0.8072888738117945,
          0.08928301613409872,
          0.055852040868425434,
          0.9739989057433007,
          1.0494466285929422,
          -0.11333486821826572,
          -0.1273452694015915,
          0.045989956241255514,
          1.2255906757186674,
          0.15495263469660717,
          0.21030289509734398,
          0.5934797586950109,
          0.12337793454391477,
          0.8119614452092039,
          -0.0072525175116122135,
          1.3544841309383826,
          0.5609543521069549,
          1.5503997258733506,
          0.7895346189719179,
          0.5933001639691617,
          1.5907806620412728,
          0.7893596118716721,
          2.104691949587384,
          0.4213538522668075,
          1.308168754588953,
          1.1468971643784047,
          -0.0976100424695186,
          0.0811807457364774,
          0.07432723461204263,
          -0.1655984305985587,
          0.33558254153653183,
          -0.35687060361760575,
          -0.38794651635320326,
          -0.12216235134126342,
          -0.49039320267327996,
          -0.5905028568869642,
          0.3839382469045514,
          0.755492433668501,
          -0.35596048910234795,
          0.4306576533235246,
          0.8385997186463192,
          0.855303123622559,
          0.618188106017779,
          -0.26208274235224044,
          -0.5839843923793887,
          -0.26485177297699813,
          0.05358739942402381,
          -0.4773085437348827,
          -0.43619700385061405,
          0.14434337182903062,
          1.4297598663670992,
          -0.3666906130701488,
          -0.41690941193338743,
          -0.6054288149786502,
          1.4136815921208825,
          1.9790408998346616,
          -0.13184644630007838,
          0.5123386121218639,
          0.6182054927543271,
          -0.3710254976707679,
          -0.3018711735297554,
          2.055957894471799,
          -0.7395078202149291,
          0.4871744245498237,
          0.03718898335914077,
          -0.40771996551342465,
          -0.14727977913647164,
          -0.4894886710820337,
          1.2137670230544553,
          -0.21065159997266056,
          0.4131788718968835,
          -0.2707724006107326,
          -0.46534979257239323,
          -0.4133805412022405,
          -0.18270311083787996,
          1.0287050148585737,
          0.6422843168534512,
          0.6750914498884164,
          -0.1658358329409886,
          0.7133989428536911,
          1.2989442013268988,
          -0.5623808588772096,
          -0.18320229467774987,
          -0.5240242615508433,
          0.13791929173280668,
          0.752465831319182,
          -0.26412516750131115,
          0.7618479747037211,
          0.08544662495435798,
          0.5023425762351994,
          0.4043509845442389,
          0.9204704439652341,
          0.7337408371576857,
          0.4294552690587352,
          0.07745286093711601,
          2.2773257429099947,
          0.06328432360145576,
          0.21213519871261052,
          -0.14621104665590864,
          1.022634925740621,
          -0.21448268805784806,
          -0.1998482274766654,
          0.48363797900684097,
          -0.17447095656117403,
          -0.47848304751447684,
          -0.19897296847290633,
          -0.4802559730621015,
          -0.43765066672367253,
          0.033937794222790266,
          -0.42981565317874365,
          1.0054576287453878,
          0.006658474094420427,
          0.558491045311182,
          0.4811448568062241,
          -0.2944643469465753,
          -0.04723259505881926,
          -0.1270424127261153,
          -0.4001958244610199,
          0.011063433775218385,
          -0.053088403680042764,
          -0.522770976131581,
          -0.11360280525129764,
          -0.24955234033568605,
          -0.12975043140555823,
          -0.49568069565649914,
          0.5079998176236039,
          0.01954128642255891,
          -0.23307983476193458,
          1.0094104730378075,
          -0.2916225954611576,
          -0.21976727521777042,
          -0.013530897554649578,
          -0.29780059722415564,
          -0.25019963613044366,
          -0.4076794340791789,
          -0.31416680269725544,
          0.1939036147341781,
          1.599097862704886,
          0.40007711785920913,
          0.3324065316799089,
          0.11938623884540132,
          0.22929460693405626,
          0.24225202079109784,
          0.6578430828833635,
          0.1452372846397928,
          -0.14773709342494654,
          -0.27060343178384555,
          0.963405597582171,
          -0.3418074229504328,
          -0.18649080980950924,
          0.033063251427239454,
          -0.35820600684862786,
          0.3412518397788464,
          -0.1018393742570521,
          0.42184238645425665,
          -0.42572397615120755,
          -0.047484885203451,
          0.3840392884879532,
          0.4915524611423623,
          0.07154576257663126,
          0.03728751448649045,
          0.6729315671302315,
          1.578666806238819,
          0.677316189666947,
          -0.16605399244105926,
          -0.057792039121664904,
          0.5632284898608462,
          1.5972739117504031,
          -0.7077299532485055,
          0.08383525016112103,
          0.26269321592588885,
          0.3890198226623617,
          -0.15840947046546688,
          0.8968139071350588,
          -0.30045867631073114,
          0.15094582451244362,
          0.1210753693443696,
          0.26868265434534905,
          -0.8677604923089888,
          -0.30251760854988247,
          0.8225887918515609,
          -0.5839277254893643,
          -1.1382794820473436,
          0.040633603497580856,
          -0.7936899886171069,
          1.0509967113544578,
          -0.38292199789843884,
          -0.5830800933923139,
          0.08651163894718175,
          0.3781060981229899,
          0.16103224076590347,
          0.37418263077338865,
          -0.6186528389748255,
          -0.25052859606942934,
          0.7813092898141166,
          -0.24218588428606366,
          0.5179914887189947,
          -0.817861159788037,
          0.05247291547435265,
          -0.4634943784903725,
          -0.09047581413922227,
          0.35589378983097025,
          -0.6380148988632334,
          -0.19547305773793358,
          -0.2814712225944445,
          0.23961441450522866,
          -0.8700947315837935,
          -0.0858329790641198,
          0.36186075191097333,
          -0.5569853822739177,
          -0.8096834149805306,
          -0.42888959670634,
          0.0069813228068093544,
          0.5457461841505907,
          0.5601502415560998,
          -0.631397555104242,
          0.510583120964541,
          -0.3257363265427001,
          -0.3040818682874321,
          0.07017470776911203,
          -0.806193393371678,
          -0.2521974147336179,
          -0.545083616236371,
          0.3639063157140988,
          -0.062111756296426845,
          0.4907025192172202,
          -0.5030787355721318,
          -0.33583826178946985,
          -0.4402698891972008,
          -0.10821755456457,
          -0.16144366318072217,
          -0.5157308424170989,
          -0.35677493299022206,
          -0.009336975221439059,
          0.975193000054214,
          -0.19097993875329802,
          -0.44463121567838226,
          -0.3889336413166631,
          -0.34290020813129257,
          0.1558948094001957,
          -0.4971698783743679,
          1.2550975260426454,
          -0.36465781914106987,
          0.9615308715284739,
          -0.5515149523753369,
          -0.6460950956844703,
          -0.46374482890866425,
          -0.05830388018401733,
          1.1618701970190888,
          -0.21132981813810184,
          -0.2332091667792872,
          -0.08584921438802755,
          -0.49514282443002416,
          -0.2843734899766067,
          -0.10231939639351587,
          1.1630196675778195,
          -0.48528612936133475,
          -0.5230510940707788,
          0.002537503156555432,
          0.055849750471541254,
          -0.523488176817894,
          0.3179611370971243,
          -0.02282432427977356,
          0.09387294420480263,
          0.0016008744499662333,
          -0.5092712442428319,
          0.8628296802917049,
          0.21690615847501352,
          0.32854405275047216,
          -0.011651929152482199,
          0.1978224568357468,
          -0.5707392074654211,
          -0.5467646200291705,
          -0.8852437027323389,
          -0.6979785309315265,
          0.0451955331304503,
          -1.0372909790786384,
          -0.6630182742193622,
          -1.0118569326999618,
          -0.6563472238988849,
          -0.6314077932667779,
          -0.6986311316632955,
          0.11913583045721868,
          -0.6964606577211067,
          0.4694388544900218,
          -1.2953729131743008,
          -1.229283160984249,
          -0.7273853901218386,
          -0.9001407091532669,
          -0.2110185564001419,
          -0.9397037388254973,
          0.19190485723192977,
          0.0027859040000376145,
          -0.09552265911354571,
          0.7042998817125,
          -1.078888775969582,
          -0.4141606432718061,
          0.13514606247334873,
          -0.14695809078714747,
          -1.2453550440844956,
          0.8747621563212095,
          -0.6846583856712777,
          -1.022197454551668,
          -0.7924800227426532,
          -0.9795383217889512,
          0.7735503217902765,
          -0.886271607573463,
          -0.8971472982578034,
          1.5160427918676105,
          -0.9992917266034401,
          0.4127756430363592,
          -0.7034078653706354,
          -1.1157562663077871,
          0.06467287311681316,
          -0.3106972807521916,
          -0.6517480109710471,
          -0.9885040128114849,
          -0.8638435672430038,
          -0.9722505648955166,
          -0.28306182175492767,
          -0.2944230943402223,
          -1.155212754529104,
          0.3370395613823716,
          -0.71274269654188,
          -0.619458813229544,
          -0.9456575537197119,
          -1.3836487152131915,
          1.6620941071427249,
          -0.7123548871484798,
          -0.7526790407085493,
          -0.5216114868091216,
          -0.9402784398428902,
          -0.003501258599366869,
          1.9131522261956302,
          -0.6425951462266355,
          -0.14326286206923985,
          0.7716093102033023,
          -0.5409145826046329,
          -0.924781792271158,
          1.3017660976056515,
          -0.8276066374752099,
          -0.43710733520313183,
          0.6867081142249399,
          -0.22068651771627518,
          -0.9043512978197991,
          -0.7287995562170585,
          -0.0008251435840601893,
          -0.9167197407423381,
          -0.9419207114099276,
          -0.26151587913341445,
          -1.0908356809564306,
          1.172655877582023,
          -0.5727988872646121,
          -0.6016901220388993,
          -1.1245292274969931,
          -1.3482128072736095,
          0.6235259048944651,
          -0.36039948097136554,
          -0.6995021665382707,
          -0.08392251838200146,
          -0.17684600829845595,
          -0.2867989417788347,
          -0.739004090208428,
          -0.6012209756765465,
          -0.5155664947593392,
          0.12092559513750115,
          -1.0317478720058098,
          -0.44438822263258526,
          -0.1660183566097662,
          -1.0193030223992934,
          0.08880927354434123,
          0.09060227771207688,
          -0.7433631697201681,
          -0.7589128316750126,
          -0.7188254282635186,
          -0.6126701939701706,
          -0.5539371388683504,
          -0.8249584487822759,
          -0.9221962120939089,
          -0.6173774492324456,
          -0.7521399386657578,
          -0.17841065955063254,
          -0.7921198412286227,
          0.17299898541211792,
          -0.759651761136465,
          -0.8773283290953873,
          -0.6865592095026156,
          -0.6184081741666899,
          -1.096343948368117,
          -0.4993961543056605,
          0.03561121919770291,
          -1.2455845043234812,
          -0.8959170083184286,
          -1.0052907408652405,
          -0.5965655808457379,
          -1.0040004293802742,
          -0.10592971003941001,
          0.6702710758477689,
          -0.4271020198790353,
          -1.011547453224037,
          -0.6703796324921655,
          -0.08074119746091354,
          -0.6813816707116973,
          -0.4494083830223143,
          -0.7405966016090443,
          0.2842032237573611,
          -0.7994677492473804,
          -0.8863052490347519,
          -0.6480663264069055,
          -0.5971451114638883,
          0.023588460025750407,
          0.5336999989477642,
          -0.8371823947110242,
          -0.4304511845361205,
          -0.8894355391160194,
          -0.6418780942853045,
          -0.8248011339547913,
          -0.9013940371856582,
          -0.8889845094411996,
          -0.10305093481432073,
          -0.9936227652597692,
          -0.8138759701963391,
          -0.16486015907633336,
          -1.278925108105241,
          0.23652673351790615,
          -1.4699140466131846,
          -0.9083145490506838,
          -1.3178478560417226,
          -1.3737551381149629,
          -0.3354518064554384,
          -0.3327966191455742,
          0.031903664530846115,
          -0.9228138645689312,
          -1.2390468030062998,
          -1.2327332083121005,
          -0.5080841406600879,
          -0.9636348873725924,
          -0.22960810010270077,
          -0.06334984053218198,
          0.39854211550497187,
          -1.414278556110461,
          -0.030980390378511444,
          -0.7473010313423495,
          -1.33621930774545,
          -0.10684909557982272,
          0.6226053240504676,
          -1.0369703377381048,
          -1.4128719977677016,
          -1.4275912147007441,
          -1.3830049888025264,
          0.5818274896548385,
          -1.169492821079984,
          -1.2718738966596768,
          -1.4305463258162467,
          -1.4537466468099773,
          -1.2462886818908754,
          -1.2536706726729627,
          -0.8972026834706042,
          -1.4469851394300166,
          -0.7082276522744194,
          -0.7602211220511822,
          -0.0027319080877941417,
          -0.9220794106104699,
          -0.17342845846811278,
          -1.3104229835171304,
          -1.2703317567931374,
          0.24325164969638674,
          -0.8371982171214362,
          0.18538809865556577,
          -0.7463274209973808,
          -0.9024393278045313,
          -0.806881241757486,
          -0.04787853987975557,
          -0.0000676976249576502,
          -1.3506995358971072,
          -0.402213118489395,
          -1.131402896900984,
          -1.0227066265443128,
          -1.0269420201119963,
          -0.7394105885531597,
          -1.3182111243731764,
          -0.05285853383183706,
          -1.1077188823590942,
          -0.9766850809133945,
          -1.4418355609127629,
          -1.1155381174623837,
          -1.1073429396421042,
          -1.2036214088565855,
          -0.4292396545024429,
          -0.3821695751333478,
          -0.7162284535987138,
          -0.9523207976126707,
          -0.8044468659099667,
          -1.1980899995833274,
          -1.1885766880566786,
          0.4527098238379704,
          -0.8018485563822538,
          -0.3100464351847811,
          -1.3280189109010456,
          0.4349493505960603,
          -0.9820338420805609,
          -0.9588059653678036,
          -1.0155813750814189,
          -0.6252572449159066,
          -0.2906959836697096,
          -1.1113150405427923,
          -0.7391810561577903,
          0.21406378479353633,
          -0.8108481009131729,
          -1.2759009052318566,
          -1.0646920452969335,
          -0.3830518832399151,
          -0.9615563391517933,
          -0.9235518985580733,
          -1.0343408039282487,
          -0.6073142173968843,
          -1.1784551868706938,
          -0.8010306772581759,
          -0.31866612958045515,
          -0.4842757717118642,
          -1.1139017364202306,
          -0.8559571137787537,
          -0.9968992657406357,
          -1.1082401559491302,
          -1.2344642116921074,
          -0.623543593434786,
          -1.2637580544347866,
          -1.1305216561250517,
          -0.485392651670429,
          -0.437687689591775,
          -1.2891644001182783,
          -0.9596398100992398,
          -0.1425789856488789,
          -0.9742496194828794,
          -0.8046417556663575,
          -0.5228602959704325,
          -0.566847917823523,
          -0.6218082358087215,
          -0.6209253500711441,
          -0.6478018719660895,
          -1.025839118173286,
          -1.1193906881047042,
          -0.9912977619153898,
          -1.0293251506301373,
          -1.132724946848007,
          -0.9928516332062277,
          -0.9901565239056854,
          -0.19721674429445052,
          -1.0305037487166946,
          -1.0265666130364095,
          -1.2224417680308792,
          -0.8774045819587679,
          -0.8338414744225695,
          -0.5194716504375027,
          -0.7170518273355548,
          -0.9235153122131724,
          -0.7313807705283449,
          -0.9779918298451905,
          -0.9817893691461193,
          0.8693058044822528,
          -0.8658060776483671,
          -1.0432522418713672,
          -0.8361110170465377,
          -1.0110332258977694,
          -0.6384133658271026,
          -1.1254336480433378,
          0.5809996805886095,
          -0.42918455187691845,
          0.6966005651833589,
          -1.3041332672420674,
          -1.1988389491957556,
          -1.2739828595726976,
          -0.6746813589597278,
          -0.6200937313898685,
          0.7771311682100939,
          0.12078645150260234,
          -1.3173029823270017,
          -1.1115267001075702,
          -1.1907154758128649,
          -1.5288854288667166,
          -1.140856839926387,
          -1.5625624118521588,
          -0.1907110567175821,
          -0.7725222568030544,
          -1.4477026165398552,
          -1.129145395484467,
          -0.9712172884370256,
          -1.1670545595250963,
          -0.2901603159055433,
          -1.8126118456803244,
          -1.493412504577235,
          -1.0544844259949964,
          -1.3944028974686147,
          -1.923832890108085,
          -1.7014531076603852,
          -1.2865833966150477,
          -1.4982108077535268,
          -0.3537252833760353,
          -1.1485308216604049,
          -1.2332969238872615,
          -1.657376716798581,
          -1.4810404347150556,
          -0.6817626115332792,
          -1.2535588264387687,
          -1.06570009960884,
          -1.6654165530986802,
          -1.6085789604489364,
          -0.33383456968863606,
          -1.7038072839419842,
          -1.2141147533244119,
          -1.2925518760242392,
          -1.5646760819260588,
          -1.4053063125058922,
          -0.6189598225752747,
          -1.40503994690523,
          -1.167661438215025,
          -1.6577310592036818,
          -1.7085001505217554,
          -0.889197756179388,
          -1.3861526639572928,
          -1.036440984449408,
          -1.2387029501749458,
          -0.2384350828341702,
          -1.4445301283628522,
          -1.0787958535269566,
          -0.9109319560421798,
          -1.1276597915079647,
          -1.2463052319359584,
          0.9390953253009838,
          -1.7492658316708192,
          -1.659465044213704,
          -1.110917524702745,
          -1.4926001908674136,
          -1.1218438876203722,
          -1.330696828937217,
          -0.6110463927327021,
          -0.24185179335876633,
          -0.18232668005058966,
          -0.7835564306789515,
          -0.7656981279966178,
          -1.0241819384560003,
          0.43751429666327074,
          -1.3111571258552777,
          -0.9694494599329817,
          -1.3390419048464264,
          -1.276712036386743,
          -1.4224361938580286,
          -1.3142348612256485,
          -0.980151344441189,
          -1.7615895369030765,
          -1.4660601885612508,
          -1.3172568921702539,
          -1.3096832074465907,
          -1.5437257305804257,
          -1.3067347585872018,
          -1.0043402764843545,
          -0.8237122298236284,
          -1.2241452763508518,
          -1.5216170037312988,
          -0.9191760296509898,
          -1.4251853006500517,
          -0.9932669530947245,
          -1.2984671269339456,
          -0.6625903333621646,
          -1.2669342400739607,
          -1.4748379894912809,
          -0.3405207840988323,
          -1.392515300436429,
          -1.6124094920701317,
          -0.4263330805364263,
          -1.2531335647854012,
          -0.847438502738755,
          -1.3174793493238812,
          -0.13540606704162866,
          -0.476626190149453,
          -1.7355461453194245,
          -1.3740532863807617,
          -1.456694914780793,
          -1.5022251168311973,
          -1.4160111168230072,
          -1.3008906936742395,
          -1.3688192825010705,
          -0.5215296925596239,
          -1.520263292048601,
          -0.9578650021611838,
          -1.104874530928641,
          -1.410272285717166,
          -1.265771900491547,
          -1.021694613815817,
          -1.2149350821628548,
          -1.5443956219929502,
          -0.32166720321579895,
          -0.24217241196501643,
          -0.411483412949977,
          -1.562168927047507,
          -1.5805109431986955,
          -0.9836792581626089,
          -1.1406732919626403,
          -1.5589118342960553,
          -1.1810711046391964,
          -0.9099779791198298,
          -1.5347641537817154
         ],
         "yaxis": "y"
        }
       ],
       "layout": {
        "coloraxis": {
         "colorbar": {
          "title": {
           "text": "Cluster"
          }
         },
         "colorscale": [
          [
           0,
           "#0d0887"
          ],
          [
           0.1111111111111111,
           "#46039f"
          ],
          [
           0.2222222222222222,
           "#7201a8"
          ],
          [
           0.3333333333333333,
           "#9c179e"
          ],
          [
           0.4444444444444444,
           "#bd3786"
          ],
          [
           0.5555555555555556,
           "#d8576b"
          ],
          [
           0.6666666666666666,
           "#ed7953"
          ],
          [
           0.7777777777777778,
           "#fb9f3a"
          ],
          [
           0.8888888888888888,
           "#fdca26"
          ],
          [
           1,
           "#f0f921"
          ]
         ]
        },
        "legend": {
         "tracegroupgap": 0
        },
        "template": {
         "data": {
          "bar": [
           {
            "error_x": {
             "color": "#2a3f5f"
            },
            "error_y": {
             "color": "#2a3f5f"
            },
            "marker": {
             "line": {
              "color": "#E5ECF6",
              "width": 0.5
             },
             "pattern": {
              "fillmode": "overlay",
              "size": 10,
              "solidity": 0.2
             }
            },
            "type": "bar"
           }
          ],
          "barpolar": [
           {
            "marker": {
             "line": {
              "color": "#E5ECF6",
              "width": 0.5
             },
             "pattern": {
              "fillmode": "overlay",
              "size": 10,
              "solidity": 0.2
             }
            },
            "type": "barpolar"
           }
          ],
          "carpet": [
           {
            "aaxis": {
             "endlinecolor": "#2a3f5f",
             "gridcolor": "white",
             "linecolor": "white",
             "minorgridcolor": "white",
             "startlinecolor": "#2a3f5f"
            },
            "baxis": {
             "endlinecolor": "#2a3f5f",
             "gridcolor": "white",
             "linecolor": "white",
             "minorgridcolor": "white",
             "startlinecolor": "#2a3f5f"
            },
            "type": "carpet"
           }
          ],
          "choropleth": [
           {
            "colorbar": {
             "outlinewidth": 0,
             "ticks": ""
            },
            "type": "choropleth"
           }
          ],
          "contour": [
           {
            "colorbar": {
             "outlinewidth": 0,
             "ticks": ""
            },
            "colorscale": [
             [
              0,
              "#0d0887"
             ],
             [
              0.1111111111111111,
              "#46039f"
             ],
             [
              0.2222222222222222,
              "#7201a8"
             ],
             [
              0.3333333333333333,
              "#9c179e"
             ],
             [
              0.4444444444444444,
              "#bd3786"
             ],
             [
              0.5555555555555556,
              "#d8576b"
             ],
             [
              0.6666666666666666,
              "#ed7953"
             ],
             [
              0.7777777777777778,
              "#fb9f3a"
             ],
             [
              0.8888888888888888,
              "#fdca26"
             ],
             [
              1,
              "#f0f921"
             ]
            ],
            "type": "contour"
           }
          ],
          "contourcarpet": [
           {
            "colorbar": {
             "outlinewidth": 0,
             "ticks": ""
            },
            "type": "contourcarpet"
           }
          ],
          "heatmap": [
           {
            "colorbar": {
             "outlinewidth": 0,
             "ticks": ""
            },
            "colorscale": [
             [
              0,
              "#0d0887"
             ],
             [
              0.1111111111111111,
              "#46039f"
             ],
             [
              0.2222222222222222,
              "#7201a8"
             ],
             [
              0.3333333333333333,
              "#9c179e"
             ],
             [
              0.4444444444444444,
              "#bd3786"
             ],
             [
              0.5555555555555556,
              "#d8576b"
             ],
             [
              0.6666666666666666,
              "#ed7953"
             ],
             [
              0.7777777777777778,
              "#fb9f3a"
             ],
             [
              0.8888888888888888,
              "#fdca26"
             ],
             [
              1,
              "#f0f921"
             ]
            ],
            "type": "heatmap"
           }
          ],
          "heatmapgl": [
           {
            "colorbar": {
             "outlinewidth": 0,
             "ticks": ""
            },
            "colorscale": [
             [
              0,
              "#0d0887"
             ],
             [
              0.1111111111111111,
              "#46039f"
             ],
             [
              0.2222222222222222,
              "#7201a8"
             ],
             [
              0.3333333333333333,
              "#9c179e"
             ],
             [
              0.4444444444444444,
              "#bd3786"
             ],
             [
              0.5555555555555556,
              "#d8576b"
             ],
             [
              0.6666666666666666,
              "#ed7953"
             ],
             [
              0.7777777777777778,
              "#fb9f3a"
             ],
             [
              0.8888888888888888,
              "#fdca26"
             ],
             [
              1,
              "#f0f921"
             ]
            ],
            "type": "heatmapgl"
           }
          ],
          "histogram": [
           {
            "marker": {
             "pattern": {
              "fillmode": "overlay",
              "size": 10,
              "solidity": 0.2
             }
            },
            "type": "histogram"
           }
          ],
          "histogram2d": [
           {
            "colorbar": {
             "outlinewidth": 0,
             "ticks": ""
            },
            "colorscale": [
             [
              0,
              "#0d0887"
             ],
             [
              0.1111111111111111,
              "#46039f"
             ],
             [
              0.2222222222222222,
              "#7201a8"
             ],
             [
              0.3333333333333333,
              "#9c179e"
             ],
             [
              0.4444444444444444,
              "#bd3786"
             ],
             [
              0.5555555555555556,
              "#d8576b"
             ],
             [
              0.6666666666666666,
              "#ed7953"
             ],
             [
              0.7777777777777778,
              "#fb9f3a"
             ],
             [
              0.8888888888888888,
              "#fdca26"
             ],
             [
              1,
              "#f0f921"
             ]
            ],
            "type": "histogram2d"
           }
          ],
          "histogram2dcontour": [
           {
            "colorbar": {
             "outlinewidth": 0,
             "ticks": ""
            },
            "colorscale": [
             [
              0,
              "#0d0887"
             ],
             [
              0.1111111111111111,
              "#46039f"
             ],
             [
              0.2222222222222222,
              "#7201a8"
             ],
             [
              0.3333333333333333,
              "#9c179e"
             ],
             [
              0.4444444444444444,
              "#bd3786"
             ],
             [
              0.5555555555555556,
              "#d8576b"
             ],
             [
              0.6666666666666666,
              "#ed7953"
             ],
             [
              0.7777777777777778,
              "#fb9f3a"
             ],
             [
              0.8888888888888888,
              "#fdca26"
             ],
             [
              1,
              "#f0f921"
             ]
            ],
            "type": "histogram2dcontour"
           }
          ],
          "mesh3d": [
           {
            "colorbar": {
             "outlinewidth": 0,
             "ticks": ""
            },
            "type": "mesh3d"
           }
          ],
          "parcoords": [
           {
            "line": {
             "colorbar": {
              "outlinewidth": 0,
              "ticks": ""
             }
            },
            "type": "parcoords"
           }
          ],
          "pie": [
           {
            "automargin": true,
            "type": "pie"
           }
          ],
          "scatter": [
           {
            "fillpattern": {
             "fillmode": "overlay",
             "size": 10,
             "solidity": 0.2
            },
            "type": "scatter"
           }
          ],
          "scatter3d": [
           {
            "line": {
             "colorbar": {
              "outlinewidth": 0,
              "ticks": ""
             }
            },
            "marker": {
             "colorbar": {
              "outlinewidth": 0,
              "ticks": ""
             }
            },
            "type": "scatter3d"
           }
          ],
          "scattercarpet": [
           {
            "marker": {
             "colorbar": {
              "outlinewidth": 0,
              "ticks": ""
             }
            },
            "type": "scattercarpet"
           }
          ],
          "scattergeo": [
           {
            "marker": {
             "colorbar": {
              "outlinewidth": 0,
              "ticks": ""
             }
            },
            "type": "scattergeo"
           }
          ],
          "scattergl": [
           {
            "marker": {
             "colorbar": {
              "outlinewidth": 0,
              "ticks": ""
             }
            },
            "type": "scattergl"
           }
          ],
          "scattermapbox": [
           {
            "marker": {
             "colorbar": {
              "outlinewidth": 0,
              "ticks": ""
             }
            },
            "type": "scattermapbox"
           }
          ],
          "scatterpolar": [
           {
            "marker": {
             "colorbar": {
              "outlinewidth": 0,
              "ticks": ""
             }
            },
            "type": "scatterpolar"
           }
          ],
          "scatterpolargl": [
           {
            "marker": {
             "colorbar": {
              "outlinewidth": 0,
              "ticks": ""
             }
            },
            "type": "scatterpolargl"
           }
          ],
          "scatterternary": [
           {
            "marker": {
             "colorbar": {
              "outlinewidth": 0,
              "ticks": ""
             }
            },
            "type": "scatterternary"
           }
          ],
          "surface": [
           {
            "colorbar": {
             "outlinewidth": 0,
             "ticks": ""
            },
            "colorscale": [
             [
              0,
              "#0d0887"
             ],
             [
              0.1111111111111111,
              "#46039f"
             ],
             [
              0.2222222222222222,
              "#7201a8"
             ],
             [
              0.3333333333333333,
              "#9c179e"
             ],
             [
              0.4444444444444444,
              "#bd3786"
             ],
             [
              0.5555555555555556,
              "#d8576b"
             ],
             [
              0.6666666666666666,
              "#ed7953"
             ],
             [
              0.7777777777777778,
              "#fb9f3a"
             ],
             [
              0.8888888888888888,
              "#fdca26"
             ],
             [
              1,
              "#f0f921"
             ]
            ],
            "type": "surface"
           }
          ],
          "table": [
           {
            "cells": {
             "fill": {
              "color": "#EBF0F8"
             },
             "line": {
              "color": "white"
             }
            },
            "header": {
             "fill": {
              "color": "#C8D4E3"
             },
             "line": {
              "color": "white"
             }
            },
            "type": "table"
           }
          ]
         },
         "layout": {
          "annotationdefaults": {
           "arrowcolor": "#2a3f5f",
           "arrowhead": 0,
           "arrowwidth": 1
          },
          "autotypenumbers": "strict",
          "coloraxis": {
           "colorbar": {
            "outlinewidth": 0,
            "ticks": ""
           }
          },
          "colorscale": {
           "diverging": [
            [
             0,
             "#8e0152"
            ],
            [
             0.1,
             "#c51b7d"
            ],
            [
             0.2,
             "#de77ae"
            ],
            [
             0.3,
             "#f1b6da"
            ],
            [
             0.4,
             "#fde0ef"
            ],
            [
             0.5,
             "#f7f7f7"
            ],
            [
             0.6,
             "#e6f5d0"
            ],
            [
             0.7,
             "#b8e186"
            ],
            [
             0.8,
             "#7fbc41"
            ],
            [
             0.9,
             "#4d9221"
            ],
            [
             1,
             "#276419"
            ]
           ],
           "sequential": [
            [
             0,
             "#0d0887"
            ],
            [
             0.1111111111111111,
             "#46039f"
            ],
            [
             0.2222222222222222,
             "#7201a8"
            ],
            [
             0.3333333333333333,
             "#9c179e"
            ],
            [
             0.4444444444444444,
             "#bd3786"
            ],
            [
             0.5555555555555556,
             "#d8576b"
            ],
            [
             0.6666666666666666,
             "#ed7953"
            ],
            [
             0.7777777777777778,
             "#fb9f3a"
            ],
            [
             0.8888888888888888,
             "#fdca26"
            ],
            [
             1,
             "#f0f921"
            ]
           ],
           "sequentialminus": [
            [
             0,
             "#0d0887"
            ],
            [
             0.1111111111111111,
             "#46039f"
            ],
            [
             0.2222222222222222,
             "#7201a8"
            ],
            [
             0.3333333333333333,
             "#9c179e"
            ],
            [
             0.4444444444444444,
             "#bd3786"
            ],
            [
             0.5555555555555556,
             "#d8576b"
            ],
            [
             0.6666666666666666,
             "#ed7953"
            ],
            [
             0.7777777777777778,
             "#fb9f3a"
            ],
            [
             0.8888888888888888,
             "#fdca26"
            ],
            [
             1,
             "#f0f921"
            ]
           ]
          },
          "colorway": [
           "#636efa",
           "#EF553B",
           "#00cc96",
           "#ab63fa",
           "#FFA15A",
           "#19d3f3",
           "#FF6692",
           "#B6E880",
           "#FF97FF",
           "#FECB52"
          ],
          "font": {
           "color": "#2a3f5f"
          },
          "geo": {
           "bgcolor": "white",
           "lakecolor": "white",
           "landcolor": "#E5ECF6",
           "showlakes": true,
           "showland": true,
           "subunitcolor": "white"
          },
          "hoverlabel": {
           "align": "left"
          },
          "hovermode": "closest",
          "mapbox": {
           "style": "light"
          },
          "paper_bgcolor": "white",
          "plot_bgcolor": "#E5ECF6",
          "polar": {
           "angularaxis": {
            "gridcolor": "white",
            "linecolor": "white",
            "ticks": ""
           },
           "bgcolor": "#E5ECF6",
           "radialaxis": {
            "gridcolor": "white",
            "linecolor": "white",
            "ticks": ""
           }
          },
          "scene": {
           "xaxis": {
            "backgroundcolor": "#E5ECF6",
            "gridcolor": "white",
            "gridwidth": 2,
            "linecolor": "white",
            "showbackground": true,
            "ticks": "",
            "zerolinecolor": "white"
           },
           "yaxis": {
            "backgroundcolor": "#E5ECF6",
            "gridcolor": "white",
            "gridwidth": 2,
            "linecolor": "white",
            "showbackground": true,
            "ticks": "",
            "zerolinecolor": "white"
           },
           "zaxis": {
            "backgroundcolor": "#E5ECF6",
            "gridcolor": "white",
            "gridwidth": 2,
            "linecolor": "white",
            "showbackground": true,
            "ticks": "",
            "zerolinecolor": "white"
           }
          },
          "shapedefaults": {
           "line": {
            "color": "#2a3f5f"
           }
          },
          "ternary": {
           "aaxis": {
            "gridcolor": "white",
            "linecolor": "white",
            "ticks": ""
           },
           "baxis": {
            "gridcolor": "white",
            "linecolor": "white",
            "ticks": ""
           },
           "bgcolor": "#E5ECF6",
           "caxis": {
            "gridcolor": "white",
            "linecolor": "white",
            "ticks": ""
           }
          },
          "title": {
           "x": 0.05
          },
          "xaxis": {
           "automargin": true,
           "gridcolor": "white",
           "linecolor": "white",
           "ticks": "",
           "title": {
            "standoff": 15
           },
           "zerolinecolor": "white",
           "zerolinewidth": 2
          },
          "yaxis": {
           "automargin": true,
           "gridcolor": "white",
           "linecolor": "white",
           "ticks": "",
           "title": {
            "standoff": 15
           },
           "zerolinecolor": "white",
           "zerolinewidth": 2
          }
         }
        },
        "title": {
         "text": "K-Means Clusters in 2D PCA Space"
        },
        "xaxis": {
         "anchor": "y",
         "domain": [
          0,
          1
         ],
         "title": {
          "text": "PC1 (popularity)"
         }
        },
        "yaxis": {
         "anchor": "x",
         "domain": [
          0,
          1
         ],
         "title": {
          "text": "PC2 (quality)"
         }
        }
       }
      }
     },
     "metadata": {},
     "output_type": "display_data"
    }
   ],
   "source": [
    "# Plot the clusters in the 2D space\n",
    "df_pca['Kmeans_cluster'] = df['Kmeans_cluster']\n",
    "df_pca['Series_Title'] = df['Series_Title']\n",
    "\n",
    "fig = px.scatter(\n",
    "  df_pca, \n",
    "  x='PC1', \n",
    "  y='PC2', \n",
    "  color='Kmeans_cluster',\n",
    "  hover_data={'PC1': True, 'PC2': True, 'Series_Title': True},\n",
    "  labels={'Kmeans_cluster': 'Cluster', 'PC1': 'PC1 (popularity)', 'PC2': 'PC2 (quality)'},\n",
    "  title='K-Means Clusters in 2D PCA Space'\n",
    ")\n",
    "fig.show()\n"
   ]
  },
  {
   "cell_type": "markdown",
   "metadata": {},
   "source": [
    "By visualizing the data we find the following insights:\n",
    "- the 4 clusters seem to be strongly linked to popularity and quality, roughly labeling the movies as Low-popularity / High-popularity and Lower-quality / Higher-quality.  \n",
    "  \n",
    "- The 4 regions have decently well determined boundaries.  \n",
    "  \n",
    "- The \"lower quality\" groupings tend to be clustered closer together, while the \"higher quality\" groupings are more sparce. This is explained by the skewed nature of the 'IMDB_Rating' feature.  \n",
    "  \n",
    "Some interesting representatives of the 4 clusters:\n",
    "- **Cluster 0** (high popularity, high quality):\n",
    "  - The Godfather\n",
    "  - The Dark Knight\n",
    "  - Avengers: Endgame  \n",
    "- **Cluster 1** (high popularity, lower quality):\n",
    "  - The Lego Movie\n",
    "  - Watchmen\n",
    "  - The Nightmare Before Christmas  \n",
    "- **Cluster 2** (lower popularity, lower quality):\n",
    "  - The Muppet Movie\n",
    "  - The Circus (Charlie Chaplin)\n",
    "  - Nosferatu  \n",
    "- **Cluster 3** (lower popularity, high quality):\n",
    "  - Tengoku to jigoku (High and Low)\n",
    "  - Tonari no Totoro (My neighbour Totoro)\n",
    "  - Modern Times (Charlie Chaplin)  \n",
    "  \n",
    "Besides the quality - popularity divide, I have also observed the following correlations:\n",
    "- Most animations and kids movies are found in cluster 1.\n",
    "- Most crime and superhero movies are found in cluster 0.\n",
    "- Most Japanese and French films are found in cluster 3.\n",
    "  \n",
    "This means that there might be other hidden connections between the data to be explored."
   ]
  },
  {
   "cell_type": "markdown",
   "metadata": {},
   "source": [
    "# Classification with Logistic Regression (Supervised Learning)\n",
    "Build a Logistic Regression classifier to predict a binary class (e.g., \"Is_Highly_Rated\") based on movie features."
   ]
  },
  {
   "cell_type": "markdown",
   "metadata": {},
   "source": [
    "## Steps to follow:\n",
    "- Create a binary target variable: for example, Is_Highly_Rated = 1 if IMDB rating >= 8.0, otherwise 0 (but you can select others that you identified relevant inprevious experiments).\n",
    "- Choose appropriate input features (including feature engineering).\n",
    "- Split dataset into training and test sets.\n",
    "- Train a Logistic Regression model.\n",
    "- Evaluate using accuracy, confusion matrix, precision, recall, and f1-score.\n",
    "- Interpret the coefficients of the model: what influences movie quality most?"
   ]
  },
  {
   "cell_type": "markdown",
   "metadata": {},
   "source": [
    "## Create binary target variable and choose features\n",
    "The target variable we will consider is 'Is_Flop', which measures if a movie achieved below average Gross values."
   ]
  },
  {
   "cell_type": "code",
   "execution_count": 123,
   "metadata": {},
   "outputs": [],
   "source": [
    "# Define target variable\n",
    "df['Is_Flop'] = (df['Gross'] < 0).astype(int)"
   ]
  },
  {
   "cell_type": "code",
   "execution_count": 130,
   "metadata": {},
   "outputs": [
    {
     "data": {
      "image/png": "[encoded data removed]",
      "text/plain": [
       "<Figure size 1200x1000 with 2 Axes>"
      ]
     },
     "metadata": {},
     "output_type": "display_data"
    }
   ],
   "source": [
    "# Heatmap of features\n",
    "plt.figure(figsize=(12, 10))\n",
    "sns.heatmap(\n",
    "  df.select_dtypes(include=[np.number]).corr(),\n",
    "  cmap=\"coolwarm\",\n",
    "  annot=True, annot_kws={\"size\": 6},fmt=\".2f\")\n",
    "plt.xticks(rotation=90)\n",
    "plt.yticks(rotation=0)\n",
    "plt.title(\"Feature correlation matrix of dataframe\")\n",
    "plt.show()"
   ]
  },
  {
   "cell_type": "markdown",
   "metadata": {},
   "source": [
    "By analyzing the heatmap, we get an idea of how certaing features are related to our new category.  \n",
    "  \n",
    "To predict this variable let us consider the following features:\n",
    "- *Gross*: as expected, this should impact our variable greatly;\n",
    "- *No_of_Votes*: popularity should also have a significant impact;\n",
    "- *Released_Year*: possibility that older movies generate less revenue;\n",
    "- *Drama*, *Action*, *Adventure*: these genres seem to impact the success most out of the ones considered;\n",
    "- *Meta_score*: lower rated movies could be less interesting to viewers.\n"
   ]
  },
  {
   "cell_type": "code",
   "execution_count": 133,
   "metadata": {},
   "outputs": [],
   "source": [
    "# Choose features for Regression training\n",
    "features = df[['Gross', 'No_of_Votes', 'Released_Year', 'Drama', 'Action', 'Adventure', 'Meta_score']].values\n",
    "target = df[['Is_Flop']].values.flatten()\n"
   ]
  },
  {
   "cell_type": "markdown",
   "metadata": {},
   "source": [
    "## Split dataset"
   ]
  },
  {
   "cell_type": "code",
   "execution_count": 136,
   "metadata": {},
   "outputs": [],
   "source": [
    "# Split data into train and test\n",
    "from sklearn.model_selection import train_test_split\n",
    "\n",
    "X_train, X_test, y_train, y_test = train_test_split(features, target, test_size=0.2, random_state=42)\n"
   ]
  },
  {
   "cell_type": "markdown",
   "metadata": {},
   "source": [
    "## Train Logistic Regression"
   ]
  },
  {
   "cell_type": "code",
   "execution_count": 143,
   "metadata": {},
   "outputs": [],
   "source": [
    "# Train Logistic Regression model\n",
    "from sklearn.linear_model import LogisticRegression\n",
    "\n",
    "log_regression = LogisticRegression(max_iter=1000, solver='liblinear')\n",
    "log_regression.fit(X_train, y_train)\n",
    "\n",
    "y_predicted = log_regression.predict(X_test)"
   ]
  },
  {
   "cell_type": "markdown",
   "metadata": {},
   "source": [
    "## Evaluate model\n",
    "We use multiple metrics to evaluate the performance of our model."
   ]
  },
  {
   "cell_type": "markdown",
   "metadata": {},
   "source": [
    "Metrics considered:  \n",
    "- **Confusion Matrix**: A 2x2 matrix which shows:  \n",
    "  - TP (True Positives)\n",
    "  - FP (False Positives)\n",
    "  - FN (False Negatives)\n",
    "  - TN (True Negatives).\n",
    "- **Accuracy** : The proportion of total predictions that are correct.\n",
    "  $$ \\text{Accuracy} = \\frac{TP+TN}{TP+TN+FP+FN} $$\n",
    "- **Precision**: Of all the examples the model predicted as positive, how many were actually TP.\n",
    "  $$ \\text{Precision} = \\frac{TP}{TP+FP} $$\n",
    "- **Recall**: Of all the actual positives, how many the model correctly identified.\n",
    "  $$ \\text{Recall} = \\frac{TP}{TP+FN} $$\n",
    "- **F1 Score**: The harmonic mean of precision and recall — balances the two.\n",
    "  $$ \\text{F1} = 2 \\times \\frac{\\text{Precision} \\times \\text{Recall}}{\\text{Precision} + \\text{Recall}} $$"
   ]
  },
  {
   "cell_type": "code",
   "execution_count": 146,
   "metadata": {},
   "outputs": [
    {
     "name": "stdout",
     "output_type": "stream",
     "text": [
      "Accuracy: 0.9798\n",
      "Confusion Matrix:\n",
      "[[120   0]\n",
      " [  4  74]]\n",
      "Precision: 1.0\n",
      "Recall: 0.9487\n",
      "F1 Score: 0.9737\n"
     ]
    }
   ],
   "source": [
    "# Evaluate model\n",
    "from sklearn.metrics import accuracy_score, confusion_matrix, precision_score, recall_score, f1_score, classification_report\n",
    "\n",
    "# Accuracy\n",
    "accuracy = accuracy_score(y_test, y_predicted)\n",
    "print(\"Accuracy:\", round(accuracy, 4))\n",
    "\n",
    "# Confusion Matrix\n",
    "conf_matrix = confusion_matrix(y_test, y_predicted)\n",
    "print(\"Confusion Matrix:\")\n",
    "print(conf_matrix)\n",
    "\n",
    "# Precision, Recall, F1 Score\n",
    "precision = precision_score(y_test, y_predicted, zero_division=0)\n",
    "recall = recall_score(y_test, y_predicted, zero_division=0)\n",
    "f1 = f1_score(y_test, y_predicted, zero_division=0)\n",
    "\n",
    "print(\"Precision:\", round(precision, 4))\n",
    "print(\"Recall:\", round(recall, 4))\n",
    "print(\"F1 Score:\", round(f1, 4))"
   ]
  },
  {
   "cell_type": "markdown",
   "metadata": {},
   "source": [
    "**Performance:**  \n",
    "We see a very good performance of the model, with no False Positive values and only 4 False Negative values."
   ]
  },
  {
   "cell_type": "markdown",
   "metadata": {},
   "source": [
    "## Feature importance\n",
    "We analyze how each variable contributed to the Logistics Regression model, by simply comparing the coefficients for each variable."
   ]
  },
  {
   "cell_type": "code",
   "execution_count": 148,
   "metadata": {},
   "outputs": [
    {
     "name": "stdout",
     "output_type": "stream",
     "text": [
      "         Feature  Coefficient\n",
      "0          Gross    -7.545052\n",
      "2  Released_Year    -0.329342\n",
      "5      Adventure     0.229808\n",
      "4         Action    -0.194322\n",
      "1    No_of_Votes    -0.159535\n",
      "6     Meta_score    -0.069647\n",
      "3          Drama    -0.063841\n"
     ]
    }
   ],
   "source": [
    "# Determine feature importance for trained model\n",
    "feature_names = ['Gross', 'No_of_Votes', 'Released_Year', 'Drama', 'Action', 'Adventure', 'Meta_score']\n",
    "\n",
    "coefficients = log_regression.coef_[0]\n",
    "coef_df = pd.DataFrame({\n",
    "    'Feature': feature_names,\n",
    "    'Coefficient': coefficients\n",
    "})\n",
    "\n",
    "# Sort by the absolute value of the coefficient to see which features have the strongest influence\n",
    "coef_df['Abs_Coefficient'] = np.abs(coef_df['Coefficient'])\n",
    "coef_df = coef_df.sort_values(by='Abs_Coefficient', ascending=False)\n",
    "print(coef_df[['Feature', 'Coefficient']])"
   ]
  },
  {
   "cell_type": "markdown",
   "metadata": {},
   "source": [
    "**Findings**:  \n",
    "- As expected, the most relevant feature for the model is the Gross, which we used to define our binary target variable.\n",
    "- The rest of the features have much lower impact on the model in comparison, but are nonetheless useful.\n",
    "- Out of the non-trivial feature, the biggest impact seems to be that of the 'Released_Year' variable, confirming that newer movies are less likely to be flops."
   ]
  },
  {
   "cell_type": "markdown",
   "metadata": {},
   "source": [
    "# Clustering with DBSCAN (Unsupervised Learning)"
   ]
  },
  {
   "cell_type": "markdown",
   "metadata": {},
   "source": [
    "**DBSCAN** (Density-Based Spatial Clustering of Applications with Noise) finds core samples in regions of high density and expands clusters from them. This algorithm is good for data which contains clusters of similar density.  \n",
    "Parameters:\n",
    "- eps: The maximum distance between two points for them to be considered neighbors.\n",
    "- min_samples: The minimum number of points required to form a dense region (a cluster core)."
   ]
  },
  {
   "cell_type": "code",
   "execution_count": 222,
   "metadata": {},
   "outputs": [
    {
     "name": "stdout",
     "output_type": "stream",
     "text": [
      "Number of clusters found by DBSCAN: 15\n"
     ]
    }
   ],
   "source": [
    "from sklearn.cluster import DBSCAN\n",
    "from sklearn.preprocessing import StandardScaler\n",
    "\n",
    "# Select features used for GMM-clustering\n",
    "features_columns = ['No_of_Votes', 'Gross', 'IMDB_Rating']\n",
    "df_features = df[features_columns]\n",
    "\n",
    "dbscan = DBSCAN(eps=0.3, min_samples=10)\n",
    "dbscan_labels = dbscan.fit_predict(df_features)\n",
    "\n",
    "# Add DBSCAN labels to dataframe\n",
    "df['DBSCAN_cluster'] = dbscan_labels\n",
    "\n",
    "# Check number of clusters (excluding -1, which is noise)\n",
    "n_clusters = len(set(dbscan_labels)) - (1 if -1 in dbscan_labels else 0)\n",
    "print(\"Number of clusters found by DBSCAN:\", n_clusters)"
   ]
  },
  {
   "cell_type": "code",
   "execution_count": 223,
   "metadata": {},
   "outputs": [
    {
     "data": {
      "application/vnd.plotly.v1+json": {
       "config": {
        "plotlyServerURL": "https://plot.ly"
       },
       "data": [
        {
         "customdata": [
          [
           "The Shawshank Redemption"
          ],
          [
           "The Godfather"
          ],
          [
           "The Dark Knight"
          ],
          [
           "The Godfather: Part II"
          ],
          [
           "12 Angry Men"
          ],
          [
           "The Lord of the Rings: The Return of the King"
          ],
          [
           "Pulp Fiction"
          ],
          [
           "Schindler's List"
          ],
          [
           "Inception"
          ],
          [
           "Fight Club"
          ],
          [
           "The Lord of the Rings: The Fellowship of the Ring"
          ],
          [
           "Forrest Gump"
          ],
          [
           "Il buono, il brutto, il cattivo"
          ],
          [
           "The Lord of the Rings: The Two Towers"
          ],
          [
           "The Matrix"
          ],
          [
           "Goodfellas"
          ],
          [
           "Star Wars: Episode V - The Empire Strikes Back"
          ],
          [
           "One Flew Over the Cuckoo's Nest"
          ],
          [
           "Hamilton"
          ],
          [
           "Gisaengchung"
          ],
          [
           "Soorarai Pottru"
          ],
          [
           "Interstellar"
          ],
          [
           "Cidade de Deus"
          ],
          [
           "Sen to Chihiro no kamikakushi"
          ],
          [
           "Saving Private Ryan"
          ],
          [
           "The Green Mile"
          ],
          [
           "La vita \u001a bella"
          ],
          [
           "Se7en"
          ],
          [
           "The Silence of the Lambs"
          ],
          [
           "Star Wars"
          ],
          [
           "Seppuku"
          ],
          [
           "Shichinin no samurai"
          ],
          [
           "It's a Wonderful Life"
          ],
          [
           "Joker"
          ],
          [
           "Whiplash"
          ],
          [
           "The Intouchables"
          ],
          [
           "The Prestige"
          ],
          [
           "The Departed"
          ],
          [
           "The Pianist"
          ],
          [
           "Gladiator"
          ],
          [
           "American History X"
          ],
          [
           "The Usual Suspects"
          ],
          [
           "L\u001aon"
          ],
          [
           "The Lion King"
          ],
          [
           "Terminator 2: Judgment Day"
          ],
          [
           "Nuovo Cinema Paradiso"
          ],
          [
           "Hotaru no haka"
          ],
          [
           "Back to the Future"
          ],
          [
           "Once Upon a Time in the West"
          ],
          [
           "Psycho"
          ],
          [
           "Casablanca"
          ],
          [
           "Modern Times"
          ],
          [
           "City Lights"
          ],
          [
           "Capharna\u001am"
          ],
          [
           "Ayla: The Daughter of War"
          ],
          [
           "Vikram Vedha"
          ],
          [
           "Kimi no na wa."
          ],
          [
           "Dangal"
          ],
          [
           "Spider-Man: Into the Spider-Verse"
          ],
          [
           "Avengers: Endgame"
          ],
          [
           "Avengers: Infinity War"
          ],
          [
           "Coco"
          ],
          [
           "Django Unchained"
          ],
          [
           "The Dark Knight Rises"
          ],
          [
           "3 Idiots"
          ],
          [
           "Taare Zameen Par"
          ],
          [
           "WALL\u001aE"
          ],
          [
           "The Lives of Others"
          ],
          [
           "Oldeuboi"
          ],
          [
           "Memento"
          ],
          [
           "Mononoke-hime"
          ],
          [
           "Raiders of the Lost Ark"
          ],
          [
           "The Shining"
          ],
          [
           "Apocalypse Now"
          ],
          [
           "Alien"
          ],
          [
           "Anand"
          ],
          [
           "Tengoku to jigoku"
          ],
          [
           "Dr. Strangelove or: How I Learned to Stop Worrying and Love the Bomb"
          ],
          [
           "Witness for the Prosecution"
          ],
          [
           "Paths of Glory"
          ],
          [
           "Rear Window"
          ],
          [
           "Sunset Blvd."
          ],
          [
           "The Great Dictator"
          ],
          [
           "1917"
          ],
          [
           "Tumbbad"
          ],
          [
           "Andhadhun"
          ],
          [
           "Drishyam"
          ],
          [
           "Jagten"
          ],
          [
           "Jodaeiye Nader az Simin"
          ],
          [
           "Incendies"
          ],
          [
           "Miracle in cell NO.7"
          ],
          [
           "Babam ve Oglum"
          ],
          [
           "Inglourious Basterds"
          ],
          [
           "Eternal Sunshine of the Spotless Mind"
          ],
          [
           "Am\u001alie"
          ],
          [
           "Snatch"
          ],
          [
           "Requiem for a Dream"
          ],
          [
           "American Beauty"
          ],
          [
           "Good Will Hunting"
          ],
          [
           "Bacheha-Ye aseman"
          ],
          [
           "Toy Story"
          ],
          [
           "Braveheart"
          ],
          [
           "Reservoir Dogs"
          ],
          [
           "Full Metal Jacket"
          ],
          [
           "Idi i smotri"
          ],
          [
           "Aliens"
          ],
          [
           "Amadeus"
          ],
          [
           "Scarface"
          ],
          [
           "Star Wars: Episode VI - Return of the Jedi"
          ],
          [
           "Das Boot"
          ],
          [
           "Taxi Driver"
          ],
          [
           "The Sting"
          ],
          [
           "A Clockwork Orange"
          ],
          [
           "2001: A Space Odyssey"
          ],
          [
           "Per qualche dollaro in pi\u001a"
          ],
          [
           "The Apartment"
          ],
          [
           "North by Northwest"
          ],
          [
           "Vertigo"
          ],
          [
           "Singin' in the Rain"
          ],
          [
           "Ikiru"
          ],
          [
           "Ladri di biciclette"
          ],
          [
           "Double Indemnity"
          ],
          [
           "Citizen Kane"
          ],
          [
           "M - Eine Stadt sucht einen M\u001arder"
          ],
          [
           "Metropolis"
          ],
          [
           "The Kid"
          ],
          [
           "Chhichhore"
          ],
          [
           "Uri: The Surgical Strike"
          ],
          [
           "K.G.F: Chapter 1"
          ],
          [
           "Green Book"
          ],
          [
           "Three Billboards Outside Ebbing, Missouri"
          ],
          [
           "Talvar"
          ],
          [
           "Baahubali 2: The Conclusion"
          ],
          [
           "Klaus"
          ],
          [
           "Drishyam"
          ],
          [
           "Queen"
          ],
          [
           "Mandariinid"
          ],
          [
           "Bhaag Milkha Bhaag"
          ],
          [
           "Udaan"
          ],
          [
           "Paan Singh Tomar"
          ],
          [
           "El secreto de sus ojos"
          ],
          [
           "Warrior"
          ],
          [
           "Shutter Island"
          ],
          [
           "Up"
          ],
          [
           "The Wolf of Wall Street"
          ],
          [
           "Chak De! India"
          ],
          [
           "There Will Be Blood"
          ],
          [
           "Pan's Labyrinth"
          ],
          [
           "Toy Story 3"
          ],
          [
           "V for Vendetta"
          ],
          [
           "Rang De Basanti"
          ],
          [
           "Black"
          ],
          [
           "Batman Begins"
          ],
          [
           "Der Untergang"
          ],
          [
           "Hauru no ugoku shiro"
          ],
          [
           "A Beautiful Mind"
          ],
          [
           "Hera Pheri"
          ],
          [
           "Lock, Stock and Two Smoking Barrels"
          ],
          [
           "L.A. Confidential"
          ],
          [
           "Eskiya"
          ],
          [
           "Heat"
          ],
          [
           "Casino"
          ],
          [
           "Andaz Apna Apna"
          ],
          [
           "Unforgiven"
          ],
          [
           "Indiana Jones and the Last Crusade"
          ],
          [
           "Dom za vesanje"
          ],
          [
           "Tonari no Totoro"
          ],
          [
           "Die Hard"
          ],
          [
           "Ran"
          ],
          [
           "Raging Bull"
          ],
          [
           "Stalker"
          ],
          [
           "H\u001astsonaten"
          ],
          [
           "The Message"
          ],
          [
           "Sholay"
          ],
          [
           "Monty Python and the Holy Grail"
          ],
          [
           "The Great Escape"
          ],
          [
           "To Kill a Mockingbird"
          ],
          [
           "Y\u001ajinb\u001a"
          ],
          [
           "Judgment at Nuremberg"
          ],
          [
           "Some Like It Hot"
          ],
          [
           "Smultronst\u001allet"
          ],
          [
           "Det sjunde inseglet"
          ],
          [
           "Du rififi chez les hommes"
          ],
          [
           "Dial M for Murder"
          ],
          [
           "T\u001aky\u001a monogatari"
          ],
          [
           "Rash\u001amon"
          ],
          [
           "All About Eve"
          ],
          [
           "The Treasure of the Sierra Madre"
          ],
          [
           "To Be or Not to Be"
          ],
          [
           "The Gold Rush"
          ],
          [
           "Sherlock Jr."
          ],
          [
           "Portrait de la jeune fille en feu"
          ],
          [
           "Pink"
          ],
          [
           "Koe no katachi"
          ],
          [
           "Contratiempo"
          ],
          [
           "Ah-ga-ssi"
          ],
          [
           "Mommy"
          ],
          [
           "Haider"
          ],
          [
           "Logan"
          ],
          [
           "Room"
          ],
          [
           "Relatos salvajes"
          ],
          [
           "Soul"
          ],
          [
           "Kis Uykusu"
          ],
          [
           "PK"
          ],
          [
           "OMG: Oh My God!"
          ],
          [
           "The Grand Budapest Hotel"
          ],
          [
           "Gone Girl"
          ],
          [
           "\u001akami kodomo no Ame to Yuki"
          ],
          [
           "Hacksaw Ridge"
          ],
          [
           "Inside Out"
          ],
          [
           "Barfi!"
          ],
          [
           "12 Years a Slave"
          ],
          [
           "Rush"
          ],
          [
           "Ford v Ferrari"
          ],
          [
           "Spotlight"
          ],
          [
           "Song of the Sea"
          ],
          [
           "Kahaani"
          ],
          [
           "Zindagi Na Milegi Dobara"
          ],
          [
           "Prisoners"
          ],
          [
           "Mad Max: Fury Road"
          ],
          [
           "A Wednesday"
          ],
          [
           "Gran Torino"
          ],
          [
           "Harry Potter and the Deathly Hallows: Part 2"
          ],
          [
           "Okuribito"
          ],
          [
           "Hachi: A Dog's Tale"
          ],
          [
           "Mary and Max"
          ],
          [
           "How to Train Your Dragon"
          ],
          [
           "Into the Wild"
          ],
          [
           "No Country for Old Men"
          ],
          [
           "Lage Raho Munna Bhai"
          ],
          [
           "Million Dollar Baby"
          ],
          [
           "Hotel Rwanda"
          ],
          [
           "Taegukgi hwinalrimyeo"
          ],
          [
           "Before Sunset"
          ],
          [
           "Munna Bhai M.B.B.S."
          ],
          [
           "Salinui chueok"
          ],
          [
           "Dil Chahta Hai"
          ],
          [
           "Kill Bill: Vol. 1"
          ],
          [
           "Finding Nemo"
          ],
          [
           "Catch Me If You Can"
          ],
          [
           "Amores perros"
          ],
          [
           "Monsters, Inc."
          ],
          [
           "Shin seiki Evangelion Gekij\u001a-ban: Air/Magokoro wo, kimi ni"
          ],
          [
           "The Sixth Sense"
          ],
          [
           "La leggenda del pianista sull'oceano"
          ],
          [
           "The Truman Show"
          ],
          [
           "Crna macka, beli macor"
          ],
          [
           "The Big Lebowski"
          ],
          [
           "Fa yeung nin wah"
          ],
          [
           "Trainspotting"
          ],
          [
           "Fargo"
          ],
          [
           "Underground"
          ],
          [
           "La haine"
          ],
          [
           "Dilwale Dulhania Le Jayenge"
          ],
          [
           "Before Sunrise"
          ],
          [
           "Trois couleurs: Rouge"
          ],
          [
           "Chung Hing sam lam"
          ],
          [
           "Jurassic Park"
          ],
          [
           "In the Name of the Father"
          ],
          [
           "Ba wang bie ji"
          ],
          [
           "D\u001a h\u001ang denglong gaogao gu\u001a"
          ],
          [
           "Dead Poets Society"
          ],
          [
           "Stand by Me"
          ],
          [
           "Platoon"
          ],
          [
           "Paris, Texas"
          ],
          [
           "Kaze no tani no Naushika"
          ],
          [
           "The Thing"
          ],
          [
           "Pink Floyd: The Wall"
          ],
          [
           "Fitzcarraldo"
          ],
          [
           "Fanny och Alexander"
          ],
          [
           "Blade Runner"
          ],
          [
           "The Elephant Man"
          ],
          [
           "Life of Brian"
          ],
          [
           "The Deer Hunter"
          ],
          [
           "Rocky"
          ],
          [
           "Network"
          ],
          [
           "Barry Lyndon"
          ],
          [
           "Zerkalo"
          ],
          [
           "Chinatown"
          ],
          [
           "Paper Moon"
          ],
          [
           "Viskningar och rop"
          ],
          [
           "Solaris"
          ],
          [
           "Le samoura\u001a"
          ],
          [
           "Cool Hand Luke"
          ],
          [
           "Persona"
          ],
          [
           "Andrei Rublev"
          ],
          [
           "La battaglia di Algeri"
          ],
          [
           "El \u001angel exterminador"
          ],
          [
           "What Ever Happened to Baby Jane?"
          ],
          [
           "Sanjuro"
          ],
          [
           "The Man Who Shot Liberty Valance"
          ],
          [
           "Ivanovo detstvo"
          ],
          [
           "Jungfruk\u001allan"
          ],
          [
           "Inherit the Wind"
          ],
          [
           "Les quatre cents coups"
          ],
          [
           "Kakushi-toride no san-akunin"
          ],
          [
           "Le notti di Cabiria"
          ],
          [
           "Kumonosu-j\u001a"
          ],
          [
           "The Bridge on the River Kwai"
          ],
          [
           "On the Waterfront"
          ],
          [
           "Le salaire de la peur"
          ],
          [
           "Ace in the Hole"
          ],
          [
           "White Heat"
          ],
          [
           "The Third Man"
          ],
          [
           "The Red Shoes"
          ],
          [
           "The Shop Around the Corner"
          ],
          [
           "Rebecca"
          ],
          [
           "Mr. Smith Goes to Washington"
          ],
          [
           "La Grande Illusion"
          ],
          [
           "It Happened One Night"
          ],
          [
           "La passion de Jeanne d'Arc"
          ],
          [
           "The Circus"
          ],
          [
           "Sunrise: A Song of Two Humans"
          ],
          [
           "The General"
          ],
          [
           "Das Cabinet des Dr. Caligari"
          ],
          [
           "Badhaai ho"
          ],
          [
           "Togo"
          ],
          [
           "Airlift"
          ],
          [
           "Bajrangi Bhaijaan"
          ],
          [
           "Baby"
          ],
          [
           "La La Land"
          ],
          [
           "Lion"
          ],
          [
           "The Martian"
          ],
          [
           "Zootopia"
          ],
          [
           "B\u001ahubali: The Beginning"
          ],
          [
           "Kaguyahime no monogatari"
          ],
          [
           "Wonder"
          ],
          [
           "Gully Boy"
          ],
          [
           "Special Chabbis"
          ],
          [
           "Short Term 12"
          ],
          [
           "Serbuan maut 2: Berandal"
          ],
          [
           "The Imitation Game"
          ],
          [
           "Guardians of the Galaxy"
          ],
          [
           "Blade Runner 2049"
          ],
          [
           "Her"
          ],
          [
           "Bohemian Rhapsody"
          ],
          [
           "The Revenant"
          ],
          [
           "The Perks of Being a Wallflower"
          ],
          [
           "Tropa de Elite 2: O Inimigo Agora \u001a Outro"
          ],
          [
           "The King's Speech"
          ],
          [
           "The Help"
          ],
          [
           "Deadpool"
          ],
          [
           "Darbareye Elly"
          ],
          [
           "Dev.D"
          ],
          [
           "Yip Man"
          ],
          [
           "My Name Is Khan"
          ],
          [
           "Nefes: Vatan Sagolsun"
          ],
          [
           "Slumdog Millionaire"
          ],
          [
           "Black Swan"
          ],
          [
           "Tropa de Elite"
          ],
          [
           "The Avengers"
          ],
          [
           "Persepolis"
          ],
          [
           "Dallas Buyers Club"
          ],
          [
           "The Pursuit of Happyness"
          ],
          [
           "Blood Diamond"
          ],
          [
           "The Bourne Ultimatum"
          ],
          [
           "Bin-jip"
          ],
          [
           "Sin City"
          ],
          [
           "Le scaphandre et le papillon"
          ],
          [
           "G.O.R.A."
          ],
          [
           "Ratatouille"
          ],
          [
           "Casino Royale"
          ],
          [
           "Kill Bill: Vol. 2"
          ],
          [
           "Vozvrashchenie"
          ],
          [
           "Bom Yeoareum Gaeul Gyeoul Geurigo Bom"
          ],
          [
           "Mar adentro"
          ],
          [
           "Cinderella Man"
          ],
          [
           "Kal Ho Naa Ho"
          ],
          [
           "Mou gaan dou"
          ],
          [
           "Pirates of the Caribbean: The Curse of the Black Pearl"
          ],
          [
           "Big Fish"
          ],
          [
           "The Incredibles"
          ],
          [
           "Yeopgijeogin geunyeo"
          ],
          [
           "Dogville"
          ],
          [
           "Vizontele"
          ],
          [
           "Donnie Darko"
          ],
          [
           "Magnolia"
          ],
          [
           "Dancer in the Dark"
          ],
          [
           "The Straight Story"
          ],
          [
           "P\u001afekuto bur\u001a"
          ],
          [
           "Festen"
          ],
          [
           "Central do Brasil"
          ],
          [
           "The Iron Giant"
          ],
          [
           "Knockin' on Heaven's Door"
          ],
          [
           "Sling Blade"
          ],
          [
           "Secrets & Lies"
          ],
          [
           "Twelve Monkeys"
          ],
          [
           "K\u001akaku Kid\u001atai"
          ],
          [
           "The Nightmare Before Christmas"
          ],
          [
           "Groundhog Day"
          ],
          [
           "Bound by Honor"
          ],
          [
           "Scent of a Woman"
          ],
          [
           "Aladdin"
          ],
          [
           "JFK"
          ],
          [
           "Beauty and the Beast"
          ],
          [
           "Dances with Wolves"
          ],
          [
           "Do the Right Thing"
          ],
          [
           "Rain Man"
          ],
          [
           "Akira"
          ],
          [
           "The Princess Bride"
          ],
          [
           "Der Himmel \u001aber Berlin"
          ],
          [
           "Au revoir les enfants"
          ],
          [
           "Tenk\u001a no shiro Rapyuta"
          ],
          [
           "The Terminator"
          ],
          [
           "Gandhi"
          ],
          [
           "Kagemusha"
          ],
          [
           "Being There"
          ],
          [
           "Annie Hall"
          ],
          [
           "Jaws"
          ],
          [
           "Dog Day Afternoon"
          ],
          [
           "Young Frankenstein"
          ],
          [
           "Papillon"
          ],
          [
           "The Exorcist"
          ],
          [
           "Sleuth"
          ],
          [
           "The Last Picture Show"
          ],
          [
           "Fiddler on the Roof"
          ],
          [
           "Il conformista"
          ],
          [
           "Butch Cassidy and the Sundance Kid"
          ],
          [
           "Rosemary's Baby"
          ],
          [
           "Planet of the Apes"
          ],
          [
           "The Graduate"
          ],
          [
           "Who's Afraid of Virginia Woolf?"
          ],
          [
           "The Sound of Music"
          ],
          [
           "Doctor Zhivago"
          ],
          [
           "Per un pugno di dollari"
          ],
          [
           "8\u001a"
          ],
          [
           "Vivre sa vie: Film en douze tableaux"
          ],
          [
           "The Hustler"
          ],
          [
           "La dolce vita"
          ],
          [
           "Rio Bravo"
          ],
          [
           "Anatomy of a Murder"
          ],
          [
           "Touch of Evil"
          ],
          [
           "Cat on a Hot Tin Roof"
          ],
          [
           "Sweet Smell of Success"
          ],
          [
           "The Killing"
          ],
          [
           "The Night of the Hunter"
          ],
          [
           "La Strada"
          ],
          [
           "Les diaboliques"
          ],
          [
           "Stalag 17"
          ],
          [
           "Roman Holiday"
          ],
          [
           "A Streetcar Named Desire"
          ],
          [
           "In a Lonely Place"
          ],
          [
           "Kind Hearts and Coronets"
          ],
          [
           "Rope"
          ],
          [
           "Out of the Past"
          ],
          [
           "Brief Encounter"
          ],
          [
           "Laura"
          ],
          [
           "The Best Years of Our Lives"
          ],
          [
           "Arsenic and Old Lace"
          ],
          [
           "The Maltese Falcon"
          ],
          [
           "The Grapes of Wrath"
          ],
          [
           "The Wizard of Oz"
          ],
          [
           "La r\u001agle du jeu"
          ],
          [
           "The Thin Man"
          ],
          [
           "All Quiet on the Western Front"
          ],
          [
           "Bronenosets Potemkin"
          ],
          [
           "Knives Out"
          ],
          [
           "Dil Bechara"
          ],
          [
           "Manbiki kazoku"
          ],
          [
           "Marriage Story"
          ],
          [
           "Call Me by Your Name"
          ],
          [
           "I, Daniel Blake"
          ],
          [
           "Isle of Dogs"
          ],
          [
           "Hunt for the Wilderpeople"
          ],
          [
           "Captain Fantastic"
          ],
          [
           "Sing Street"
          ],
          [
           "Thor: Ragnarok"
          ],
          [
           "Nightcrawler"
          ],
          [
           "Jojo Rabbit"
          ],
          [
           "Arrival"
          ],
          [
           "Star Wars: Episode VII - The Force Awakens"
          ],
          [
           "Before Midnight"
          ],
          [
           "X-Men: Days of Future Past"
          ],
          [
           "Bir Zamanlar Anadolu'da"
          ],
          [
           "The Artist"
          ],
          [
           "Edge of Tomorrow"
          ],
          [
           "Amour"
          ],
          [
           "Un proph\u001ate"
          ],
          [
           "Moon"
          ],
          [
           "L\u001at den r\u001atte komma in"
          ],
          [
           "District 9"
          ],
          [
           "The Wrestler"
          ],
          [
           "Jab We Met"
          ],
          [
           "Boyhood"
          ],
          [
           "4 luni, 3 saptam\u001ani si 2 zile"
          ],
          [
           "Star Trek"
          ],
          [
           "In Bruges"
          ],
          [
           "The Man from Earth"
          ],
          [
           "Letters from Iwo Jima"
          ],
          [
           "The Fall"
          ],
          [
           "Life of Pi"
          ],
          [
           "Fantastic Mr. Fox"
          ],
          [
           "C.R.A.Z.Y."
          ],
          [
           "Les choristes"
          ],
          [
           "Iron Man"
          ],
          [
           "Shaun of the Dead"
          ],
          [
           "Gegen die Wand"
          ],
          [
           "Mystic River"
          ],
          [
           "Harry Potter and the Prisoner of Azkaban"
          ],
          [
           "Ying xiong"
          ],
          [
           "Hable con ella"
          ],
          [
           "No Man's Land"
          ],
          [
           "Cowboy Bebop: Tengoku no tobira"
          ],
          [
           "The Bourne Identity"
          ],
          [
           "Nueve reinas"
          ],
          [
           "Children of Men"
          ],
          [
           "Almost Famous"
          ],
          [
           "Mulholland Dr."
          ],
          [
           "Toy Story 2"
          ],
          [
           "Boogie Nights"
          ],
          [
           "Mimi wo sumaseba"
          ],
          [
           "Once Were Warriors"
          ],
          [
           "True Romance"
          ],
          [
           "Trois couleurs: Bleu"
          ],
          [
           "J\u001ab\u001a ninp\u001ach\u001a"
          ],
          [
           "Carlito's Way"
          ],
          [
           "Edward Scissorhands"
          ],
          [
           "My Left Foot: The Story of Christy Brown"
          ],
          [
           "Crimes and Misdemeanors"
          ],
          [
           "The Untouchables"
          ],
          [
           "Hannah and Her Sisters"
          ],
          [
           "Brazil"
          ],
          [
           "This Is Spinal Tap"
          ],
          [
           "A Christmas Story"
          ],
          [
           "The Blues Brothers"
          ],
          [
           "Manhattan"
          ],
          [
           "All That Jazz"
          ],
          [
           "Dawn of the Dead"
          ],
          [
           "All the President's Men"
          ],
          [
           "La monta\u001aa sagrada"
          ],
          [
           "Amarcord"
          ],
          [
           "Le charme discret de la bourgeoisie"
          ],
          [
           "Aguirre, der Zorn Gottes"
          ],
          [
           "Harold and Maude"
          ],
          [
           "Patton"
          ],
          [
           "The Wild Bunch"
          ],
          [
           "Night of the Living Dead"
          ],
          [
           "The Lion in Winter"
          ],
          [
           "In the Heat of the Night"
          ],
          [
           "Charade"
          ],
          [
           "The Manchurian Candidate"
          ],
          [
           "Spartacus"
          ],
          [
           "L'avventura"
          ],
          [
           "Hiroshima mon amour"
          ],
          [
           "The Searchers"
          ],
          [
           "East of Eden"
          ],
          [
           "High Noon"
          ],
          [
           "Strangers on a Train"
          ],
          [
           "Harvey"
          ],
          [
           "Miracle on 34th Street"
          ],
          [
           "Notorious"
          ],
          [
           "The Big Sleep"
          ],
          [
           "The Lost Weekend"
          ],
          [
           "The Philadelphia Story"
          ],
          [
           "His Girl Friday"
          ],
          [
           "The Adventures of Robin Hood"
          ],
          [
           "A Night at the Opera"
          ],
          [
           "King Kong"
          ],
          [
           "Freaks"
          ],
          [
           "Nosferatu"
          ],
          [
           "The Gentlemen"
          ],
          [
           "Raazi"
          ],
          [
           "Sound of Metal"
          ],
          [
           "Forushande"
          ],
          [
           "Dunkirk"
          ],
          [
           "Perfetti sconosciuti"
          ],
          [
           "Hidden Figures"
          ],
          [
           "Paddington 2"
          ],
          [
           "Udta Punjab"
          ],
          [
           "Kubo and the Two Strings"
          ],
          [
           "M.S. Dhoni: The Untold Story"
          ],
          [
           "Manchester by the Sea"
          ],
          [
           "Under sandet"
          ],
          [
           "Rogue One"
          ],
          [
           "Captain America: Civil War"
          ],
          [
           "The Hateful Eight"
          ],
          [
           "Little Women"
          ],
          [
           "Loving Vincent"
          ],
          [
           "Pride"
          ],
          [
           "Le pass\u001a"
          ],
          [
           "La grande bellezza"
          ],
          [
           "The Lunchbox"
          ],
          [
           "Vicky Donor"
          ],
          [
           "Big Hero 6"
          ],
          [
           "About Time"
          ],
          [
           "English Vinglish"
          ],
          [
           "Kaze tachinu"
          ],
          [
           "Toy Story 4"
          ],
          [
           "La migliore offerta"
          ],
          [
           "Moonrise Kingdom"
          ],
          [
           "How to Train Your Dragon 2"
          ],
          [
           "The Big Short"
          ],
          [
           "Kokuhaku"
          ],
          [
           "Ang-ma-reul bo-at-da"
          ],
          [
           "The Girl with the Dragon Tattoo"
          ],
          [
           "Captain Phillips"
          ],
          [
           "Ajeossi"
          ],
          [
           "Straight Outta Compton"
          ],
          [
           "Madeo"
          ],
          [
           "Chugyeokja"
          ],
          [
           "The Hobbit: The Desolation of Smaug"
          ],
          [
           "Das wei\u001ae Band - Eine deutsche Kindergeschichte"
          ],
          [
           "M\u001an som hatar kvinnor"
          ],
          [
           "The Trial of the Chicago 7"
          ],
          [
           "Druk"
          ],
          [
           "The Fighter"
          ],
          [
           "Taken"
          ],
          [
           "The Boy in the Striped Pyjamas"
          ],
          [
           "Once"
          ],
          [
           "The Hobbit: An Unexpected Journey"
          ],
          [
           "Auf der anderen Seite"
          ],
          [
           "Atonement"
          ],
          [
           "Drive"
          ],
          [
           "American Gangster"
          ],
          [
           "Avatar"
          ],
          [
           "Mr. Nobody"
          ],
          [
           "Apocalypto"
          ],
          [
           "Little Miss Sunshine"
          ],
          [
           "Hot Fuzz"
          ],
          [
           "The Curious Case of Benjamin Button"
          ],
          [
           "Veer-Zaara"
          ],
          [
           "Adams \u001abler"
          ],
          [
           "Pride & Prejudice"
          ],
          [
           "The World's Fastest Indian"
          ],
          [
           "T\u001aky\u001a goddof\u001az\u001azu"
          ],
          [
           "Serenity"
          ],
          [
           "Walk the Line"
          ],
          [
           "Ondskan"
          ],
          [
           "The Notebook"
          ],
          [
           "Diarios de motocicleta"
          ],
          [
           "Lilja 4-ever"
          ],
          [
           "Les triplettes de Belleville"
          ],
          [
           "Gongdong gyeongbi guyeok JSA"
          ],
          [
           "The Count of Monte Cristo"
          ],
          [
           "Waking Life"
          ],
          [
           "Remember the Titans"
          ],
          [
           "Wo hu cang long"
          ],
          [
           "Todo sobre mi madre"
          ],
          [
           "Cast Away"
          ],
          [
           "The Boondock Saints"
          ],
          [
           "The Insider"
          ],
          [
           "October Sky"
          ],
          [
           "Shrek"
          ],
          [
           "Titanic"
          ],
          [
           "Hana-bi"
          ],
          [
           "Gattaca"
          ],
          [
           "The Game"
          ],
          [
           "Breaking the Waves"
          ],
          [
           "Ed Wood"
          ],
          [
           "What's Eating Gilbert Grape"
          ],
          [
           "Tombstone"
          ],
          [
           "The Sandlot"
          ],
          [
           "The Remains of the Day"
          ],
          [
           "Naked"
          ],
          [
           "The Fugitive"
          ],
          [
           "A Bronx Tale"
          ],
          [
           "Batman: Mask of the Phantasm"
          ],
          [
           "Lat sau san taam"
          ],
          [
           "Night on Earth"
          ],
          [
           "La double vie de V\u001aronique"
          ],
          [
           "Boyz n the Hood"
          ],
          [
           "Misery"
          ],
          [
           "Awakenings"
          ],
          [
           "Majo no takky\u001abin"
          ],
          [
           "Glory"
          ],
          [
           "Dip huet seung hung"
          ],
          [
           "Back to the Future Part II"
          ],
          [
           "Mississippi Burning"
          ],
          [
           "Predator"
          ],
          [
           "Evil Dead II"
          ],
          [
           "Ferris Bueller's Day Off"
          ],
          [
           "Down by Law"
          ],
          [
           "The Goonies"
          ],
          [
           "The Color Purple"
          ],
          [
           "The Breakfast Club"
          ],
          [
           "The Killing Fields"
          ],
          [
           "Ghostbusters"
          ],
          [
           "The Right Stuff"
          ],
          [
           "The King of Comedy"
          ],
          [
           "E.T. the Extra-Terrestrial"
          ],
          [
           "Kramer vs. Kramer"
          ],
          [
           "Days of Heaven"
          ],
          [
           "The Outlaw Josey Wales"
          ],
          [
           "The Man Who Would Be King"
          ],
          [
           "The Conversation"
          ],
          [
           "La plan\u001ate sauvage"
          ],
          [
           "The Day of the Jackal"
          ],
          [
           "Badlands"
          ],
          [
           "Cabaret"
          ],
          [
           "Willy Wonka & the Chocolate Factory"
          ],
          [
           "Midnight Cowboy"
          ],
          [
           "Wait Until Dark"
          ],
          [
           "Guess Who's Coming to Dinner"
          ],
          [
           "Bonnie and Clyde"
          ],
          [
           "My Fair Lady"
          ],
          [
           "Mary Poppins"
          ],
          [
           "The Longest Day"
          ],
          [
           "Jules et Jim"
          ],
          [
           "The Innocents"
          ],
          [
           "\u001a bout de souffle"
          ],
          [
           "Red River"
          ],
          [
           "Key Largo"
          ],
          [
           "To Have and Have Not"
          ],
          [
           "Shadow of a Doubt"
          ],
          [
           "Stagecoach"
          ],
          [
           "The Lady Vanishes"
          ],
          [
           "Bringing Up Baby"
          ],
          [
           "Bride of Frankenstein"
          ],
          [
           "Duck Soup"
          ],
          [
           "Scarface: The Shame of the Nation"
          ],
          [
           "Frankenstein"
          ],
          [
           "Roma"
          ],
          [
           "God's Own Country"
          ],
          [
           "Deadpool 2"
          ],
          [
           "Wind River"
          ],
          [
           "Get Out"
          ],
          [
           "Mission: Impossible - Fallout"
          ],
          [
           "En man som heter Ove"
          ],
          [
           "What We Do in the Shadows"
          ],
          [
           "Omoide no M\u001an\u001a"
          ],
          [
           "The Theory of Everything"
          ],
          [
           "Kingsman: The Secret Service"
          ],
          [
           "The Fault in Our Stars"
          ],
          [
           "Me and Earl and the Dying Girl"
          ],
          [
           "Birdman or (The Unexpected Virtue of Ignorance)"
          ],
          [
           "La vie d'Ad\u001ale"
          ],
          [
           "Kai po che!"
          ],
          [
           "The Broken Circle Breakdown"
          ],
          [
           "Captain America: The Winter Soldier"
          ],
          [
           "Rockstar"
          ],
          [
           "Nebraska"
          ],
          [
           "Wreck-It Ralph"
          ],
          [
           "Le Petit Prince"
          ],
          [
           "Detachment"
          ],
          [
           "Midnight in Paris"
          ],
          [
           "The Lego Movie"
          ],
          [
           "Gravity"
          ],
          [
           "Star Trek Into Darkness"
          ],
          [
           "Beasts of No Nation"
          ],
          [
           "The Social Network"
          ],
          [
           "X: First Class"
          ],
          [
           "The Hangover"
          ],
          [
           "Skyfall"
          ],
          [
           "Silver Linings Playbook"
          ],
          [
           "Argo"
          ],
          [
           "(500) Days of Summer"
          ],
          [
           "Harry Potter and the Deathly Hallows: Part 1"
          ],
          [
           "Gake no ue no Ponyo"
          ],
          [
           "Frost/Nixon"
          ],
          [
           "Papurika"
          ],
          [
           "Changeling"
          ],
          [
           "Flipped"
          ],
          [
           "Toki o kakeru sh\u001ajo"
          ],
          [
           "Death Note: Desu n\u001ato"
          ],
          [
           "This Is England"
          ],
          [
           "Ex Machina"
          ],
          [
           "Efter brylluppet"
          ],
          [
           "The Last King of Scotland"
          ],
          [
           "Zodiac"
          ],
          [
           "Lucky Number Slevin"
          ],
          [
           "Joyeux No\u001al"
          ],
          [
           "Control"
          ],
          [
           "Tangled"
          ],
          [
           "Zwartboek"
          ],
          [
           "Brokeback Mountain"
          ],
          [
           "3:10 to Yuma"
          ],
          [
           "Crash"
          ],
          [
           "Kung fu"
          ],
          [
           "The Bourne Supremacy"
          ],
          [
           "The Machinist"
          ],
          [
           "Ray"
          ],
          [
           "Lost in Translation"
          ],
          [
           "Harry Potter and the Goblet of Fire"
          ],
          [
           "Man on Fire"
          ],
          [
           "Coraline"
          ],
          [
           "The Last Samurai"
          ],
          [
           "The Magdalene Sisters"
          ],
          [
           "Good Bye Lenin!"
          ],
          [
           "In America"
          ],
          [
           "I Am Sam"
          ],
          [
           "Adaptation."
          ],
          [
           "Black Hawk Down"
          ],
          [
           "Road to Perdition"
          ],
          [
           "Das Experiment"
          ],
          [
           "Billy Elliot"
          ],
          [
           "Hedwig and the Angry Inch"
          ],
          [
           "Ocean's Eleven"
          ],
          [
           "Vampire Hunter D: Bloodlust"
          ],
          [
           "O Brother, Where Art Thou?"
          ],
          [
           "Interstate 60: Episodes of the Road"
          ],
          [
           "South Park: Bigger, Longer & Uncut"
          ],
          [
           "Office Space"
          ],
          [
           "Happiness"
          ],
          [
           "Training Day"
          ],
          [
           "Rushmore"
          ],
          [
           "Abre los ojos"
          ],
          [
           "Being John Malkovich"
          ],
          [
           "As Good as It Gets"
          ],
          [
           "The Fifth Element"
          ],
          [
           "Le d\u001aner de cons"
          ],
          [
           "Donnie Brasco"
          ],
          [
           "Shine"
          ],
          [
           "Primal Fear"
          ],
          [
           "A Little Princess"
          ],
          [
           "Do lok tin si"
          ],
          [
           "Il postino"
          ],
          [
           "Clerks"
          ],
          [
           "Short Cuts"
          ],
          [
           "Philadelphia"
          ],
          [
           "The Muppet Christmas Carol"
          ],
          [
           "Malcolm X"
          ],
          [
           "The Last of the Mohicans"
          ],
          [
           "Kurenai no buta"
          ],
          [
           "Glengarry Glen Ross"
          ],
          [
           "A Few Good Men"
          ],
          [
           "Fried Green Tomatoes"
          ],
          [
           "Barton Fink"
          ],
          [
           "Miller's Crossing"
          ],
          [
           "Who Framed Roger Rabbit"
          ],
          [
           "Spoorloos"
          ],
          [
           "Withnail & I"
          ],
          [
           "The Last Emperor"
          ],
          [
           "Empire of the Sun"
          ],
          [
           "Der Name der Rose"
          ],
          [
           "Blue Velvet"
          ],
          [
           "The Purple Rose of Cairo"
          ],
          [
           "After Hours"
          ],
          [
           "Zelig"
          ],
          [
           "The Verdict"
          ],
          [
           "Star Trek II: The Wrath of Khan"
          ],
          [
           "First Blood"
          ],
          [
           "Ordinary People"
          ],
          [
           "Airplane!"
          ],
          [
           "Rupan sansei: Kariosutoro no shiro"
          ],
          [
           "Halloween"
          ],
          [
           "Le locataire"
          ],
          [
           "Love and Death"
          ],
          [
           "The Taking of Pelham One Two Three"
          ],
          [
           "Blazing Saddles"
          ],
          [
           "Serpico"
          ],
          [
           "Enter the Dragon"
          ],
          [
           "Deliverance"
          ],
          [
           "The French Connection"
          ],
          [
           "Dirty Harry"
          ],
          [
           "Where Eagles Dare"
          ],
          [
           "The Odd Couple"
          ],
          [
           "The Dirty Dozen"
          ],
          [
           "Belle de jour"
          ],
          [
           "A Man for All Seasons"
          ],
          [
           "Repulsion"
          ],
          [
           "Zulu"
          ],
          [
           "Goldfinger"
          ],
          [
           "The Birds"
          ],
          [
           "Cape Fear"
          ],
          [
           "Peeping Tom"
          ],
          [
           "The Magnificent Seven"
          ],
          [
           "Les yeux sans visage"
          ],
          [
           "Invasion of the Body Snatchers"
          ],
          [
           "Rebel Without a Cause"
          ],
          [
           "The Ladykillers"
          ],
          [
           "Sabrina"
          ],
          [
           "The Quiet Man"
          ],
          [
           "The Day the Earth Stood Still"
          ],
          [
           "The African Queen"
          ],
          [
           "Gilda"
          ],
          [
           "Fantasia"
          ],
          [
           "The Invisible Man"
          ],
          [
           "Dark Waters"
          ],
          [
           "Searching"
          ],
          [
           "Once Upon a Time... in Hollywood"
          ],
          [
           "Nelyubov"
          ],
          [
           "The Florida Project"
          ],
          [
           "Just Mercy"
          ],
          [
           "Gifted"
          ],
          [
           "The Peanut Butter Falcon"
          ],
          [
           "Victoria"
          ],
          [
           "Mustang"
          ],
          [
           "Guardians of the Galaxy Vol. 2"
          ],
          [
           "Baby Driver"
          ],
          [
           "Only the Brave"
          ],
          [
           "Bridge of Spies"
          ],
          [
           "Incredibles 2"
          ],
          [
           "Moana"
          ],
          [
           "Sicario"
          ],
          [
           "Creed"
          ],
          [
           "Leviafan"
          ],
          [
           "Hell or High Water"
          ],
          [
           "Philomena"
          ],
          [
           "Dawn of the Planet of the Apes"
          ],
          [
           "El cuerpo"
          ],
          [
           "Serbuan maut"
          ],
          [
           "End of Watch"
          ],
          [
           "Kari-gurashi no Arietti"
          ],
          [
           "A Star Is Born"
          ],
          [
           "True Grit"
          ],
          [
           "H\u001avnen"
          ],
          [
           "Despicable Me"
          ],
          [
           "50/50"
          ],
          [
           "Kick-Ass"
          ],
          [
           "Celda 211"
          ],
          [
           "Moneyball"
          ],
          [
           "La piel que habito"
          ],
          [
           "Zombieland"
          ],
          [
           "Die Welle"
          ],
          [
           "Sherlock Holmes"
          ],
          [
           "The Blind Side"
          ],
          [
           "The Visitor"
          ],
          [
           "Seven Pounds"
          ],
          [
           "Eastern Promises"
          ],
          [
           "Stardust"
          ],
          [
           "The Secret of Kells"
          ],
          [
           "Inside Man"
          ],
          [
           "Gone Baby Gone"
          ],
          [
           "La Vie En Rose"
          ],
          [
           "Huo Yuan Jia"
          ],
          [
           "The Illusionist"
          ],
          [
           "Dead Man's Shoes"
          ],
          [
           "Harry Potter and the Half-Blood Prince"
          ],
          [
           "300"
          ],
          [
           "Match Point"
          ],
          [
           "Watchmen"
          ],
          [
           "Lord of War"
          ],
          [
           "Saw"
          ],
          [
           "Synecdoche, New York"
          ],
          [
           "Mysterious Skin"
          ],
          [
           "Jeux d'enfants"
          ],
          [
           "Un long dimanche de fian\u001aailles"
          ],
          [
           "The Station Agent"
          ],
          [
           "21 Grams"
          ],
          [
           "Boksuneun naui geot"
          ],
          [
           "Finding Neverland"
          ],
          [
           "25th Hour"
          ],
          [
           "The Butterfly Effect"
          ],
          [
           "28 Days Later..."
          ],
          [
           "Batoru rowaiaru"
          ],
          [
           "The Royal Tenenbaums"
          ],
          [
           "Y tu mam\u001a tambi\u001an"
          ],
          [
           "Harry Potter and the Sorcerer's Stone"
          ],
          [
           "The Others"
          ],
          [
           "Blow"
          ],
          [
           "Enemy at the Gates"
          ],
          [
           "Minority Report"
          ],
          [
           "The Hurricane"
          ],
          [
           "American Psycho"
          ],
          [
           "Lola rennt"
          ],
          [
           "The Thin Red Line"
          ],
          [
           "Mulan"
          ],
          [
           "Fear and Loathing in Las Vegas"
          ],
          [
           "Funny Games"
          ],
          [
           "Dark City"
          ],
          [
           "Sleepers"
          ],
          [
           "Lost Highway"
          ],
          [
           "Sense and Sensibility"
          ],
          [
           "Die Hard: With a Vengeance"
          ],
          [
           "Dead Man"
          ],
          [
           "The Bridges of Madison County"
          ],
          [
           "Apollo 13"
          ],
          [
           "Trois couleurs: Blanc"
          ],
          [
           "Falling Down"
          ],
          [
           "Dazed and Confused"
          ],
          [
           "My Cousin Vinny"
          ],
          [
           "Omohide poro poro"
          ],
          [
           "Delicatessen"
          ],
          [
           "Home Alone"
          ],
          [
           "The Godfather: Part III"
          ],
          [
           "When Harry Met Sally..."
          ],
          [
           "The Little Mermaid"
          ],
          [
           "The Naked Gun: From the Files of Police Squad!"
          ],
          [
           "Planes, Trains & Automobiles"
          ],
          [
           "Lethal Weapon"
          ],
          [
           "Blood Simple"
          ],
          [
           "On Golden Pond"
          ],
          [
           "Mad Max 2"
          ],
          [
           "The Warriors"
          ],
          [
           "The Muppet Movie"
          ],
          [
           "Escape from Alcatraz"
          ],
          [
           "Watership Down"
          ],
          [
           "Midnight Express"
          ],
          [
           "Close Encounters of the Third Kind"
          ],
          [
           "The Long Goodbye"
          ],
          [
           "Gi\u001a la testa"
          ],
          [
           "Kelly's Heroes"
          ],
          [
           "The Jungle Book"
          ],
          [
           "Blowup"
          ],
          [
           "A Hard Day's Night"
          ],
          [
           "Breakfast at Tiffany's"
          ],
          [
           "Giant"
          ],
          [
           "From Here to Eternity"
          ],
          [
           "Lifeboat"
          ],
          [
           "The 39 Steps"
          ]
         ],
         "hovertemplate": "PC1 (popularity)=%{x}<br>PC2 (quality)=%{y}<br>Series_Title=%{customdata[0]}<br>Cluster=%{marker.color}<extra></extra>",
         "legendgroup": "",
         "marker": {
          "color": [
           -1,
           -1,
           -1,
           -1,
           -1,
           -1,
           -1,
           -1,
           -1,
           -1,
           -1,
           -1,
           -1,
           -1,
           -1,
           -1,
           -1,
           -1,
           -1,
           -1,
           -1,
           -1,
           -1,
           -1,
           -1,
           -1,
           -1,
           -1,
           -1,
           -1,
           -1,
           -1,
           -1,
           -1,
           -1,
           -1,
           -1,
           -1,
           -1,
           -1,
           -1,
           -1,
           -1,
           -1,
           -1,
           -1,
           -1,
           -1,
           -1,
           -1,
           -1,
           -1,
           -1,
           -1,
           -1,
           -1,
           -1,
           -1,
           -1,
           -1,
           -1,
           -1,
           -1,
           -1,
           -1,
           -1,
           -1,
           -1,
           -1,
           -1,
           -1,
           -1,
           -1,
           -1,
           -1,
           -1,
           -1,
           -1,
           -1,
           -1,
           -1,
           -1,
           -1,
           -1,
           -1,
           -1,
           -1,
           -1,
           -1,
           -1,
           -1,
           -1,
           -1,
           -1,
           -1,
           -1,
           -1,
           -1,
           -1,
           -1,
           -1,
           -1,
           -1,
           -1,
           -1,
           -1,
           -1,
           -1,
           -1,
           -1,
           -1,
           -1,
           -1,
           -1,
           -1,
           -1,
           -1,
           -1,
           -1,
           -1,
           -1,
           -1,
           -1,
           -1,
           -1,
           -1,
           -1,
           -1,
           -1,
           -1,
           -1,
           -1,
           -1,
           -1,
           -1,
           -1,
           -1,
           -1,
           -1,
           -1,
           -1,
           -1,
           -1,
           -1,
           -1,
           -1,
           -1,
           -1,
           -1,
           -1,
           -1,
           -1,
           -1,
           -1,
           -1,
           -1,
           -1,
           -1,
           -1,
           -1,
           -1,
           -1,
           -1,
           -1,
           -1,
           -1,
           -1,
           -1,
           -1,
           -1,
           -1,
           -1,
           -1,
           -1,
           -1,
           -1,
           -1,
           -1,
           -1,
           -1,
           -1,
           -1,
           -1,
           -1,
           -1,
           -1,
           -1,
           -1,
           -1,
           -1,
           -1,
           -1,
           0,
           -1,
           -1,
           -1,
           -1,
           0,
           1,
           -1,
           -1,
           -1,
           -1,
           -1,
           0,
           -1,
           1,
           -1,
           -1,
           1,
           -1,
           -1,
           -1,
           -1,
           -1,
           0,
           0,
           -1,
           -1,
           1,
           -1,
           -1,
           1,
           0,
           -1,
           -1,
           1,
           -1,
           -1,
           0,
           -1,
           -1,
           0,
           -1,
           -1,
           -1,
           -1,
           -1,
           1,
           1,
           -1,
           1,
           -1,
           1,
           -1,
           -1,
           -1,
           -1,
           -1,
           -1,
           -1,
           -1,
           -1,
           -1,
           -1,
           -1,
           0,
           1,
           -1,
           -1,
           -1,
           -1,
           -1,
           -1,
           -1,
           -1,
           -1,
           -1,
           -1,
           -1,
           -1,
           -1,
           -1,
           -1,
           -1,
           -1,
           -1,
           -1,
           -1,
           -1,
           0,
           -1,
           -1,
           -1,
           -1,
           -1,
           -1,
           -1,
           -1,
           -1,
           -1,
           0,
           -1,
           -1,
           -1,
           -1,
           0,
           -1,
           -1,
           -1,
           -1,
           -1,
           -1,
           -1,
           -1,
           -1,
           -1,
           -1,
           -1,
           -1,
           -1,
           -1,
           0,
           -1,
           -1,
           -1,
           -1,
           -1,
           -1,
           -1,
           2,
           3,
           2,
           2,
           -1,
           -1,
           -1,
           -1,
           -1,
           -1,
           -1,
           2,
           -1,
           2,
           -1,
           2,
           2,
           -1,
           -1,
           2,
           2,
           2,
           -1,
           -1,
           3,
           -1,
           -1,
           2,
           2,
           -1,
           -1,
           -1,
           -1,
           2,
           -1,
           2,
           -1,
           2,
           -1,
           -1,
           2,
           2,
           2,
           -1,
           -1,
           -1,
           3,
           -1,
           -1,
           2,
           -1,
           2,
           -1,
           -1,
           -1,
           -1,
           -1,
           -1,
           -1,
           -1,
           -1,
           -1,
           -1,
           -1,
           -1,
           -1,
           -1,
           -1,
           -1,
           2,
           -1,
           3,
           2,
           3,
           2,
           -1,
           -1,
           2,
           -1,
           -1,
           -1,
           -1,
           3,
           -1,
           3,
           -1,
           -1,
           -1,
           2,
           3,
           3,
           -1,
           2,
           -1,
           -1,
           -1,
           -1,
           3,
           3,
           3,
           3,
           -1,
           -1,
           -1,
           -1,
           -1,
           -1,
           -1,
           -1,
           -1,
           -1,
           -1,
           -1,
           -1,
           -1,
           -1,
           -1,
           -1,
           -1,
           -1,
           -1,
           -1,
           -1,
           -1,
           -1,
           -1,
           -1,
           -1,
           -1,
           -1,
           -1,
           -1,
           -1,
           -1,
           -1,
           -1,
           -1,
           4,
           -1,
           -1,
           -1,
           -1,
           -1,
           4,
           -1,
           -1,
           -1,
           -1,
           -1,
           -1,
           -1,
           4,
           -1,
           -1,
           -1,
           -1,
           4,
           -1,
           -1,
           -1,
           -1,
           -1,
           -1,
           -1,
           -1,
           -1,
           -1,
           -1,
           -1,
           -1,
           -1,
           -1,
           -1,
           -1,
           -1,
           -1,
           -1,
           -1,
           -1,
           -1,
           4,
           -1,
           -1,
           -1,
           -1,
           -1,
           -1,
           -1,
           -1,
           -1,
           5,
           -1,
           -1,
           -1,
           -1,
           -1,
           -1,
           -1,
           -1,
           -1,
           5,
           -1,
           -1,
           -1,
           -1,
           -1,
           -1,
           4,
           -1,
           -1,
           -1,
           -1,
           5,
           5,
           5,
           4,
           -1,
           -1,
           -1,
           4,
           5,
           -1,
           -1,
           -1,
           5,
           -1,
           4,
           4,
           5,
           -1,
           4,
           4,
           -1,
           5,
           -1,
           -1,
           -1,
           4,
           -1,
           5,
           9,
           -1,
           -1,
           6,
           9,
           7,
           -1,
           7,
           -1,
           8,
           6,
           9,
           -1,
           -1,
           -1,
           9,
           -1,
           6,
           10,
           6,
           6,
           6,
           -1,
           -1,
           -1,
           -1,
           6,
           -1,
           -1,
           9,
           9,
           9,
           10,
           -1,
           9,
           9,
           -1,
           -1,
           -1,
           7,
           9,
           6,
           -1,
           7,
           -1,
           9,
           9,
           -1,
           -1,
           -1,
           -1,
           9,
           -1,
           9,
           -1,
           -1,
           9,
           9,
           -1,
           9,
           6,
           -1,
           9,
           6,
           -1,
           9,
           -1,
           -1,
           9,
           -1,
           -1,
           6,
           -1,
           8,
           6,
           -1,
           9,
           -1,
           9,
           -1,
           8,
           7,
           9,
           -1,
           -1,
           -1,
           9,
           6,
           -1,
           -1,
           8,
           7,
           7,
           -1,
           -1,
           8,
           6,
           10,
           6,
           6,
           8,
           9,
           8,
           8,
           8,
           7,
           9,
           7,
           9,
           -1,
           9,
           6,
           9,
           -1,
           9,
           7,
           -1,
           7,
           -1,
           -1,
           -1,
           10,
           7,
           10,
           -1,
           -1,
           -1,
           10,
           7,
           -1,
           8,
           -1,
           7,
           -1,
           8,
           -1,
           7,
           7,
           -1,
           -1,
           -1,
           -1,
           -1,
           7,
           7,
           10,
           10,
           6,
           10,
           -1,
           6,
           -1,
           -1,
           11,
           11,
           11,
           11,
           -1,
           -1,
           -1,
           11,
           11,
           11,
           -1,
           11,
           -1,
           -1,
           -1,
           11,
           -1,
           12,
           11,
           -1,
           -1,
           11,
           11,
           -1,
           11,
           -1,
           -1,
           11,
           11,
           11,
           11,
           11,
           11,
           11,
           12,
           12,
           -1,
           11,
           -1,
           -1,
           -1,
           -1,
           11,
           -1,
           12,
           11,
           11,
           -1,
           -1,
           11,
           -1,
           11,
           11,
           11,
           12,
           11,
           -1,
           11,
           11,
           11,
           11,
           11,
           11,
           -1,
           -1,
           -1,
           11,
           -1,
           11,
           11,
           -1,
           12,
           -1,
           11,
           -1,
           11,
           13,
           11,
           -1,
           -1,
           11,
           12,
           -1,
           -1,
           11,
           11,
           -1,
           11,
           -1,
           11,
           -1,
           -1,
           13,
           -1,
           -1,
           11,
           -1,
           -1,
           11,
           -1,
           12,
           11,
           -1,
           -1,
           -1,
           -1,
           13,
           -1,
           12,
           12,
           -1,
           -1,
           -1,
           -1,
           -1,
           13,
           -1,
           11,
           -1,
           11,
           13,
           11,
           -1,
           13,
           13,
           -1,
           12,
           12,
           -1,
           12,
           11,
           -1,
           13,
           -1,
           -1,
           13,
           -1,
           13,
           11,
           -1,
           -1,
           -1,
           -1,
           -1,
           -1,
           -1,
           -1,
           -1,
           -1,
           -1,
           -1,
           -1,
           -1,
           -1,
           -1,
           14,
           14,
           -1,
           -1,
           -1,
           14,
           -1,
           -1,
           -1,
           -1,
           14,
           -1,
           14,
           -1,
           14,
           14,
           14,
           -1,
           14,
           14,
           14,
           -1,
           -1,
           14,
           14,
           14,
           14,
           -1,
           -1,
           14,
           14,
           -1,
           14,
           -1,
           14,
           14,
           -1,
           14,
           -1,
           14,
           14,
           14,
           -1,
           14,
           14,
           -1,
           14,
           14,
           -1,
           -1,
           -1,
           14,
           14,
           14,
           14,
           -1,
           -1,
           -1,
           -1,
           -1,
           14,
           -1,
           14,
           14,
           14,
           14,
           14,
           14,
           -1,
           -1,
           14,
           14,
           14,
           14,
           14,
           -1,
           14,
           14,
           14,
           14,
           -1,
           14,
           14,
           -1,
           14,
           14,
           -1,
           -1,
           14,
           -1,
           14,
           14,
           14,
           -1,
           -1,
           -1,
           14,
           14,
           14,
           14,
           14,
           14,
           -1,
           -1,
           14,
           14,
           -1,
           14,
           -1,
           14,
           14,
           -1,
           -1,
           -1,
           14,
           -1,
           -1,
           14,
           -1,
           -1,
           -1,
           -1
          ],
          "coloraxis": "coloraxis",
          "symbol": "circle"
         },
         "mode": "markers",
         "name": "",
         "orientation": "v",
         "showlegend": false,
         "type": "scatter",
         "x": [
          3.8517242645629595,
          3.864918459195225,
          4.139015923265565,
          3.129011830199895,
          2.1707597078290224,
          3.69204884337214,
          3.443788576929093,
          3.1592409465713707,
          3.625725111083133,
          3.0379334842981955,
          3.507144369813634,
          3.5722539714003507,
          1.960326532389331,
          3.3105315686110757,
          3.2127523866602017,
          2.5740319706079093,
          3.1128943167635494,
          2.7264083011703466,
          0.4852711315920256,
          2.0737633583190003,
          0.5675544857753022,
          3.0242670834846272,
          1.7307298307726453,
          1.757642677073038,
          2.932556481081227,
          2.7705898332179286,
          2.1689022584233197,
          2.837231789080205,
          2.8230326241455193,
          3.030648431130556,
          0.7095923204278086,
          0.39138826954145484,
          1.6178123389118064,
          2.7229742735231772,
          1.738181507688669,
          1.7763804085064467,
          2.4088110782495886,
          2.638212602533939,
          1.9777360363734702,
          2.8015586732883646,
          1.8010828829197645,
          2.086995943983331,
          2.069190541127459,
          2.7830016075442416,
          2.635643149464014,
          1.001468416687053,
          1.475143053025884,
          2.681020198954114,
          0.9685124230324449,
          1.8544937376083648,
          0.8974858055689093,
          -0.11464017900245152,
          -0.817207718288046,
          -0.4635258377591612,
          0.30627665345002303,
          0.12995190740012358,
          0.5291436471306351,
          0.6182936010987207,
          1.8554987226498596,
          2.7190817411539463,
          2.6788816708135035,
          1.89504167575288,
          2.6266050850403064,
          2.950722562344215,
          0.9543860721587935,
          0.08452461784168945,
          2.5138485863789772,
          1.117318400391017,
          0.6495919688133817,
          2.043065676498438,
          0.6977609024687491,
          2.4623549647489416,
          2.0376421538704936,
          1.9509962704682708,
          2.1016940958650485,
          0.24800026006743014,
          -0.8245252463834202,
          0.3280366863282371,
          0.2851946645112644,
          0.9577222013232936,
          1.548657313350622,
          1.0492500124310962,
          -0.16238654108528033,
          1.7439207043825955,
          -0.2558726347350996,
          -0.5713076919154098,
          0.10712180099977567,
          0.11476444291687984,
          0.5461185559132807,
          0.29626736511051893,
          0.02947556113293551,
          0.235443523695231,
          2.3611934527018064,
          1.8382728500160082,
          1.6665442529878847,
          1.7099698273976824,
          1.1644774849435913,
          2.273333297727892,
          2.152652681790343,
          -0.7283695371302564,
          2.253203124478237,
          2.0681830791087292,
          1.2153968163378994,
          1.7240683183139098,
          0.14351698712163044,
          1.8556432345727536,
          1.3722755347913087,
          1.778470975634164,
          2.416401919806969,
          0.700167943927299,
          1.6442505587196397,
          1.387260574220239,
          1.2915518208303867,
          1.7051673357540893,
          0.7697067265618408,
          0.6045805083480926,
          0.8971342810347263,
          0.6636663273645113,
          0.5976684588542043,
          -1.4096958751131246,
          -0.47935698273575855,
          0.2228034184662274,
          0.5512057780432258,
          -1.106865506896077,
          -0.09382802737954823,
          0.06177634346058472,
          -1.2982896814463931,
          -0.7551611351846261,
          -0.16525394120565393,
          1.3643746505312542,
          1.3376845676805436,
          -1.5941358926047102,
          -0.012891987770333709,
          0.21420057419982066,
          -0.8871247163012332,
          -0.814524545654665,
          -1.6472851369587729,
          -0.7776050143624078,
          -2.3622969546157697,
          -2.095495533026981,
          0.2912172192016261,
          0.9946205907298546,
          2.156982646872887,
          2.246190263140776,
          2.165480624528017,
          -0.7514293556663387,
          1.3739588011641786,
          1.4698440789669058,
          2.2003447184088616,
          1.950462724140181,
          -0.3209933504537004,
          -1.3595447672480747,
          2.3699436293248755,
          0.593538535385904,
          0.5591479437284411,
          2.049278369329109,
          0.3288096948467161,
          0.8086778437732939,
          1.510647598973618,
          0.4120998231015001,
          1.5726931809269256,
          1.3219530165293651,
          -0.6643914178141743,
          1.4046211158998556,
          1.95704641701958,
          -1.7486723322044435,
          0.10854709772413408,
          1.8252146578606279,
          -0.15884887406800283,
          0.9386727477283788,
          -0.8555777369840305,
          -0.5060790938929912,
          0.04634484202346853,
          0.2346298998597635,
          0.47685785983796175,
          0.5468053336743431,
          1.1837277329824443,
          0.4341825739189821,
          -0.044429028513983754,
          0.7808719464143091,
          0.6718499441001422,
          0.7675221349294173,
          -2.092784186952693,
          -1.4005618123090764,
          0.25725939389203134,
          -0.9112994424392262,
          -1.6252744616566064,
          -0.10045613137197966,
          -0.45759463174872844,
          -0.15711212230582491,
          -1.1423009289447563,
          -0.6934670844234168,
          -1.2719642049082005,
          0.051952529064359085,
          0.39685253050404246,
          -0.48098573199332256,
          -0.850144542306,
          -1.1937065910144649,
          1.8030709979047292,
          0.7652737224035623,
          -0.0918356476174734,
          0.45630015287361403,
          -1.670412487443785,
          0.1651110721661429,
          -1.1717991520239677,
          1.5211988721753673,
          1.9060505347255876,
          -0.27358723954799746,
          1.2483652122856685,
          1.8857438651860328,
          -0.6526043670312689,
          1.4479023197347896,
          1.0141364072791685,
          1.1350857040553821,
          1.124876290886104,
          -1.1910841047500433,
          -1.0729996001013844,
          -0.6951921577211205,
          1.426437058492681,
          1.9009846379291255,
          -1.1681737505240501,
          1.7633981389793936,
          2.038287770280382,
          -1.089766091708399,
          0.6705834567835108,
          0.22308235657095926,
          1.811323404873206,
          1.0942665576159227,
          1.699244377707056,
          -1.066080840721993,
          1.5873738471104921,
          0.8174172623649424,
          -1.3226398113752216,
          0.2477707801679072,
          0.35441346481848796,
          -1.597250196890758,
          -1.2933712083254307,
          1.7823398161644604,
          2.174733778090835,
          1.881297555566945,
          0.19373317821077635,
          2.010299559481064,
          -0.15424966595194062,
          2.083541161298023,
          -1.4082096250504608,
          1.8893333163285648,
          -1.427318818132614,
          1.2371482432358454,
          -0.34640992450052294,
          1.1320445192217392,
          1.2151444768190172,
          -1.5544809094189314,
          -0.7743220141910244,
          -0.10450914800529146,
          0.32441238419757307,
          -0.44676490863998636,
          -1.1547708058312358,
          2.1317538631884716,
          0.3559990105141341,
          -1.1924483533683854,
          -1.261695803947668,
          1.3222959975673563,
          1.070639656192767,
          1.3456894880986818,
          -0.5986456128119314,
          -0.6537318158477743,
          0.7490105038211182,
          -0.12915287384667834,
          -0.41327682423191175,
          -0.6790396374325355,
          1.3613250501517467,
          0.6426658157798038,
          0.836295008724965,
          0.9568590705096465,
          1.4975247438427233,
          0.01862906014516037,
          0.2612970047351994,
          -1.7472745401045264,
          0.7894822403106547,
          -0.4162441926235296,
          -1.3511516258939904,
          0.339008080582504,
          -2.0458966299564443,
          0.26744030781666484,
          -0.05793491706314048,
          -1.786650508598075,
          -1.8603796170439173,
          -0.20240729694720916,
          -0.8209660423544415,
          -0.35663672700186116,
          0.139830347463277,
          -1.2770906621008322,
          -1.462259104766908,
          -0.2731660076308741,
          0.5931820218446093,
          -0.2802562967379129,
          -1.340759013894465,
          -0.20525269703473764,
          0.6670445601897453,
          0.053184990470867624,
          -0.07461330702989818,
          -1.1163886027487913,
          -0.3240024069284629,
          -0.6467617785252244,
          -0.8752838714728556,
          -1.9288396020669891,
          -0.23134739811362137,
          -0.12544888048680458,
          -1.860494582094283,
          -0.40541818785505407,
          -2.163940898615292,
          -0.749144894265063,
          -1.369130479590261,
          -0.8597892455337747,
          0.18088001262081452,
          -0.900834740472992,
          -0.7082678920940453,
          -0.249635414238782,
          -0.5599984015211085,
          -0.05676112325551235,
          1.3990246299845142,
          0.5875983012898873,
          1.7593150492177234,
          1.5074233492428775,
          -0.3854492664540014,
          -1.3775507736603987,
          0.5652008718473451,
          -1.171866919343565,
          -1.2874878078096201,
          -1.0075701199053788,
          -0.5564799210556796,
          1.4629887983269125,
          2.0537633377132054,
          1.217021955957706,
          0.994452057285668,
          1.416043679079772,
          1.6575812834102444,
          0.803734682566947,
          -1.6087291323243829,
          1.5253705485874955,
          1.3236269206218687,
          1.984064365952552,
          -1.9377627672317206,
          -2.803249317337033,
          0.5898543542100659,
          -0.542833607058806,
          -1.3625085311666671,
          1.6699655727851273,
          1.516410902391997,
          -2.107163243490348,
          2.330371728064972,
          -0.5842525028389466,
          0.8833146717295685,
          1.3436697216653855,
          1.1474796682473678,
          1.6141831541230598,
          -1.6726364348649956,
          1.4582130911354967,
          -0.41311654336657505,
          -0.09659827681065236,
          1.6271673800687423,
          1.5133443947951222,
          1.3815034099750825,
          -1.5970778187843675,
          -0.8257706605757502,
          -0.8586763286099525,
          0.5091349168781407,
          -1.0238843230034236,
          -1.2257830467219093,
          2.0145549856706215,
          1.0673634989496186,
          1.7014692231282387,
          -0.6529476181496356,
          -0.5737397198760413,
          -0.43627851119622807,
          0.4759391496058891,
          0.5687672598016075,
          -0.5094279476449695,
          -0.5496766314601342,
          -1.2879659415838118,
          -0.9116298854329556,
          -1.0868393871624111,
          0.24833283520361163,
          -3.1279028446873443,
          -0.16858113523895923,
          -0.8475168665655144,
          1.2389964681047305,
          -0.888224219689546,
          0.8944996251670491,
          1.2927538829943799,
          -1.289087554006461,
          0.7727936175996594,
          1.2998366439751023,
          0.4072490579163163,
          1.3707822578509776,
          0.9797793128176882,
          -0.12036098139901699,
          1.3990354247166934,
          -0.717095981022623,
          0.842097158361969,
          -0.8547895965841213,
          -1.237392613306182,
          0.53849063240362,
          1.3431915360567026,
          0.6033269364844268,
          -0.325434976847724,
          -0.2923678756097038,
          0.6204436656767647,
          1.580441792537493,
          0.6398007321397415,
          0.46392417160778837,
          0.23909692675444755,
          1.297613510325334,
          -1.036421071636786,
          -0.5755310662315832,
          -0.36566942572404953,
          -1.8605474277207155,
          0.7223470436439237,
          0.6234798062849193,
          0.31449207962972303,
          0.8725759451814082,
          0.002826215798763126,
          0.8506816910460455,
          0.07639941386055824,
          0.21970623498245725,
          -1.5795309829344653,
          -1.221598619013279,
          -0.5326253607230977,
          -0.39243115408314433,
          -0.6096743103001859,
          -0.5843124363160458,
          -0.6909231354287368,
          -0.6651027271130601,
          -0.6657269798106964,
          0.13068230396593628,
          -1.1152910840361783,
          -0.009938221109845997,
          -0.1334584376054395,
          -0.4730271452999635,
          0.4986906469897692,
          -0.36592033871109897,
          -0.7432217977160044,
          -1.1135447579545334,
          0.5793786846295917,
          -0.6707468067983137,
          -1.0552277978310234,
          -1.0489554872999705,
          -0.43952835357003983,
          -0.3239465851488197,
          -0.4450744057403603,
          -1.7106421702548673,
          0.12665223854325278,
          -0.6796635730410361,
          -0.791124339337088,
          -0.9361822260834648,
          -2.030790804519486,
          1.207011522033078,
          -0.4793306481217921,
          -1.0225411901123287,
          -0.2872819127337354,
          0.1729001951440547,
          -1.7607692145480456,
          0.04899895054187835,
          -0.5471800953464895,
          -0.18279027319501867,
          -0.8364690601485206,
          1.5314247406447772,
          0.8135163486440932,
          -0.6067156670021073,
          1.2511823437116703,
          2.045615599120908,
          -0.2854611555728933,
          1.5293579682231757,
          -2.0731217736442353,
          0.45113879406479673,
          1.256474266418508,
          -0.5956982835089796,
          -0.8874505267526046,
          0.13665932501831612,
          -0.3870140953252281,
          1.33136969535458,
          0.4604104113316223,
          -1.719770050169382,
          0.5452030977131583,
          -1.3455586075660098,
          1.4696558357026452,
          0.3425656518546012,
          0.35544125107739344,
          -0.09923950722120597,
          -0.7786435042092337,
          1.2914257551684967,
          0.1707542505207533,
          -0.9072182297339818,
          -1.0550986381255985,
          1.8296082522623531,
          0.6538384886980914,
          -1.2496069537876262,
          1.0043077142867676,
          1.433651127062062,
          0.31998446187797763,
          -0.44120474108295415,
          -1.523894011551353,
          -1.5632648148449124,
          1.2013437510268719,
          -1.4200490675206208,
          0.8356178604165566,
          0.42875322802125776,
          0.20337400947831197,
          1.4009466333715674,
          0.34266093013520543,
          -0.3247483337837866,
          -1.5576936914120827,
          0.05826922140598806,
          -1.0269445912321398,
          -0.62470735389362,
          0.31682797965909065,
          0.9269333719164851,
          -0.5960636407495633,
          -0.6805106943385107,
          0.7119254669662755,
          -0.35305651744848304,
          -0.057019189376784546,
          -1.2897482998958572,
          -0.09032182153520395,
          0.3683350119792451,
          0.10268736495022054,
          -0.9138693335495691,
          -0.5520216533503731,
          0.0586314991355594,
          -2.356289994181136,
          -0.6735987594867014,
          -2.0335515901700756,
          -0.31275637469351736,
          -0.02706752523877311,
          -0.03475760444844599,
          -0.5656032222796632,
          -1.5415964228000774,
          -1.0297544841070556,
          -0.47216758771588657,
          -0.6130353682156886,
          -0.17711569168512015,
          -0.03806808143604236,
          -1.195919706032097,
          -2.432595649006076,
          -0.11042976320728647,
          -0.5068545015616618,
          -0.4833799220881144,
          -0.38726186188236733,
          -0.33898914733661417,
          -1.3372866571300377,
          -0.4904453078516067,
          -0.7082566779399652,
          -1.153310383192705,
          -0.23380461697481447,
          -1.7281681057639837,
          -1.156157694708368,
          -1.5424156220368541,
          -0.5999670482758379,
          -1.2083656389718096,
          0.039274402941132366,
          0.18763146863880276,
          -0.8806276026039984,
          -1.0257730443458897,
          -1.3778276115731598,
          1.2193590658335642,
          -0.5924915437626651,
          0.5527245922446463,
          -0.5522200435168854,
          -1.0933831284258897,
          -0.09934276825188981,
          -1.6022340751697302,
          0.3639612381345806,
          -2.0376238909265845,
          1.4821108895642365,
          1.5261728312670317,
          0.8611570887734055,
          0.22654865498880472,
          -1.1243955787414222,
          -0.37431726020721695,
          -1.6080651507653962,
          -1.0452222612410487,
          -1.2443861375290401,
          -2.205198812915661,
          1.0719032605499188,
          0.20744249927542718,
          -1.7345473291938176,
          -0.9543759722258469,
          0.796073519622833,
          -1.7444197248654583,
          0.5129950590512978,
          0.8277734855492163,
          0.7038388254432482,
          -0.5690036654046335,
          -1.6256702027724441,
          0.895271533751955,
          0.9036336300093508,
          -2.736734894253041,
          0.46824268170683125,
          -1.7312013190671192,
          -0.5374625798951457,
          1.3492526481492435,
          -1.212500117715537,
          -0.13146962283584507,
          -0.3184741610009941,
          -0.5922092910078319,
          0.7359276197699838,
          1.1644973156492948,
          -0.2170221757937128,
          -0.5488755843268123,
          1.5345550499742187,
          -1.9933965117240724,
          0.39158201797884495,
          0.8151969539396393,
          0.9080526082576701,
          2.011719994655276,
          -2.104793901221271,
          0.4835380524259094,
          0.78477544197544,
          0.5840347116052504,
          1.1587950370775846,
          -1.3561158562340683,
          -3.339049214888159,
          0.33930199981577214,
          -1.1781740340073152,
          -2.4161620614961334,
          0.293212147009966,
          0.5614528517279233,
          -2.8769336360190803,
          0.9664445760420011,
          -0.489545066045062,
          -2.1420311518251287,
          -1.116557192984607,
          -0.8327506635925269,
          -0.012710623083866668,
          -1.22462059077241,
          0.447690377169352,
          0.6280232951816382,
          -0.719072444402678,
          1.2374528288772155,
          -1.579271617002137,
          -0.03525809029435606,
          -0.42053151453587584,
          1.3711309606757447,
          1.9333961784586913,
          -2.3503241439901656,
          0.10512339325221193,
          0.5780060431564565,
          -1.1227079480751117,
          -0.4161258595830413,
          -0.1376767122905461,
          -0.01299009395789813,
          -0.451342717572474,
          -0.6504257666764635,
          -1.7013727607665075,
          0.7538828828029053,
          -0.3045457684541915,
          -1.264706306159748,
          -0.3596587255535088,
          -1.3731539418394432,
          -1.54351487269548,
          -0.01251468356748775,
          0.24408877628681952,
          -0.041376669539220534,
          -0.15422001574944288,
          -0.22084461803374986,
          -0.5709226675060252,
          1.0138154882943777,
          -0.3651470102625265,
          0.6775410388259556,
          -0.4813352825884514,
          0.6267929316084199,
          -1.5504621858246634,
          0.4213741096733472,
          -0.17722657076054252,
          0.5863446445355641,
          -0.7024069914528478,
          0.997958548660385,
          -0.7683594153656299,
          -1.0234807827956214,
          1.1784961532818583,
          0.17712604373955443,
          -0.2958023365009124,
          -0.5723876332105053,
          -0.3996813269370721,
          -0.8121887963032882,
          -2.4567912694885243,
          -1.0978943197086592,
          -0.14930985845473227,
          -0.6908861641908445,
          -0.4626855149338517,
          -0.21429152535673432,
          -1.2646473294232727,
          -0.7448661068975526,
          -1.1829154086964728,
          -0.19316488073876192,
          0.2744657605172776,
          -0.6656501213060044,
          -0.9232189835360647,
          -1.7597768214124252,
          -1.6465823514015203,
          -0.8626498762308784,
          -1.102130180860722,
          -0.7482957161138392,
          -0.588070323421597,
          -0.5993894495195657,
          -0.46953450819583714,
          -0.3864533624503728,
          -1.3305330587572035,
          -0.2758591083862273,
          -0.9536077626269901,
          -1.0120891723354413,
          0.14941888927232666,
          -2.46632457812598,
          1.1159590212855854,
          0.014716053197744161,
          0.9806741224104791,
          0.7055558696305269,
          -1.4888217362630127,
          -0.7349530296387558,
          -2.093155580852429,
          0.45606202986284544,
          1.0148864522891672,
          0.6684377945216027,
          -0.7124728672826848,
          0.7253937377795068,
          -0.91927571172525,
          -2.000089866306049,
          -2.348684246382086,
          1.331224506591295,
          -1.9123013810051952,
          -0.5289937114781738,
          0.8356161123469985,
          -1.6074396805629318,
          -2.151911334642906,
          0.5459042354090211,
          0.8122609594534134,
          1.372308384715238,
          1.0074359877439603,
          -2.1366129200337682,
          0.9803866703827628,
          1.1043177595910607,
          1.3315223934222478,
          1.273546495741732,
          1.0942205397569964,
          1.0103111825767395,
          0.5282867354563459,
          1.0934711662288639,
          -0.4993499036087313,
          -0.568404361504881,
          -1.5678023948237652,
          0.12456786900000438,
          -1.3119641908915853,
          -0.35080508985085307,
          -0.8617297304221303,
          -1.512727618868488,
          0.4701268193944233,
          -2.2639056146289325,
          -0.2489754756910478,
          0.5253015509531404,
          0.14984980029281308,
          -2.112118919312942,
          -1.663308723323663,
          0.8915475827707902,
          -1.152686692798008,
          0.525861283846599,
          0.34514621049600497,
          0.5848099359434025,
          -0.45815880239945017,
          0.9020812078499749,
          -0.499582370812721,
          -0.03287923245334967,
          0.527316096990547,
          1.1736714060735656,
          0.5223530372722578,
          0.19198705971767765,
          0.7335986970758399,
          -1.77469772574896,
          -0.7684337513919259,
          -1.2049840765763595,
          -0.16984116263319973,
          -0.1787535743217863,
          0.6688999937558859,
          0.41392797671879117,
          -1.8764172714080947,
          -0.3973900413864386,
          -1.7636752172706358,
          1.0203575827232465,
          -2.573858504686478,
          0.2995057027017524,
          -1.14736570386345,
          0.08090310726032396,
          -0.16942552943385483,
          -1.3220622883593713,
          0.6245952426285252,
          -0.2786252543936997,
          -1.8550730585646757,
          0.18068788313234602,
          0.5720967920215734,
          0.6446250167775909,
          -1.5902623527672728,
          0.26225384322375217,
          -0.8441147495340853,
          0.09196352022595333,
          -1.4575284428125896,
          -1.005093793865837,
          -1.2354673150600166,
          -0.5635037230628884,
          -1.411030536090875,
          0.27765319081610645,
          -0.9255339413210254,
          -0.4461030738367422,
          0.020315638122338112,
          -0.2676934460259204,
          -0.7541826758832799,
          0.46001490637231884,
          -0.4675958780661558,
          -0.7886288867611607,
          -0.770446638337125,
          0.3235503125496387,
          -1.0679170886711038,
          -1.7853002851475708,
          -0.4094157323729087,
          -0.45230478165761595,
          -0.8164554465663253,
          -0.409536271608583,
          -1.2037535395346572,
          -1.0558873874273633,
          -1.2823922278554085,
          -0.9629082529524697,
          -0.15037511412120583,
          0.16028458005798235,
          -0.791618386575793,
          0.27001272121766157,
          -1.1790148551003634,
          0.17714311988511294,
          -1.7380016059382344,
          -0.9592217543200742,
          -1.1516018334625597,
          0.02413446161190991,
          -0.41077797757576046,
          -0.5366629945263924,
          -0.8405559149436679,
          -0.5721957014614053,
          -0.19708533983501378,
          -1.031607134164586,
          -1.0957367214694693,
          -0.6157530082634356,
          -2.810659245237716,
          -1.2162337412578093,
          -0.7540903507617083,
          -1.1565018449108238,
          0.014296106240944684,
          -0.371261391554425,
          -1.0580537876542517,
          -2.6769181023900726,
          -1.0064999310812812,
          -2.8737914913840927,
          -0.5446741426040449,
          -0.26016308837741065,
          -0.9076396829795662,
          -1.003847283221165,
          -1.398579210641875,
          -2.3144191157915697,
          -1.6918323317065838,
          -0.8284537104673179,
          -0.3096155871326761,
          -0.8985902833221278,
          -0.5768883474545026,
          -0.43560306364229706,
          0.8514017924276485,
          -2.376638989599103,
          -1.055220098763565,
          -0.8207569527041474,
          -0.6656333365114085,
          -1.0818114165174668,
          -1.0265025040752045,
          -2.1599134511798033,
          1.1253036226490432,
          0.6384096711724823,
          -1.0783410162863794,
          0.2711412289285256,
          0.7182929456302567,
          0.5482225886607734,
          0.32300952658648036,
          0.2817473889271976,
          -1.8923647186575019,
          -0.19368918986124536,
          -0.5956303610264734,
          0.7630270960091583,
          -0.6558514310676807,
          -0.7094027709101012,
          -0.01750423702471385,
          -0.8608908039737573,
          0.640022340934852,
          0.5386228631381407,
          -2.0697774449895374,
          0.9337376901248937,
          0.14689537185823978,
          0.5463683428790045,
          -0.5054317060194632,
          0.4400901693809915,
          -0.9719439110986537,
          0.6552627852296418,
          -0.6073654766352388,
          0.9830712018290946,
          0.6010011068218701,
          -1.4599385995772731,
          0.26084500787395254,
          -0.23813300999582201,
          0.03776276125920466,
          -2.287087626533968,
          0.42679790592004,
          -0.13506128760547367,
          -1.00323935951987,
          -0.8645012591670225,
          0.2534963526432829,
          -3.1957528273113534,
          0.9460714259531717,
          1.1289151550112557,
          -0.22522222334677564,
          0.7200507827970091,
          0.009515029417167108,
          0.3806181516188109,
          -1.3036879180943275,
          -1.8233943362830651,
          -1.8701561249669802,
          -1.2295360258333812,
          -1.2800224542339644,
          -0.2594961290941908,
          -2.542697853063607,
          -0.0464157379056984,
          -0.4914030441009761,
          0.4993652580808126,
          0.3224008690963504,
          -0.035534734877047426,
          0.14269126451346517,
          -0.7214324553377435,
          1.1644299167601895,
          0.4446534848110069,
          0.08077252435602268,
          0.08096086528936143,
          0.7812801148876409,
          -0.5393774125628903,
          0.21254383523584233,
          -0.5732003591196191,
          -0.22273953755208611,
          0.32851729079331976,
          -0.27386117029264523,
          -0.6350151519188866,
          -0.40301460946755874,
          -0.09834118707716842,
          -0.9645187879259551,
          -0.5078422286712978,
          0.5016381877910434,
          -1.5243622748562828,
          -0.593949806245353,
          0.44981476282554117,
          -1.651793049355,
          -0.1973384380359238,
          -0.6307737135035626,
          -0.42831799726980385,
          -2.492393671533536,
          -1.4602295782507124,
          0.9505043260841497,
          0.3916722807572331,
          0.09114692948448012,
          0.2598996666724927,
          -0.10561833479793863,
          -0.3501157772089414,
          0.12283777391740582,
          -1.3603729528338082,
          -1.078362427728021,
          -0.5148199463078283,
          -0.7277601154518394,
          -1.0818776059829613,
          -0.40119917350530543,
          -1.4586915722901483,
          -0.7693516534298219,
          0.14440017352029424,
          -2.3213351911338953,
          -2.3166115861909877,
          -1.8880104767072363,
          0.09571400301752354,
          -0.5666981151281967,
          -1.3827486643801612,
          -0.33008850487297964,
          -0.9075320953216222,
          -1.1375486230244882,
          -1.7230994515649727,
          -0.667229946274642
         ],
         "xaxis": "x",
         "y": [
          3.8939264371017708,
          3.208545957383392,
          2.2719700141343657,
          2.82660142708601,
          3.4663910139134733,
          2.060807129864354,
          2.372252660096619,
          2.3987835026415456,
          1.8272024848736463,
          2.34078886865514,
          1.8082834297849943,
          1.797016547139826,
          2.7883227081856603,
          1.490497481994658,
          1.6625272927526913,
          1.9847222018795607,
          1.5313196243114109,
          1.7680003079430604,
          1.789815655007168,
          1.6545845202086529,
          1.7051159110152956,
          1.3422716344141057,
          2.1402811461605764,
          2.0694537652298592,
          1.3070473454356568,
          1.4211256017209661,
          1.6357041259767924,
          1.4988304277274425,
          1.4324462514189267,
          1.2078753711460868,
          1.3966905215217336,
          2.9688182549699147,
          1.9126891017497079,
          0.9007966058188116,
          1.706640776702981,
          1.7049696739419682,
          1.3590601873826993,
          1.1319967541244622,
          1.4801480704828054,
          1.045304136711746,
          1.8726077541896082,
          1.5631521343957044,
          1.6078500924285162,
          0.8432987616630004,
          1.023403090164893,
          1.7277645017753211,
          1.2713983895632122,
          1.0165428911842274,
          1.929808276458177,
          1.4844358134350617,
          2.339560707702115,
          2.7954486846840765,
          3.327400255457508,
          1.9208297976727855,
          0.780901979823603,
          0.8410123763985917,
          1.6468520398805913,
          1.4220287200443746,
          0.7438546630383189,
          0.36991079145081623,
          0.428250791878049,
          0.7196385433350153,
          0.783370565564684,
          0.5318189840696675,
          1.5816151880121294,
          1.9973658959115572,
          0.7040946956204124,
          1.4457788910277882,
          2.1342675299780223,
          1.2435098704321088,
          1.8330298872508028,
          0.6783503242896879,
          1.1081442864506976,
          0.9488729383434367,
          0.9630354245122965,
          0.764090617115343,
          1.903384950319768,
          2.3681886106910843,
          1.5251641887284437,
          1.1670923724433981,
          1.1524428961682942,
          1.1539918676850642,
          2.3566103465254384,
          0.49085057302137025,
          0.7665825571702848,
          1.6707733971180558,
          0.4701515326305138,
          1.843810264465796,
          1.2633903091464118,
          1.271745660277693,
          0.6089281264064295,
          0.9314719840160457,
          0.5607117490775356,
          0.8721068203328258,
          0.8805778675734961,
          0.9033183057483041,
          1.4304647771909758,
          0.5416459022731792,
          0.5260737504054759,
          1.7666440340046023,
          0.4450694296699016,
          0.6764696714383509,
          1.4926423584401738,
          0.7977826948101983,
          0.841564352485279,
          0.6466344942253078,
          0.7689867306198703,
          0.8019422376712484,
          0.3264988595091963,
          1.143795898429069,
          0.9207990059807067,
          0.4899109540888461,
          1.2974949246394751,
          0.7465511686609803,
          1.0775038124238776,
          1.0238275352305426,
          1.1080218663543728,
          1.4617002745122742,
          1.2094547846094197,
          2.469366726984166,
          2.0234789584805855,
          1.3167750601552108,
          1.636255319516575,
          2.631020698415001,
          1.69753949452143,
          1.3286413169929145,
          1.478511509359211,
          1.0962891022709977,
          0.4075441671236604,
          0.34921444903407484,
          0.4599192037633079,
          1.7182428898904951,
          0.7056833273819945,
          0.6866104216393996,
          1.5273988421411127,
          1.363502113114989,
          1.9327668561591036,
          1.3314616033005653,
          2.6692291807563837,
          2.254523193347894,
          0.9920742152729249,
          0.8039005093454765,
          0.24838517811463137,
          0.042491013420829976,
          0.2709823917536552,
          1.4257056378644726,
          0.5355839638829815,
          0.5522233037711334,
          -0.044147934219790436,
          0.39652624659293545,
          1.2570593785599218,
          1.5290807421508998,
          0.12922761909459793,
          1.0293354982424714,
          1.0682237313603404,
          0.1766290867961167,
          0.1944951985271446,
          1.1156306756840204,
          0.4177986355948063,
          0.18488180668503498,
          0.407235516947652,
          0.5221922905583904,
          1.0853752622114845,
          0.30619916736140657,
          0.1407354275587889,
          1.7680994866138051,
          1.428358649431103,
          0.3558087963526968,
          1.0999028154142874,
          0.6700655206938645,
          1.8128870114623017,
          0.5506194149528519,
          0.3101379739562439,
          0.22111086656718074,
          1.4023594504301236,
          0.8335634960595198,
          0.37093733477706264,
          0.5065469245554358,
          0.6861216630698718,
          0.6532839069301166,
          0.18215822905912496,
          0.42250491393127027,
          2.162733651887562,
          2.5406109536621924,
          0.22105231495518088,
          2.0337643535842895,
          2.5927550198307587,
          1.0520597391383733,
          0.5694879661603108,
          1.0312610992436553,
          1.4577578649209249,
          0.8259087742635068,
          1.10101916415524,
          -0.08573920071232172,
          0.2510982720777733,
          0.9823025324874938,
          0.8440819833909408,
          1.1806177286149995,
          -0.1908294487199351,
          0.4885826897614176,
          0.87395124618078,
          0.2656146844391498,
          1.6018011995132497,
          0.5685651889411825,
          1.1747475772027034,
          0.1428481596750972,
          -0.11630232834764936,
          0.10732574536623735,
          0.11058879763757146,
          -0.3037976704203054,
          0.8988407194162504,
          0.15321132080197233,
          0.3376967657482579,
          -0.028748156658330526,
          0.20994596693042045,
          1.1930912120559876,
          1.1461881431230636,
          0.8732315434674673,
          0.134873465439755,
          -0.09510199053443319,
          1.3933318051762076,
          -0.08542058019011461,
          -0.32021195648790207,
          1.0543929782193355,
          0.34406416345137264,
          0.5165824911873977,
          -0.18107290912626126,
          0.4333066764877784,
          0.08614803071682264,
          0.9568704069380783,
          0.010864054280478982,
          0.3712255915015459,
          1.1285258323922445,
          0.7181408156721785,
          -0.11119561442836862,
          2.213978009858501,
          1.4542480728608036,
          0.1006547910343234,
          -0.3199650952989667,
          -0.11160938303585338,
          0.7374921973132965,
          -0.2522707989688166,
          -0.009956584340531597,
          -0.2552585966506042,
          1.490566344285113,
          -0.044346515541327236,
          1.4167218081573993,
          0.44532454752593226,
          0.9055109399581581,
          0.45981189968172936,
          0.3604515831455436,
          1.5936961808154935,
          1.446764979293432,
          0.2473678569185404,
          0.7307171229343441,
          0.8080532040777365,
          1.2818803453045218,
          -0.33373780414146786,
          0.3555930362670421,
          0.743934301465677,
          0.9168031009862929,
          0.022336384900928652,
          0.17286297496731337,
          -0.06923233241198107,
          0.9613632415494734,
          1.3299339237376693,
          0.5042139340992153,
          0.3842621051280445,
          0.11732918491599681,
          0.7564434070472221,
          0.28863462999821615,
          0.28334265299265815,
          0.4111272917510024,
          0.18900662357302914,
          -0.027560196365082612,
          0.6398262572498592,
          0.42076546492564465,
          1.5845586214621497,
          0.3192120326644641,
          0.3019421766338477,
          1.0165773519646306,
          -0.03938925276231292,
          1.9579541603248343,
          0.4632612536200927,
          0.5038533600401467,
          1.7220597965667552,
          1.8716032825086675,
          -0.13009315402481378,
          0.8072888738117945,
          0.08928301613409872,
          0.055852040868425434,
          0.9739989057433007,
          1.0494466285929422,
          -0.11333486821826572,
          -0.1273452694015915,
          0.045989956241255514,
          1.2255906757186674,
          0.15495263469660717,
          0.21030289509734398,
          0.5934797586950109,
          0.12337793454391477,
          0.8119614452092039,
          -0.0072525175116122135,
          1.3544841309383826,
          0.5609543521069549,
          1.5503997258733506,
          0.7895346189719179,
          0.5933001639691617,
          1.5907806620412728,
          0.7893596118716721,
          2.104691949587384,
          0.4213538522668075,
          1.308168754588953,
          1.1468971643784047,
          -0.0976100424695186,
          0.0811807457364774,
          0.07432723461204263,
          -0.1655984305985587,
          0.33558254153653183,
          -0.35687060361760575,
          -0.38794651635320326,
          -0.12216235134126342,
          -0.49039320267327996,
          -0.5905028568869642,
          0.3839382469045514,
          0.755492433668501,
          -0.35596048910234795,
          0.4306576533235246,
          0.8385997186463192,
          0.855303123622559,
          0.618188106017779,
          -0.26208274235224044,
          -0.5839843923793887,
          -0.26485177297699813,
          0.05358739942402381,
          -0.4773085437348827,
          -0.43619700385061405,
          0.14434337182903062,
          1.4297598663670992,
          -0.3666906130701488,
          -0.41690941193338743,
          -0.6054288149786502,
          1.4136815921208825,
          1.9790408998346616,
          -0.13184644630007838,
          0.5123386121218639,
          0.6182054927543271,
          -0.3710254976707679,
          -0.3018711735297554,
          2.055957894471799,
          -0.7395078202149291,
          0.4871744245498237,
          0.03718898335914077,
          -0.40771996551342465,
          -0.14727977913647164,
          -0.4894886710820337,
          1.2137670230544553,
          -0.21065159997266056,
          0.4131788718968835,
          -0.2707724006107326,
          -0.46534979257239323,
          -0.4133805412022405,
          -0.18270311083787996,
          1.0287050148585737,
          0.6422843168534512,
          0.6750914498884164,
          -0.1658358329409886,
          0.7133989428536911,
          1.2989442013268988,
          -0.5623808588772096,
          -0.18320229467774987,
          -0.5240242615508433,
          0.13791929173280668,
          0.752465831319182,
          -0.26412516750131115,
          0.7618479747037211,
          0.08544662495435798,
          0.5023425762351994,
          0.4043509845442389,
          0.9204704439652341,
          0.7337408371576857,
          0.4294552690587352,
          0.07745286093711601,
          2.2773257429099947,
          0.06328432360145576,
          0.21213519871261052,
          -0.14621104665590864,
          1.022634925740621,
          -0.21448268805784806,
          -0.1998482274766654,
          0.48363797900684097,
          -0.17447095656117403,
          -0.47848304751447684,
          -0.19897296847290633,
          -0.4802559730621015,
          -0.43765066672367253,
          0.033937794222790266,
          -0.42981565317874365,
          1.0054576287453878,
          0.006658474094420427,
          0.558491045311182,
          0.4811448568062241,
          -0.2944643469465753,
          -0.04723259505881926,
          -0.1270424127261153,
          -0.4001958244610199,
          0.011063433775218385,
          -0.053088403680042764,
          -0.522770976131581,
          -0.11360280525129764,
          -0.24955234033568605,
          -0.12975043140555823,
          -0.49568069565649914,
          0.5079998176236039,
          0.01954128642255891,
          -0.23307983476193458,
          1.0094104730378075,
          -0.2916225954611576,
          -0.21976727521777042,
          -0.013530897554649578,
          -0.29780059722415564,
          -0.25019963613044366,
          -0.4076794340791789,
          -0.31416680269725544,
          0.1939036147341781,
          1.599097862704886,
          0.40007711785920913,
          0.3324065316799089,
          0.11938623884540132,
          0.22929460693405626,
          0.24225202079109784,
          0.6578430828833635,
          0.1452372846397928,
          -0.14773709342494654,
          -0.27060343178384555,
          0.963405597582171,
          -0.3418074229504328,
          -0.18649080980950924,
          0.033063251427239454,
          -0.35820600684862786,
          0.3412518397788464,
          -0.1018393742570521,
          0.42184238645425665,
          -0.42572397615120755,
          -0.047484885203451,
          0.3840392884879532,
          0.4915524611423623,
          0.07154576257663126,
          0.03728751448649045,
          0.6729315671302315,
          1.578666806238819,
          0.677316189666947,
          -0.16605399244105926,
          -0.057792039121664904,
          0.5632284898608462,
          1.5972739117504031,
          -0.7077299532485055,
          0.08383525016112103,
          0.26269321592588885,
          0.3890198226623617,
          -0.15840947046546688,
          0.8968139071350588,
          -0.30045867631073114,
          0.15094582451244362,
          0.1210753693443696,
          0.26868265434534905,
          -0.8677604923089888,
          -0.30251760854988247,
          0.8225887918515609,
          -0.5839277254893643,
          -1.1382794820473436,
          0.040633603497580856,
          -0.7936899886171069,
          1.0509967113544578,
          -0.38292199789843884,
          -0.5830800933923139,
          0.08651163894718175,
          0.3781060981229899,
          0.16103224076590347,
          0.37418263077338865,
          -0.6186528389748255,
          -0.25052859606942934,
          0.7813092898141166,
          -0.24218588428606366,
          0.5179914887189947,
          -0.817861159788037,
          0.05247291547435265,
          -0.4634943784903725,
          -0.09047581413922227,
          0.35589378983097025,
          -0.6380148988632334,
          -0.19547305773793358,
          -0.2814712225944445,
          0.23961441450522866,
          -0.8700947315837935,
          -0.0858329790641198,
          0.36186075191097333,
          -0.5569853822739177,
          -0.8096834149805306,
          -0.42888959670634,
          0.0069813228068093544,
          0.5457461841505907,
          0.5601502415560998,
          -0.631397555104242,
          0.510583120964541,
          -0.3257363265427001,
          -0.3040818682874321,
          0.07017470776911203,
          -0.806193393371678,
          -0.2521974147336179,
          -0.545083616236371,
          0.3639063157140988,
          -0.062111756296426845,
          0.4907025192172202,
          -0.5030787355721318,
          -0.33583826178946985,
          -0.4402698891972008,
          -0.10821755456457,
          -0.16144366318072217,
          -0.5157308424170989,
          -0.35677493299022206,
          -0.009336975221439059,
          0.975193000054214,
          -0.19097993875329802,
          -0.44463121567838226,
          -0.3889336413166631,
          -0.34290020813129257,
          0.1558948094001957,
          -0.4971698783743679,
          1.2550975260426454,
          -0.36465781914106987,
          0.9615308715284739,
          -0.5515149523753369,
          -0.6460950956844703,
          -0.46374482890866425,
          -0.05830388018401733,
          1.1618701970190888,
          -0.21132981813810184,
          -0.2332091667792872,
          -0.08584921438802755,
          -0.49514282443002416,
          -0.2843734899766067,
          -0.10231939639351587,
          1.1630196675778195,
          -0.48528612936133475,
          -0.5230510940707788,
          0.002537503156555432,
          0.055849750471541254,
          -0.523488176817894,
          0.3179611370971243,
          -0.02282432427977356,
          0.09387294420480263,
          0.0016008744499662333,
          -0.5092712442428319,
          0.8628296802917049,
          0.21690615847501352,
          0.32854405275047216,
          -0.011651929152482199,
          0.1978224568357468,
          -0.5707392074654211,
          -0.5467646200291705,
          -0.8852437027323389,
          -0.6979785309315265,
          0.0451955331304503,
          -1.0372909790786384,
          -0.6630182742193622,
          -1.0118569326999618,
          -0.6563472238988849,
          -0.6314077932667779,
          -0.6986311316632955,
          0.11913583045721868,
          -0.6964606577211067,
          0.4694388544900218,
          -1.2953729131743008,
          -1.229283160984249,
          -0.7273853901218386,
          -0.9001407091532669,
          -0.2110185564001419,
          -0.9397037388254973,
          0.19190485723192977,
          0.0027859040000376145,
          -0.09552265911354571,
          0.7042998817125,
          -1.078888775969582,
          -0.4141606432718061,
          0.13514606247334873,
          -0.14695809078714747,
          -1.2453550440844956,
          0.8747621563212095,
          -0.6846583856712777,
          -1.022197454551668,
          -0.7924800227426532,
          -0.9795383217889512,
          0.7735503217902765,
          -0.886271607573463,
          -0.8971472982578034,
          1.5160427918676105,
          -0.9992917266034401,
          0.4127756430363592,
          -0.7034078653706354,
          -1.1157562663077871,
          0.06467287311681316,
          -0.3106972807521916,
          -0.6517480109710471,
          -0.9885040128114849,
          -0.8638435672430038,
          -0.9722505648955166,
          -0.28306182175492767,
          -0.2944230943402223,
          -1.155212754529104,
          0.3370395613823716,
          -0.71274269654188,
          -0.619458813229544,
          -0.9456575537197119,
          -1.3836487152131915,
          1.6620941071427249,
          -0.7123548871484798,
          -0.7526790407085493,
          -0.5216114868091216,
          -0.9402784398428902,
          -0.003501258599366869,
          1.9131522261956302,
          -0.6425951462266355,
          -0.14326286206923985,
          0.7716093102033023,
          -0.5409145826046329,
          -0.924781792271158,
          1.3017660976056515,
          -0.8276066374752099,
          -0.43710733520313183,
          0.6867081142249399,
          -0.22068651771627518,
          -0.9043512978197991,
          -0.7287995562170585,
          -0.0008251435840601893,
          -0.9167197407423381,
          -0.9419207114099276,
          -0.26151587913341445,
          -1.0908356809564306,
          1.172655877582023,
          -0.5727988872646121,
          -0.6016901220388993,
          -1.1245292274969931,
          -1.3482128072736095,
          0.6235259048944651,
          -0.36039948097136554,
          -0.6995021665382707,
          -0.08392251838200146,
          -0.17684600829845595,
          -0.2867989417788347,
          -0.739004090208428,
          -0.6012209756765465,
          -0.5155664947593392,
          0.12092559513750115,
          -1.0317478720058098,
          -0.44438822263258526,
          -0.1660183566097662,
          -1.0193030223992934,
          0.08880927354434123,
          0.09060227771207688,
          -0.7433631697201681,
          -0.7589128316750126,
          -0.7188254282635186,
          -0.6126701939701706,
          -0.5539371388683504,
          -0.8249584487822759,
          -0.9221962120939089,
          -0.6173774492324456,
          -0.7521399386657578,
          -0.17841065955063254,
          -0.7921198412286227,
          0.17299898541211792,
          -0.759651761136465,
          -0.8773283290953873,
          -0.6865592095026156,
          -0.6184081741666899,
          -1.096343948368117,
          -0.4993961543056605,
          0.03561121919770291,
          -1.2455845043234812,
          -0.8959170083184286,
          -1.0052907408652405,
          -0.5965655808457379,
          -1.0040004293802742,
          -0.10592971003941001,
          0.6702710758477689,
          -0.4271020198790353,
          -1.011547453224037,
          -0.6703796324921655,
          -0.08074119746091354,
          -0.6813816707116973,
          -0.4494083830223143,
          -0.7405966016090443,
          0.2842032237573611,
          -0.7994677492473804,
          -0.8863052490347519,
          -0.6480663264069055,
          -0.5971451114638883,
          0.023588460025750407,
          0.5336999989477642,
          -0.8371823947110242,
          -0.4304511845361205,
          -0.8894355391160194,
          -0.6418780942853045,
          -0.8248011339547913,
          -0.9013940371856582,
          -0.8889845094411996,
          -0.10305093481432073,
          -0.9936227652597692,
          -0.8138759701963391,
          -0.16486015907633336,
          -1.278925108105241,
          0.23652673351790615,
          -1.4699140466131846,
          -0.9083145490506838,
          -1.3178478560417226,
          -1.3737551381149629,
          -0.3354518064554384,
          -0.3327966191455742,
          0.031903664530846115,
          -0.9228138645689312,
          -1.2390468030062998,
          -1.2327332083121005,
          -0.5080841406600879,
          -0.9636348873725924,
          -0.22960810010270077,
          -0.06334984053218198,
          0.39854211550497187,
          -1.414278556110461,
          -0.030980390378511444,
          -0.7473010313423495,
          -1.33621930774545,
          -0.10684909557982272,
          0.6226053240504676,
          -1.0369703377381048,
          -1.4128719977677016,
          -1.4275912147007441,
          -1.3830049888025264,
          0.5818274896548385,
          -1.169492821079984,
          -1.2718738966596768,
          -1.4305463258162467,
          -1.4537466468099773,
          -1.2462886818908754,
          -1.2536706726729627,
          -0.8972026834706042,
          -1.4469851394300166,
          -0.7082276522744194,
          -0.7602211220511822,
          -0.0027319080877941417,
          -0.9220794106104699,
          -0.17342845846811278,
          -1.3104229835171304,
          -1.2703317567931374,
          0.24325164969638674,
          -0.8371982171214362,
          0.18538809865556577,
          -0.7463274209973808,
          -0.9024393278045313,
          -0.806881241757486,
          -0.04787853987975557,
          -0.0000676976249576502,
          -1.3506995358971072,
          -0.402213118489395,
          -1.131402896900984,
          -1.0227066265443128,
          -1.0269420201119963,
          -0.7394105885531597,
          -1.3182111243731764,
          -0.05285853383183706,
          -1.1077188823590942,
          -0.9766850809133945,
          -1.4418355609127629,
          -1.1155381174623837,
          -1.1073429396421042,
          -1.2036214088565855,
          -0.4292396545024429,
          -0.3821695751333478,
          -0.7162284535987138,
          -0.9523207976126707,
          -0.8044468659099667,
          -1.1980899995833274,
          -1.1885766880566786,
          0.4527098238379704,
          -0.8018485563822538,
          -0.3100464351847811,
          -1.3280189109010456,
          0.4349493505960603,
          -0.9820338420805609,
          -0.9588059653678036,
          -1.0155813750814189,
          -0.6252572449159066,
          -0.2906959836697096,
          -1.1113150405427923,
          -0.7391810561577903,
          0.21406378479353633,
          -0.8108481009131729,
          -1.2759009052318566,
          -1.0646920452969335,
          -0.3830518832399151,
          -0.9615563391517933,
          -0.9235518985580733,
          -1.0343408039282487,
          -0.6073142173968843,
          -1.1784551868706938,
          -0.8010306772581759,
          -0.31866612958045515,
          -0.4842757717118642,
          -1.1139017364202306,
          -0.8559571137787537,
          -0.9968992657406357,
          -1.1082401559491302,
          -1.2344642116921074,
          -0.623543593434786,
          -1.2637580544347866,
          -1.1305216561250517,
          -0.485392651670429,
          -0.437687689591775,
          -1.2891644001182783,
          -0.9596398100992398,
          -0.1425789856488789,
          -0.9742496194828794,
          -0.8046417556663575,
          -0.5228602959704325,
          -0.566847917823523,
          -0.6218082358087215,
          -0.6209253500711441,
          -0.6478018719660895,
          -1.025839118173286,
          -1.1193906881047042,
          -0.9912977619153898,
          -1.0293251506301373,
          -1.132724946848007,
          -0.9928516332062277,
          -0.9901565239056854,
          -0.19721674429445052,
          -1.0305037487166946,
          -1.0265666130364095,
          -1.2224417680308792,
          -0.8774045819587679,
          -0.8338414744225695,
          -0.5194716504375027,
          -0.7170518273355548,
          -0.9235153122131724,
          -0.7313807705283449,
          -0.9779918298451905,
          -0.9817893691461193,
          0.8693058044822528,
          -0.8658060776483671,
          -1.0432522418713672,
          -0.8361110170465377,
          -1.0110332258977694,
          -0.6384133658271026,
          -1.1254336480433378,
          0.5809996805886095,
          -0.42918455187691845,
          0.6966005651833589,
          -1.3041332672420674,
          -1.1988389491957556,
          -1.2739828595726976,
          -0.6746813589597278,
          -0.6200937313898685,
          0.7771311682100939,
          0.12078645150260234,
          -1.3173029823270017,
          -1.1115267001075702,
          -1.1907154758128649,
          -1.5288854288667166,
          -1.140856839926387,
          -1.5625624118521588,
          -0.1907110567175821,
          -0.7725222568030544,
          -1.4477026165398552,
          -1.129145395484467,
          -0.9712172884370256,
          -1.1670545595250963,
          -0.2901603159055433,
          -1.8126118456803244,
          -1.493412504577235,
          -1.0544844259949964,
          -1.3944028974686147,
          -1.923832890108085,
          -1.7014531076603852,
          -1.2865833966150477,
          -1.4982108077535268,
          -0.3537252833760353,
          -1.1485308216604049,
          -1.2332969238872615,
          -1.657376716798581,
          -1.4810404347150556,
          -0.6817626115332792,
          -1.2535588264387687,
          -1.06570009960884,
          -1.6654165530986802,
          -1.6085789604489364,
          -0.33383456968863606,
          -1.7038072839419842,
          -1.2141147533244119,
          -1.2925518760242392,
          -1.5646760819260588,
          -1.4053063125058922,
          -0.6189598225752747,
          -1.40503994690523,
          -1.167661438215025,
          -1.6577310592036818,
          -1.7085001505217554,
          -0.889197756179388,
          -1.3861526639572928,
          -1.036440984449408,
          -1.2387029501749458,
          -0.2384350828341702,
          -1.4445301283628522,
          -1.0787958535269566,
          -0.9109319560421798,
          -1.1276597915079647,
          -1.2463052319359584,
          0.9390953253009838,
          -1.7492658316708192,
          -1.659465044213704,
          -1.110917524702745,
          -1.4926001908674136,
          -1.1218438876203722,
          -1.330696828937217,
          -0.6110463927327021,
          -0.24185179335876633,
          -0.18232668005058966,
          -0.7835564306789515,
          -0.7656981279966178,
          -1.0241819384560003,
          0.43751429666327074,
          -1.3111571258552777,
          -0.9694494599329817,
          -1.3390419048464264,
          -1.276712036386743,
          -1.4224361938580286,
          -1.3142348612256485,
          -0.980151344441189,
          -1.7615895369030765,
          -1.4660601885612508,
          -1.3172568921702539,
          -1.3096832074465907,
          -1.5437257305804257,
          -1.3067347585872018,
          -1.0043402764843545,
          -0.8237122298236284,
          -1.2241452763508518,
          -1.5216170037312988,
          -0.9191760296509898,
          -1.4251853006500517,
          -0.9932669530947245,
          -1.2984671269339456,
          -0.6625903333621646,
          -1.2669342400739607,
          -1.4748379894912809,
          -0.3405207840988323,
          -1.392515300436429,
          -1.6124094920701317,
          -0.4263330805364263,
          -1.2531335647854012,
          -0.847438502738755,
          -1.3174793493238812,
          -0.13540606704162866,
          -0.476626190149453,
          -1.7355461453194245,
          -1.3740532863807617,
          -1.456694914780793,
          -1.5022251168311973,
          -1.4160111168230072,
          -1.3008906936742395,
          -1.3688192825010705,
          -0.5215296925596239,
          -1.520263292048601,
          -0.9578650021611838,
          -1.104874530928641,
          -1.410272285717166,
          -1.265771900491547,
          -1.021694613815817,
          -1.2149350821628548,
          -1.5443956219929502,
          -0.32166720321579895,
          -0.24217241196501643,
          -0.411483412949977,
          -1.562168927047507,
          -1.5805109431986955,
          -0.9836792581626089,
          -1.1406732919626403,
          -1.5589118342960553,
          -1.1810711046391964,
          -0.9099779791198298,
          -1.5347641537817154
         ],
         "yaxis": "y"
        }
       ],
       "layout": {
        "coloraxis": {
         "colorbar": {
          "title": {
           "text": "Cluster"
          }
         },
         "colorscale": [
          [
           0,
           "#0d0887"
          ],
          [
           0.1111111111111111,
           "#46039f"
          ],
          [
           0.2222222222222222,
           "#7201a8"
          ],
          [
           0.3333333333333333,
           "#9c179e"
          ],
          [
           0.4444444444444444,
           "#bd3786"
          ],
          [
           0.5555555555555556,
           "#d8576b"
          ],
          [
           0.6666666666666666,
           "#ed7953"
          ],
          [
           0.7777777777777778,
           "#fb9f3a"
          ],
          [
           0.8888888888888888,
           "#fdca26"
          ],
          [
           1,
           "#f0f921"
          ]
         ]
        },
        "legend": {
         "tracegroupgap": 0
        },
        "template": {
         "data": {
          "bar": [
           {
            "error_x": {
             "color": "#2a3f5f"
            },
            "error_y": {
             "color": "#2a3f5f"
            },
            "marker": {
             "line": {
              "color": "#E5ECF6",
              "width": 0.5
             },
             "pattern": {
              "fillmode": "overlay",
              "size": 10,
              "solidity": 0.2
             }
            },
            "type": "bar"
           }
          ],
          "barpolar": [
           {
            "marker": {
             "line": {
              "color": "#E5ECF6",
              "width": 0.5
             },
             "pattern": {
              "fillmode": "overlay",
              "size": 10,
              "solidity": 0.2
             }
            },
            "type": "barpolar"
           }
          ],
          "carpet": [
           {
            "aaxis": {
             "endlinecolor": "#2a3f5f",
             "gridcolor": "white",
             "linecolor": "white",
             "minorgridcolor": "white",
             "startlinecolor": "#2a3f5f"
            },
            "baxis": {
             "endlinecolor": "#2a3f5f",
             "gridcolor": "white",
             "linecolor": "white",
             "minorgridcolor": "white",
             "startlinecolor": "#2a3f5f"
            },
            "type": "carpet"
           }
          ],
          "choropleth": [
           {
            "colorbar": {
             "outlinewidth": 0,
             "ticks": ""
            },
            "type": "choropleth"
           }
          ],
          "contour": [
           {
            "colorbar": {
             "outlinewidth": 0,
             "ticks": ""
            },
            "colorscale": [
             [
              0,
              "#0d0887"
             ],
             [
              0.1111111111111111,
              "#46039f"
             ],
             [
              0.2222222222222222,
              "#7201a8"
             ],
             [
              0.3333333333333333,
              "#9c179e"
             ],
             [
              0.4444444444444444,
              "#bd3786"
             ],
             [
              0.5555555555555556,
              "#d8576b"
             ],
             [
              0.6666666666666666,
              "#ed7953"
             ],
             [
              0.7777777777777778,
              "#fb9f3a"
             ],
             [
              0.8888888888888888,
              "#fdca26"
             ],
             [
              1,
              "#f0f921"
             ]
            ],
            "type": "contour"
           }
          ],
          "contourcarpet": [
           {
            "colorbar": {
             "outlinewidth": 0,
             "ticks": ""
            },
            "type": "contourcarpet"
           }
          ],
          "heatmap": [
           {
            "colorbar": {
             "outlinewidth": 0,
             "ticks": ""
            },
            "colorscale": [
             [
              0,
              "#0d0887"
             ],
             [
              0.1111111111111111,
              "#46039f"
             ],
             [
              0.2222222222222222,
              "#7201a8"
             ],
             [
              0.3333333333333333,
              "#9c179e"
             ],
             [
              0.4444444444444444,
              "#bd3786"
             ],
             [
              0.5555555555555556,
              "#d8576b"
             ],
             [
              0.6666666666666666,
              "#ed7953"
             ],
             [
              0.7777777777777778,
              "#fb9f3a"
             ],
             [
              0.8888888888888888,
              "#fdca26"
             ],
             [
              1,
              "#f0f921"
             ]
            ],
            "type": "heatmap"
           }
          ],
          "heatmapgl": [
           {
            "colorbar": {
             "outlinewidth": 0,
             "ticks": ""
            },
            "colorscale": [
             [
              0,
              "#0d0887"
             ],
             [
              0.1111111111111111,
              "#46039f"
             ],
             [
              0.2222222222222222,
              "#7201a8"
             ],
             [
              0.3333333333333333,
              "#9c179e"
             ],
             [
              0.4444444444444444,
              "#bd3786"
             ],
             [
              0.5555555555555556,
              "#d8576b"
             ],
             [
              0.6666666666666666,
              "#ed7953"
             ],
             [
              0.7777777777777778,
              "#fb9f3a"
             ],
             [
              0.8888888888888888,
              "#fdca26"
             ],
             [
              1,
              "#f0f921"
             ]
            ],
            "type": "heatmapgl"
           }
          ],
          "histogram": [
           {
            "marker": {
             "pattern": {
              "fillmode": "overlay",
              "size": 10,
              "solidity": 0.2
             }
            },
            "type": "histogram"
           }
          ],
          "histogram2d": [
           {
            "colorbar": {
             "outlinewidth": 0,
             "ticks": ""
            },
            "colorscale": [
             [
              0,
              "#0d0887"
             ],
             [
              0.1111111111111111,
              "#46039f"
             ],
             [
              0.2222222222222222,
              "#7201a8"
             ],
             [
              0.3333333333333333,
              "#9c179e"
             ],
             [
              0.4444444444444444,
              "#bd3786"
             ],
             [
              0.5555555555555556,
              "#d8576b"
             ],
             [
              0.6666666666666666,
              "#ed7953"
             ],
             [
              0.7777777777777778,
              "#fb9f3a"
             ],
             [
              0.8888888888888888,
              "#fdca26"
             ],
             [
              1,
              "#f0f921"
             ]
            ],
            "type": "histogram2d"
           }
          ],
          "histogram2dcontour": [
           {
            "colorbar": {
             "outlinewidth": 0,
             "ticks": ""
            },
            "colorscale": [
             [
              0,
              "#0d0887"
             ],
             [
              0.1111111111111111,
              "#46039f"
             ],
             [
              0.2222222222222222,
              "#7201a8"
             ],
             [
              0.3333333333333333,
              "#9c179e"
             ],
             [
              0.4444444444444444,
              "#bd3786"
             ],
             [
              0.5555555555555556,
              "#d8576b"
             ],
             [
              0.6666666666666666,
              "#ed7953"
             ],
             [
              0.7777777777777778,
              "#fb9f3a"
             ],
             [
              0.8888888888888888,
              "#fdca26"
             ],
             [
              1,
              "#f0f921"
             ]
            ],
            "type": "histogram2dcontour"
           }
          ],
          "mesh3d": [
           {
            "colorbar": {
             "outlinewidth": 0,
             "ticks": ""
            },
            "type": "mesh3d"
           }
          ],
          "parcoords": [
           {
            "line": {
             "colorbar": {
              "outlinewidth": 0,
              "ticks": ""
             }
            },
            "type": "parcoords"
           }
          ],
          "pie": [
           {
            "automargin": true,
            "type": "pie"
           }
          ],
          "scatter": [
           {
            "fillpattern": {
             "fillmode": "overlay",
             "size": 10,
             "solidity": 0.2
            },
            "type": "scatter"
           }
          ],
          "scatter3d": [
           {
            "line": {
             "colorbar": {
              "outlinewidth": 0,
              "ticks": ""
             }
            },
            "marker": {
             "colorbar": {
              "outlinewidth": 0,
              "ticks": ""
             }
            },
            "type": "scatter3d"
           }
          ],
          "scattercarpet": [
           {
            "marker": {
             "colorbar": {
              "outlinewidth": 0,
              "ticks": ""
             }
            },
            "type": "scattercarpet"
           }
          ],
          "scattergeo": [
           {
            "marker": {
             "colorbar": {
              "outlinewidth": 0,
              "ticks": ""
             }
            },
            "type": "scattergeo"
           }
          ],
          "scattergl": [
           {
            "marker": {
             "colorbar": {
              "outlinewidth": 0,
              "ticks": ""
             }
            },
            "type": "scattergl"
           }
          ],
          "scattermapbox": [
           {
            "marker": {
             "colorbar": {
              "outlinewidth": 0,
              "ticks": ""
             }
            },
            "type": "scattermapbox"
           }
          ],
          "scatterpolar": [
           {
            "marker": {
             "colorbar": {
              "outlinewidth": 0,
              "ticks": ""
             }
            },
            "type": "scatterpolar"
           }
          ],
          "scatterpolargl": [
           {
            "marker": {
             "colorbar": {
              "outlinewidth": 0,
              "ticks": ""
             }
            },
            "type": "scatterpolargl"
           }
          ],
          "scatterternary": [
           {
            "marker": {
             "colorbar": {
              "outlinewidth": 0,
              "ticks": ""
             }
            },
            "type": "scatterternary"
           }
          ],
          "surface": [
           {
            "colorbar": {
             "outlinewidth": 0,
             "ticks": ""
            },
            "colorscale": [
             [
              0,
              "#0d0887"
             ],
             [
              0.1111111111111111,
              "#46039f"
             ],
             [
              0.2222222222222222,
              "#7201a8"
             ],
             [
              0.3333333333333333,
              "#9c179e"
             ],
             [
              0.4444444444444444,
              "#bd3786"
             ],
             [
              0.5555555555555556,
              "#d8576b"
             ],
             [
              0.6666666666666666,
              "#ed7953"
             ],
             [
              0.7777777777777778,
              "#fb9f3a"
             ],
             [
              0.8888888888888888,
              "#fdca26"
             ],
             [
              1,
              "#f0f921"
             ]
            ],
            "type": "surface"
           }
          ],
          "table": [
           {
            "cells": {
             "fill": {
              "color": "#EBF0F8"
             },
             "line": {
              "color": "white"
             }
            },
            "header": {
             "fill": {
              "color": "#C8D4E3"
             },
             "line": {
              "color": "white"
             }
            },
            "type": "table"
           }
          ]
         },
         "layout": {
          "annotationdefaults": {
           "arrowcolor": "#2a3f5f",
           "arrowhead": 0,
           "arrowwidth": 1
          },
          "autotypenumbers": "strict",
          "coloraxis": {
           "colorbar": {
            "outlinewidth": 0,
            "ticks": ""
           }
          },
          "colorscale": {
           "diverging": [
            [
             0,
             "#8e0152"
            ],
            [
             0.1,
             "#c51b7d"
            ],
            [
             0.2,
             "#de77ae"
            ],
            [
             0.3,
             "#f1b6da"
            ],
            [
             0.4,
             "#fde0ef"
            ],
            [
             0.5,
             "#f7f7f7"
            ],
            [
             0.6,
             "#e6f5d0"
            ],
            [
             0.7,
             "#b8e186"
            ],
            [
             0.8,
             "#7fbc41"
            ],
            [
             0.9,
             "#4d9221"
            ],
            [
             1,
             "#276419"
            ]
           ],
           "sequential": [
            [
             0,
             "#0d0887"
            ],
            [
             0.1111111111111111,
             "#46039f"
            ],
            [
             0.2222222222222222,
             "#7201a8"
            ],
            [
             0.3333333333333333,
             "#9c179e"
            ],
            [
             0.4444444444444444,
             "#bd3786"
            ],
            [
             0.5555555555555556,
             "#d8576b"
            ],
            [
             0.6666666666666666,
             "#ed7953"
            ],
            [
             0.7777777777777778,
             "#fb9f3a"
            ],
            [
             0.8888888888888888,
             "#fdca26"
            ],
            [
             1,
             "#f0f921"
            ]
           ],
           "sequentialminus": [
            [
             0,
             "#0d0887"
            ],
            [
             0.1111111111111111,
             "#46039f"
            ],
            [
             0.2222222222222222,
             "#7201a8"
            ],
            [
             0.3333333333333333,
             "#9c179e"
            ],
            [
             0.4444444444444444,
             "#bd3786"
            ],
            [
             0.5555555555555556,
             "#d8576b"
            ],
            [
             0.6666666666666666,
             "#ed7953"
            ],
            [
             0.7777777777777778,
             "#fb9f3a"
            ],
            [
             0.8888888888888888,
             "#fdca26"
            ],
            [
             1,
             "#f0f921"
            ]
           ]
          },
          "colorway": [
           "#636efa",
           "#EF553B",
           "#00cc96",
           "#ab63fa",
           "#FFA15A",
           "#19d3f3",
           "#FF6692",
           "#B6E880",
           "#FF97FF",
           "#FECB52"
          ],
          "font": {
           "color": "#2a3f5f"
          },
          "geo": {
           "bgcolor": "white",
           "lakecolor": "white",
           "landcolor": "#E5ECF6",
           "showlakes": true,
           "showland": true,
           "subunitcolor": "white"
          },
          "hoverlabel": {
           "align": "left"
          },
          "hovermode": "closest",
          "mapbox": {
           "style": "light"
          },
          "paper_bgcolor": "white",
          "plot_bgcolor": "#E5ECF6",
          "polar": {
           "angularaxis": {
            "gridcolor": "white",
            "linecolor": "white",
            "ticks": ""
           },
           "bgcolor": "#E5ECF6",
           "radialaxis": {
            "gridcolor": "white",
            "linecolor": "white",
            "ticks": ""
           }
          },
          "scene": {
           "xaxis": {
            "backgroundcolor": "#E5ECF6",
            "gridcolor": "white",
            "gridwidth": 2,
            "linecolor": "white",
            "showbackground": true,
            "ticks": "",
            "zerolinecolor": "white"
           },
           "yaxis": {
            "backgroundcolor": "#E5ECF6",
            "gridcolor": "white",
            "gridwidth": 2,
            "linecolor": "white",
            "showbackground": true,
            "ticks": "",
            "zerolinecolor": "white"
           },
           "zaxis": {
            "backgroundcolor": "#E5ECF6",
            "gridcolor": "white",
            "gridwidth": 2,
            "linecolor": "white",
            "showbackground": true,
            "ticks": "",
            "zerolinecolor": "white"
           }
          },
          "shapedefaults": {
           "line": {
            "color": "#2a3f5f"
           }
          },
          "ternary": {
           "aaxis": {
            "gridcolor": "white",
            "linecolor": "white",
            "ticks": ""
           },
           "baxis": {
            "gridcolor": "white",
            "linecolor": "white",
            "ticks": ""
           },
           "bgcolor": "#E5ECF6",
           "caxis": {
            "gridcolor": "white",
            "linecolor": "white",
            "ticks": ""
           }
          },
          "title": {
           "x": 0.05
          },
          "xaxis": {
           "automargin": true,
           "gridcolor": "white",
           "linecolor": "white",
           "ticks": "",
           "title": {
            "standoff": 15
           },
           "zerolinecolor": "white",
           "zerolinewidth": 2
          },
          "yaxis": {
           "automargin": true,
           "gridcolor": "white",
           "linecolor": "white",
           "ticks": "",
           "title": {
            "standoff": 15
           },
           "zerolinecolor": "white",
           "zerolinewidth": 2
          }
         }
        },
        "title": {
         "text": "DBSCAN Clusters in 2D PCA Space"
        },
        "xaxis": {
         "anchor": "y",
         "domain": [
          0,
          1
         ],
         "title": {
          "text": "PC1 (popularity)"
         }
        },
        "yaxis": {
         "anchor": "x",
         "domain": [
          0,
          1
         ],
         "title": {
          "text": "PC2 (quality)"
         }
        }
       }
      }
     },
     "metadata": {},
     "output_type": "display_data"
    }
   ],
   "source": [
    "# Plot the clusters in the 2D space\n",
    "df_pca['DBSCAN_cluster'] = dbscan_labels\n",
    "\n",
    "fig = px.scatter(\n",
    "  df_pca, \n",
    "  x='PC1', \n",
    "  y='PC2', \n",
    "  color='DBSCAN_cluster',\n",
    "  hover_data={'PC1': True, 'PC2': True, 'Series_Title': True},\n",
    "  labels={'DBSCAN_cluster': 'Cluster', 'PC1': 'PC1 (popularity)', 'PC2': 'PC2 (quality)'},\n",
    "  title='DBSCAN Clusters in 2D PCA Space'\n",
    ")\n",
    "fig.show()"
   ]
  },
  {
   "cell_type": "markdown",
   "metadata": {},
   "source": [
    "**Findings**:\n",
    "- This clustering algorithm helped identify some clusters in the data, but most of the entries ended up being classified as noise.\n",
    "- This is due to the fact that the DBSCAN clustering algorithm searches for high density areas, which might not fit the data we are working with on a larger scale."
   ]
  },
  {
   "cell_type": "markdown",
   "metadata": {},
   "source": [
    "# Classification with Support Vector Machines (Supervised Learning)"
   ]
  },
  {
   "cell_type": "markdown",
   "metadata": {},
   "source": [
    "A **Support Vector Machine** (SVM) is a supervised machine learning algorithm that classifies data by finding an optimal line or hyperplane that maximizes the distance between each class in an N-dimensional space.\n",
    "Parameters:  \n",
    "- gamma: Controls how far the influence of a single training example reaches."
   ]
  },
  {
   "cell_type": "code",
   "execution_count": 229,
   "metadata": {},
   "outputs": [],
   "source": [
    "# Train SVM model\n",
    "from sklearn.svm import SVC\n",
    "\n",
    "svm_classifier = SVC(kernel='rbf', C=1.0, gamma='scale', random_state=15)\n",
    "svm_classifier.fit(X_train, y_train)\n",
    "\n",
    "y_predicted = svm_classifier.predict(X_test)"
   ]
  },
  {
   "cell_type": "code",
   "execution_count": 230,
   "metadata": {},
   "outputs": [
    {
     "name": "stdout",
     "output_type": "stream",
     "text": [
      "Accuracy: 0.9747\n",
      "Confusion Matrix:\n",
      "[[119   1]\n",
      " [  4  74]]\n",
      "Precision: 0.9867\n",
      "Recall: 0.9487\n",
      "F1 Score: 0.9673\n"
     ]
    }
   ],
   "source": [
    "# Evaluate model\n",
    "# Accuracy\n",
    "accuracy = accuracy_score(y_test, y_predicted)\n",
    "print(\"Accuracy:\", round(accuracy, 4))\n",
    "\n",
    "# Confusion Matrix\n",
    "conf_matrix = confusion_matrix(y_test, y_predicted)\n",
    "print(\"Confusion Matrix:\")\n",
    "print(conf_matrix)\n",
    "\n",
    "# Precision, Recall, F1 Score\n",
    "precision = precision_score(y_test, y_predicted, zero_division=0)\n",
    "recall = recall_score(y_test, y_predicted, zero_division=0)\n",
    "f1 = f1_score(y_test, y_predicted, zero_division=0)\n",
    "\n",
    "print(\"Precision:\", round(precision, 4))\n",
    "print(\"Recall:\", round(recall, 4))\n",
    "print(\"F1 Score:\", round(f1, 4))"
   ]
  },
  {
   "cell_type": "markdown",
   "metadata": {},
   "source": [
    "**Performance:**  \n",
    "We see a very good performance of the model, with only 1 False Positive value and 4 False Negative values."
   ]
  },
  {
   "cell_type": "code",
   "execution_count": 238,
   "metadata": {},
   "outputs": [
    {
     "data": {
      "image/png": "[encoded data removed]",
      "text/plain": [
       "<Figure size 700x600 with 1 Axes>"
      ]
     },
     "metadata": {},
     "output_type": "display_data"
    }
   ],
   "source": [
    "# Plot decision boundary in PCA 2D space\n",
    "pca = PCA(n_components=2)\n",
    "X_train_pca = pca.fit_transform(X_train)\n",
    "X_test_pca = pca.transform(X_test)\n",
    "\n",
    "# Train SVM on the 2D training data:\n",
    "svm_classifier = SVC(kernel='rbf', C=1.0, gamma='scale', random_state=15)\n",
    "svm_classifier.fit(X_train_pca, y_train)\n",
    "\n",
    "x_min, x_max = X_test_pca[:, 0].min() - 1, X_test_pca[:, 0].max() + 1\n",
    "y_min, y_max = X_test_pca[:, 1].min() - 1, X_test_pca[:, 1].max() + 1\n",
    "xx, yy = np.meshgrid(np.linspace(x_min, x_max, 300), np.linspace(y_min, y_max, 300))\n",
    "\n",
    "# Predict labels for each point in the grid:\n",
    "grid_points = np.c_[xx.ravel(), yy.ravel()]\n",
    "Z = svm_classifier.predict(grid_points)\n",
    "Z = Z.reshape(xx.shape)\n",
    "\n",
    "# Plot the decision boundary:\n",
    "plt.figure(figsize=(7, 6))\n",
    "plt.contourf(xx, yy, Z, alpha=0.3, cmap=plt.cm.viridis)\n",
    "\n",
    "# Plot the decision boundary:\n",
    "colors = ['darkorange' if label == 1 else 'purple' for label in y_test]\n",
    "plt.scatter(X_test_pca[:, 0], X_test_pca[:, 1], c=colors, edgecolor='k', s=50)\n",
    "plt.xlabel(\"PC1 (popularity)\")\n",
    "plt.ylabel(\"PC2 (quality)\")\n",
    "plt.title(\"SVM Decision Boundary in 2D PCA Space\")\n",
    "plt.show()"
   ]
  }
 ],
 "metadata": {
  "kernelspec": {
   "display_name": "Python 3.13.2 ('machine-learning')",
   "language": "python",
   "name": "python3"
  },
  "language_info": {
   "codemirror_mode": {
    "name": "ipython",
    "version": 3
   },
   "file_extension": ".py",
   "mimetype": "text/x-python",
   "name": "python",
   "nbconvert_exporter": "python",
   "pygments_lexer": "ipython3",
   "version": "3.13.2"
  },
  "orig_nbformat": 4,
  "vscode": {
   "interpreter": {
    "hash": "c40bd4a24d4eb35634ec748fafc215d9fde3fcafe18088324a030d3ad2d3b16d"
   }
  }
 },
 "nbformat": 4,
 "nbformat_minor": 2
}
